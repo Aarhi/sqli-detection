{
  "cells": [
    {
      "cell_type": "markdown",
      "source": [
        "# Flask App for SQLIA Detection\n",
        "\n",
        "From our modeling notebook:\n",
        "- We have trained a BERT model on SQLIA detection which gives the highest F1-score among all other models\n",
        "- BERT model F1-score = 0.9977 at a threshold=0.3\n",
        "\n",
        "Our trained model is present in 'model.pkl' which are going to use for predicting whether our query is SQLIA or not.\n",
        "\n",
        "Drive link to demo app and model.pkl file: https://drive.google.com/drive/folders/15uctpzZqOFHY2sl0yqv3E3JV4-sWxolv?usp=sharing\n"
      ],
      "metadata": {
        "id": "NY-c5wlSl0CY"
      }
    },
    {
      "cell_type": "code",
      "execution_count": null,
      "metadata": {
        "colab": {
          "base_uri": "https://localhost:8080/"
        },
        "id": "lT8j_1Lq2uF0",
        "outputId": "e84dd9da-6d77-444b-e750-103158499bd3"
      },
      "outputs": [
        {
          "name": "stdout",
          "output_type": "stream",
          "text": [
            "Requirement already satisfied: tensorflow-text in /usr/local/lib/python3.7/dist-packages (2.8.1)\n",
            "Requirement already satisfied: tensorflow<2.9,>=2.8.0 in /usr/local/lib/python3.7/dist-packages (from tensorflow-text) (2.8.0)\n",
            "Requirement already satisfied: tensorflow-hub>=0.8.0 in /usr/local/lib/python3.7/dist-packages (from tensorflow-text) (0.12.0)\n",
            "Requirement already satisfied: tf-estimator-nightly==2.8.0.dev2021122109 in /usr/local/lib/python3.7/dist-packages (from tensorflow<2.9,>=2.8.0->tensorflow-text) (2.8.0.dev2021122109)\n",
            "Requirement already satisfied: numpy>=1.20 in /usr/local/lib/python3.7/dist-packages (from tensorflow<2.9,>=2.8.0->tensorflow-text) (1.21.5)\n",
            "Requirement already satisfied: tensorboard<2.9,>=2.8 in /usr/local/lib/python3.7/dist-packages (from tensorflow<2.9,>=2.8.0->tensorflow-text) (2.8.0)\n",
            "Requirement already satisfied: tensorflow-io-gcs-filesystem>=0.23.1 in /usr/local/lib/python3.7/dist-packages (from tensorflow<2.9,>=2.8.0->tensorflow-text) (0.24.0)\n",
            "Requirement already satisfied: h5py>=2.9.0 in /usr/local/lib/python3.7/dist-packages (from tensorflow<2.9,>=2.8.0->tensorflow-text) (3.1.0)\n",
            "Requirement already satisfied: grpcio<2.0,>=1.24.3 in /usr/local/lib/python3.7/dist-packages (from tensorflow<2.9,>=2.8.0->tensorflow-text) (1.44.0)\n",
            "Requirement already satisfied: astunparse>=1.6.0 in /usr/local/lib/python3.7/dist-packages (from tensorflow<2.9,>=2.8.0->tensorflow-text) (1.6.3)\n",
            "Requirement already satisfied: opt-einsum>=2.3.2 in /usr/local/lib/python3.7/dist-packages (from tensorflow<2.9,>=2.8.0->tensorflow-text) (3.3.0)\n",
            "Requirement already satisfied: keras<2.9,>=2.8.0rc0 in /usr/local/lib/python3.7/dist-packages (from tensorflow<2.9,>=2.8.0->tensorflow-text) (2.8.0)\n",
            "Requirement already satisfied: gast>=0.2.1 in /usr/local/lib/python3.7/dist-packages (from tensorflow<2.9,>=2.8.0->tensorflow-text) (0.5.3)\n",
            "Requirement already satisfied: flatbuffers>=1.12 in /usr/local/lib/python3.7/dist-packages (from tensorflow<2.9,>=2.8.0->tensorflow-text) (2.0)\n",
            "Requirement already satisfied: termcolor>=1.1.0 in /usr/local/lib/python3.7/dist-packages (from tensorflow<2.9,>=2.8.0->tensorflow-text) (1.1.0)\n",
            "Requirement already satisfied: google-pasta>=0.1.1 in /usr/local/lib/python3.7/dist-packages (from tensorflow<2.9,>=2.8.0->tensorflow-text) (0.2.0)\n",
            "Requirement already satisfied: typing-extensions>=3.6.6 in /usr/local/lib/python3.7/dist-packages (from tensorflow<2.9,>=2.8.0->tensorflow-text) (3.10.0.2)\n",
            "Requirement already satisfied: setuptools in /usr/local/lib/python3.7/dist-packages (from tensorflow<2.9,>=2.8.0->tensorflow-text) (57.4.0)\n",
            "Requirement already satisfied: wrapt>=1.11.0 in /usr/local/lib/python3.7/dist-packages (from tensorflow<2.9,>=2.8.0->tensorflow-text) (1.14.0)\n",
            "Requirement already satisfied: protobuf>=3.9.2 in /usr/local/lib/python3.7/dist-packages (from tensorflow<2.9,>=2.8.0->tensorflow-text) (3.17.3)\n",
            "Requirement already satisfied: keras-preprocessing>=1.1.1 in /usr/local/lib/python3.7/dist-packages (from tensorflow<2.9,>=2.8.0->tensorflow-text) (1.1.2)\n",
            "Requirement already satisfied: absl-py>=0.4.0 in /usr/local/lib/python3.7/dist-packages (from tensorflow<2.9,>=2.8.0->tensorflow-text) (1.0.0)\n",
            "Requirement already satisfied: libclang>=9.0.1 in /usr/local/lib/python3.7/dist-packages (from tensorflow<2.9,>=2.8.0->tensorflow-text) (13.0.0)\n",
            "Requirement already satisfied: six>=1.12.0 in /usr/local/lib/python3.7/dist-packages (from tensorflow<2.9,>=2.8.0->tensorflow-text) (1.15.0)\n",
            "Requirement already satisfied: wheel<1.0,>=0.23.0 in /usr/local/lib/python3.7/dist-packages (from astunparse>=1.6.0->tensorflow<2.9,>=2.8.0->tensorflow-text) (0.37.1)\n",
            "Requirement already satisfied: cached-property in /usr/local/lib/python3.7/dist-packages (from h5py>=2.9.0->tensorflow<2.9,>=2.8.0->tensorflow-text) (1.5.2)\n",
            "Requirement already satisfied: google-auth-oauthlib<0.5,>=0.4.1 in /usr/local/lib/python3.7/dist-packages (from tensorboard<2.9,>=2.8->tensorflow<2.9,>=2.8.0->tensorflow-text) (0.4.6)\n",
            "Requirement already satisfied: requests<3,>=2.21.0 in /usr/local/lib/python3.7/dist-packages (from tensorboard<2.9,>=2.8->tensorflow<2.9,>=2.8.0->tensorflow-text) (2.23.0)\n",
            "Requirement already satisfied: tensorboard-plugin-wit>=1.6.0 in /usr/local/lib/python3.7/dist-packages (from tensorboard<2.9,>=2.8->tensorflow<2.9,>=2.8.0->tensorflow-text) (1.8.1)\n",
            "Requirement already satisfied: google-auth<3,>=1.6.3 in /usr/local/lib/python3.7/dist-packages (from tensorboard<2.9,>=2.8->tensorflow<2.9,>=2.8.0->tensorflow-text) (1.35.0)\n",
            "Requirement already satisfied: tensorboard-data-server<0.7.0,>=0.6.0 in /usr/local/lib/python3.7/dist-packages (from tensorboard<2.9,>=2.8->tensorflow<2.9,>=2.8.0->tensorflow-text) (0.6.1)\n",
            "Requirement already satisfied: werkzeug>=0.11.15 in /usr/local/lib/python3.7/dist-packages (from tensorboard<2.9,>=2.8->tensorflow<2.9,>=2.8.0->tensorflow-text) (1.0.1)\n",
            "Requirement already satisfied: markdown>=2.6.8 in /usr/local/lib/python3.7/dist-packages (from tensorboard<2.9,>=2.8->tensorflow<2.9,>=2.8.0->tensorflow-text) (3.3.6)\n",
            "Requirement already satisfied: cachetools<5.0,>=2.0.0 in /usr/local/lib/python3.7/dist-packages (from google-auth<3,>=1.6.3->tensorboard<2.9,>=2.8->tensorflow<2.9,>=2.8.0->tensorflow-text) (4.2.4)\n",
            "Requirement already satisfied: rsa<5,>=3.1.4 in /usr/local/lib/python3.7/dist-packages (from google-auth<3,>=1.6.3->tensorboard<2.9,>=2.8->tensorflow<2.9,>=2.8.0->tensorflow-text) (4.8)\n",
            "Requirement already satisfied: pyasn1-modules>=0.2.1 in /usr/local/lib/python3.7/dist-packages (from google-auth<3,>=1.6.3->tensorboard<2.9,>=2.8->tensorflow<2.9,>=2.8.0->tensorflow-text) (0.2.8)\n",
            "Requirement already satisfied: requests-oauthlib>=0.7.0 in /usr/local/lib/python3.7/dist-packages (from google-auth-oauthlib<0.5,>=0.4.1->tensorboard<2.9,>=2.8->tensorflow<2.9,>=2.8.0->tensorflow-text) (1.3.1)\n",
            "Requirement already satisfied: importlib-metadata>=4.4 in /usr/local/lib/python3.7/dist-packages (from markdown>=2.6.8->tensorboard<2.9,>=2.8->tensorflow<2.9,>=2.8.0->tensorflow-text) (4.11.3)\n",
            "Requirement already satisfied: zipp>=0.5 in /usr/local/lib/python3.7/dist-packages (from importlib-metadata>=4.4->markdown>=2.6.8->tensorboard<2.9,>=2.8->tensorflow<2.9,>=2.8.0->tensorflow-text) (3.7.0)\n",
            "Requirement already satisfied: pyasn1<0.5.0,>=0.4.6 in /usr/local/lib/python3.7/dist-packages (from pyasn1-modules>=0.2.1->google-auth<3,>=1.6.3->tensorboard<2.9,>=2.8->tensorflow<2.9,>=2.8.0->tensorflow-text) (0.4.8)\n",
            "Requirement already satisfied: certifi>=2017.4.17 in /usr/local/lib/python3.7/dist-packages (from requests<3,>=2.21.0->tensorboard<2.9,>=2.8->tensorflow<2.9,>=2.8.0->tensorflow-text) (2021.10.8)\n",
            "Requirement already satisfied: idna<3,>=2.5 in /usr/local/lib/python3.7/dist-packages (from requests<3,>=2.21.0->tensorboard<2.9,>=2.8->tensorflow<2.9,>=2.8.0->tensorflow-text) (2.10)\n",
            "Requirement already satisfied: chardet<4,>=3.0.2 in /usr/local/lib/python3.7/dist-packages (from requests<3,>=2.21.0->tensorboard<2.9,>=2.8->tensorflow<2.9,>=2.8.0->tensorflow-text) (3.0.4)\n",
            "Requirement already satisfied: urllib3!=1.25.0,!=1.25.1,<1.26,>=1.21.1 in /usr/local/lib/python3.7/dist-packages (from requests<3,>=2.21.0->tensorboard<2.9,>=2.8->tensorflow<2.9,>=2.8.0->tensorflow-text) (1.24.3)\n",
            "Requirement already satisfied: oauthlib>=3.0.0 in /usr/local/lib/python3.7/dist-packages (from requests-oauthlib>=0.7.0->google-auth-oauthlib<0.5,>=0.4.1->tensorboard<2.9,>=2.8->tensorflow<2.9,>=2.8.0->tensorflow-text) (3.2.0)\n"
          ]
        }
      ],
      "source": [
        "!pip install tensorflow-text"
      ]
    },
    {
      "cell_type": "markdown",
      "source": [
        "Run these commands to install ngrok. \n",
        "- To use ngrok, you have to create an account in https://ngrok.com/. \n",
        "- You can find your authentication token in https://dashboard.ngrok.com/get-started/your-authtoken.\n",
        "\n",
        "\n",
        "\n",
        "```\n",
        "!pip install pyngrok==4.1.1\n",
        "!ngrok authtoken <your-auth-token>\n",
        "```\n",
        "\n"
      ],
      "metadata": {
        "id": "TJdSAaPHJBej"
      }
    },
    {
      "cell_type": "code",
      "execution_count": null,
      "metadata": {
        "colab": {
          "base_uri": "https://localhost:8080/"
        },
        "id": "38SFzQxf-Rw9",
        "outputId": "644c025e-dd4c-4b64-9133-966cc790112c"
      },
      "outputs": [
        {
          "name": "stdout",
          "output_type": "stream",
          "text": [
            "Requirement already satisfied: pyngrok==4.1.1 in /usr/local/lib/python3.7/dist-packages (4.1.1)\n",
            "Requirement already satisfied: future in /usr/local/lib/python3.7/dist-packages (from pyngrok==4.1.1) (0.16.0)\n",
            "Requirement already satisfied: PyYAML in /usr/local/lib/python3.7/dist-packages (from pyngrok==4.1.1) (3.13)\n",
            "Authtoken saved to configuration file: /root/.ngrok2/ngrok.yml\n"
          ]
        }
      ],
      "source": [
        "!pip install pyngrok==4.1.1\n",
        "!ngrok authtoken <your-auth-token>"
      ]
    },
    {
      "cell_type": "markdown",
      "source": [
        "## Creating html templates\n",
        "\n",
        "We are creating the html templates for our application here. The code below creates the following directory structure:"
      ],
      "metadata": {
        "id": "JBkUn3h6nQfu"
      }
    },
    {
      "cell_type": "markdown",
      "source": [
        "\n",
        "\n",
        "```\n",
        ">Templates\n",
        "...>index.html\n",
        "...>result.html\n",
        "```\n",
        "\n"
      ],
      "metadata": {
        "id": "UOQ6MGi4nl52"
      }
    },
    {
      "cell_type": "markdown",
      "source": [
        "- We input our SQL query in index.html\n",
        "- We get the prediction in result.html"
      ],
      "metadata": {
        "id": "5McjtCCLoOld"
      }
    },
    {
      "cell_type": "code",
      "execution_count": null,
      "metadata": {
        "id": "_1QnJGNj_FZ8"
      },
      "outputs": [],
      "source": [
        "# Creating a new directory Templates\n",
        "!rm -rf Templates\n",
        "!mkdir Templates"
      ]
    },
    {
      "cell_type": "code",
      "execution_count": null,
      "metadata": {
        "id": "Dhjwt4YJOO1l"
      },
      "outputs": [],
      "source": [
        "# Creating Templates/index.html\n",
        "with open('Templates/index.html', 'w') as f:\n",
        "  f.write('''<!DOCTYPE html>\n",
        "<html lang=\"en\">\n",
        "<head>\n",
        "    <meta charset=\"UTF-8\">\n",
        "    <title>SQL Injection Predictor</title>\n",
        "</head>\n",
        "<body>\n",
        "\n",
        "    <h1>SQL Injection Predictor</h1>\n",
        "    <p>Model that predicts whether a SQL query is an injection or not.</p>\n",
        "    <form action=\"predict\" method=\"post\">\n",
        "        <label for=\"query\">SQL Query:</label>\n",
        "        <input type=\"text\" id=\"query\" name=\"query\"><br><br>\n",
        "        <input type=\"submit\" value=\"Submit\">\n",
        "    </form>\n",
        "</body>\n",
        "</html>''')\n",
        "  \n",
        "\n",
        "# Creating Templates/result.html\n",
        "with open('Templates/result.html', 'w') as f:\n",
        "  f.write('''Your query \"<strong>{{query}}</strong>\" {{prediction}}\n",
        "<br>\n",
        "<br>\n",
        "Execution time: {{extime}} seconds''')"
      ]
    },
    {
      "cell_type": "markdown",
      "source": [
        "## Creating the Flask app"
      ],
      "metadata": {
        "id": "CllDC3JJoq8R"
      }
    },
    {
      "cell_type": "code",
      "execution_count": null,
      "metadata": {
        "colab": {
          "base_uri": "https://localhost:8080/"
        },
        "id": "7BtVrXGJ-nlO",
        "outputId": "29e85732-4147-4b80-daec-ab2a05fbe508"
      },
      "outputs": [
        {
          "output_type": "stream",
          "name": "stdout",
          "text": [
            "WARNING:tensorflow:No training configuration found in save file, so the model was *not* compiled. Compile it manually.\n",
            " * Serving Flask app \"__main__\" (lazy loading)\n",
            " * Environment: production\n",
            "\u001b[31m   WARNING: This is a development server. Do not use it in a production deployment.\u001b[0m\n",
            "\u001b[2m   Use a production WSGI server instead.\u001b[0m\n",
            " * Debug mode: off\n"
          ]
        },
        {
          "output_type": "stream",
          "name": "stderr",
          "text": [
            " * Running on http://127.0.0.1:5000/ (Press CTRL+C to quit)\n"
          ]
        },
        {
          "output_type": "stream",
          "name": "stdout",
          "text": [
            " * Running on http://3ca0-34-125-97-11.ngrok.io\n",
            " * Traffic stats available on http://127.0.0.1:4040\n"
          ]
        },
        {
          "output_type": "stream",
          "name": "stderr",
          "text": [
            "127.0.0.1 - - [10/Apr/2022 08:20:55] \"\u001b[37mGET / HTTP/1.1\u001b[0m\" 200 -\n",
            "127.0.0.1 - - [10/Apr/2022 08:20:57] \"\u001b[33mGET /favicon.ico HTTP/1.1\u001b[0m\" 404 -\n"
          ]
        },
        {
          "output_type": "stream",
          "name": "stdout",
          "text": [
            "WARNING:tensorflow:6 out of the last 13 calls to <function Model.make_predict_function.<locals>.predict_function at 0x7faece7a60e0> triggered tf.function retracing. Tracing is expensive and the excessive number of tracings could be due to (1) creating @tf.function repeatedly in a loop, (2) passing tensors with different shapes, (3) passing Python objects instead of tensors. For (1), please define your @tf.function outside of the loop. For (2), @tf.function has experimental_relax_shapes=True option that relaxes argument shapes that can avoid unnecessary retracing. For (3), please refer to https://www.tensorflow.org/guide/function#controlling_retracing and https://www.tensorflow.org/api_docs/python/tf/function for  more details.\n"
          ]
        },
        {
          "output_type": "stream",
          "name": "stderr",
          "text": [
            "127.0.0.1 - - [10/Apr/2022 08:21:44] \"\u001b[32mPOST /predict HTTP/1.1\u001b[0m\" 302 -\n",
            "127.0.0.1 - - [10/Apr/2022 08:22:03] \"\u001b[37mGET /result/OR%201%3D1/is%20SQLI/0.472 HTTP/1.1\u001b[0m\" 200 -\n",
            "127.0.0.1 - - [10/Apr/2022 08:23:21] \"\u001b[32mPOST /predict HTTP/1.1\u001b[0m\" 302 -\n",
            "127.0.0.1 - - [10/Apr/2022 08:23:22] \"\u001b[37mGET /result/OR%201%3D1/is%20SQLI/0.099 HTTP/1.1\u001b[0m\" 200 -\n",
            "127.0.0.1 - - [10/Apr/2022 08:23:32] \"\u001b[32mPOST /predict HTTP/1.1\u001b[0m\" 302 -\n",
            "127.0.0.1 - - [10/Apr/2022 08:23:32] \"\u001b[37mGET /result/abc123/is%20not%20SQLI/0.092 HTTP/1.1\u001b[0m\" 200 -\n"
          ]
        }
      ],
      "source": [
        "# https://stackoverflow.com/questions/66030868/error-rendering-html-template-with-flask-and-google-colab\n",
        "# https://stackoverflow.com/questions/70342717/colab-unable-to-access-webpage-using-flask-ngrok\n",
        "\n",
        "\n",
        "# importing libraries\n",
        "from flask import Flask, request, redirect, url_for\n",
        "import flask\n",
        "from flask_ngrok import run_with_ngrok\n",
        "from sklearn.metrics import f1_score\n",
        "import numpy as np\n",
        "import pandas as pd\n",
        "import re\n",
        "import tensorflow_text as text\n",
        "import joblib\n",
        "import time\n",
        "\n",
        "\n",
        "# Model prediction functions\n",
        "num_reg = re.compile(r'[0-9]+')\n",
        "hex_reg = re.compile(r'0x[A-Fa-f0-9]+\\b') # regex to match hexadecimal numbers\n",
        "\n",
        "# function to preprocess the query\n",
        "def replace_num_hex(query):\n",
        "    q = num_reg.sub('<num>', query)\n",
        "    q = hex_reg.sub('<hex>', q)\n",
        "    return q\n",
        "\n",
        "# loading the model\n",
        "model = joblib.load('model.pkl')\n",
        "\n",
        "# setting optimum threshold\n",
        "OPTIMUM_THRESHOLD = 0.3\n",
        "\n",
        "# function to predict if query is SQLI\n",
        "def model_predict(query):\n",
        "  \"\"\"\n",
        "  Predicts if the query is SQLI or not.\n",
        "  Inputs:\n",
        "  query(str): SQL query\n",
        "  Returns:\n",
        "  prediction(bool): True if query is SQLI\n",
        "  \"\"\"\n",
        "  try:\n",
        "    assert type(query) == str\n",
        "    preprocessed_input = replace_num_hex(query)\n",
        "    model_input = np.ravel(preprocessed_input)\n",
        "    model_output = model.predict(model_input)\n",
        "    prediction = model_output[0][0] > OPTIMUM_THRESHOLD\n",
        "    return prediction\n",
        "  except AssertionError:\n",
        "    print(\"Enter str input. Current input is of type {}.\".format(type(query)))\n",
        "\n",
        "\n",
        "# Flask App\n",
        "app = Flask(__name__, template_folder='/content/Templates')\n",
        "run_with_ngrok(app)\n",
        "\n",
        "\n",
        "@app.route(\"/\")\n",
        "def index():\n",
        "    return flask.render_template('index.html')\n",
        "\n",
        "\n",
        "@app.route('/predict', methods=['POST'])\n",
        "def predict():\n",
        "\n",
        "    in_query = request.form['query']\n",
        "    start_time = time.time()\n",
        "    is_sqli = model_predict(in_query)\n",
        "    if is_sqli:\n",
        "        prediction = \"is SQLI\"\n",
        "    else:\n",
        "        prediction = \"is not SQLI\"\n",
        "    execution_time = time.time() - start_time\n",
        "    return redirect(url_for('result', query=in_query, prediction=prediction, extime=round(execution_time,3)))\n",
        "\n",
        "\n",
        "@app.route('/result/<query>/<prediction>/<extime>', methods=['GET'])\n",
        "def result(query, prediction, extime):\n",
        "    return flask.render_template('result.html', query=query, prediction=prediction, extime=extime)\n",
        "\n",
        "\n",
        "app.run()"
      ]
    }
  ],
  "metadata": {
    "colab": {
      "collapsed_sections": [],
      "name": "Flask_app_final.ipynb",
      "provenance": []
    },
    "kernelspec": {
      "display_name": "Python 3",
      "name": "python3"
    },
    "language_info": {
      "name": "python"
    }
  },
  "nbformat": 4,
  "nbformat_minor": 0
}