{
 "cells": [
  {
   "cell_type": "code",
   "execution_count": 1,
   "id": "01b07e5b",
   "metadata": {
    "id": "01b07e5b"
   },
   "outputs": [],
   "source": [
    "import numpy as np\n",
    "import pandas as pd\n",
    "import random\n",
    "from sklearn.feature_extraction.text import TfidfVectorizer\n",
    "import json\n",
    "import re\n",
    "\n",
    "from wordcloud import WordCloud, STOPWORDS, ImageColorGenerator\n",
    "\n",
    "import matplotlib.pyplot as plt\n",
    "\n",
    "from sklearn.naive_bayes import GaussianNB\n",
    "from sklearn.ensemble import RandomForestClassifier\n",
    "import lightgbm as lgb\n",
    "from sklearn.model_selection import train_test_split\n",
    "\n",
    "from sklearn.metrics import precision_recall_curve, f1_score, precision_recall_fscore_support\n",
    "\n",
    "import gensim.downloader as api\n",
    "\n",
    "import os\n",
    "import joblib"
   ]
  },
  {
   "cell_type": "code",
   "execution_count": null,
   "id": "d3eafbb7",
   "metadata": {},
   "outputs": [],
   "source": [
    "#pip install -q -U \"tensorflow-text==2.8.*\"\n",
    "#pip install -q tf-models-official==2.7.0\n",
    "#pip install tensorflow-text"
   ]
  },
  {
   "cell_type": "code",
   "execution_count": null,
   "id": "c2adc454",
   "metadata": {
    "id": "c2adc454"
   },
   "outputs": [],
   "source": [
    "import tensorflow as tf\n",
    "import tensorflow_hub as hub\n",
    "import tensorflow_text as text\n",
    "from official.nlp import optimization\n",
    "from tensorflow import keras\n",
    "from tensorflow.keras import layers"
   ]
  },
  {
   "cell_type": "code",
   "execution_count": 2,
   "id": "f69a566d",
   "metadata": {
    "colab": {
     "base_uri": "https://localhost:8080/",
     "height": 374
    },
    "id": "f69a566d",
    "outputId": "076a5273-bc35-4c81-8fb3-4b6bcbdc2a14"
   },
   "outputs": [
    {
     "data": {
      "text/html": [
       "<div>\n",
       "<style scoped>\n",
       "    .dataframe tbody tr th:only-of-type {\n",
       "        vertical-align: middle;\n",
       "    }\n",
       "\n",
       "    .dataframe tbody tr th {\n",
       "        vertical-align: top;\n",
       "    }\n",
       "\n",
       "    .dataframe thead th {\n",
       "        text-align: right;\n",
       "    }\n",
       "</style>\n",
       "<table border=\"1\" class=\"dataframe\">\n",
       "  <thead>\n",
       "    <tr style=\"text-align: right;\">\n",
       "      <th></th>\n",
       "      <th>Query</th>\n",
       "      <th>SQLIA</th>\n",
       "      <th>char_len</th>\n",
       "      <th>word_len</th>\n",
       "      <th>small</th>\n",
       "      <th>has_keywords</th>\n",
       "      <th>is_complete_query</th>\n",
       "      <th>one_word</th>\n",
       "      <th>query_proc</th>\n",
       "      <th>always_true</th>\n",
       "      <th>sent_pol</th>\n",
       "      <th>entropy</th>\n",
       "    </tr>\n",
       "  </thead>\n",
       "  <tbody>\n",
       "    <tr>\n",
       "      <th>0</th>\n",
       "      <td>\" or pg_sleep  (  __TIME__  )  --</td>\n",
       "      <td>True</td>\n",
       "      <td>33</td>\n",
       "      <td>7</td>\n",
       "      <td>\" or pg_sleep  (  __time__  )  --</td>\n",
       "      <td>True</td>\n",
       "      <td>False</td>\n",
       "      <td>False</td>\n",
       "      <td>\" or pg_sleep  (  __TIME__  )  --</td>\n",
       "      <td>False</td>\n",
       "      <td>0.0</td>\n",
       "      <td>2.807355</td>\n",
       "    </tr>\n",
       "    <tr>\n",
       "      <th>1</th>\n",
       "      <td>create user name identified by pass123 tempora...</td>\n",
       "      <td>True</td>\n",
       "      <td>90</td>\n",
       "      <td>12</td>\n",
       "      <td>create user name identified by pass123 tempora...</td>\n",
       "      <td>True</td>\n",
       "      <td>True</td>\n",
       "      <td>False</td>\n",
       "      <td>create user name identified by pass&lt;num&gt; tempo...</td>\n",
       "      <td>False</td>\n",
       "      <td>0.0</td>\n",
       "      <td>3.418296</td>\n",
       "    </tr>\n",
       "    <tr>\n",
       "      <th>2</th>\n",
       "      <td>AND 1  =  utl_inaddr.get_host_address   (    ...</td>\n",
       "      <td>True</td>\n",
       "      <td>218</td>\n",
       "      <td>35</td>\n",
       "      <td>and 1  =  utl_inaddr.get_host_address   (    ...</td>\n",
       "      <td>True</td>\n",
       "      <td>False</td>\n",
       "      <td>False</td>\n",
       "      <td>AND &lt;num&gt;  =  utl_inaddr.get_host_address   (...</td>\n",
       "      <td>True</td>\n",
       "      <td>0.3</td>\n",
       "      <td>3.987164</td>\n",
       "    </tr>\n",
       "    <tr>\n",
       "      <th>3</th>\n",
       "      <td>select * from users where id  =  '1' or @ @1 ...</td>\n",
       "      <td>True</td>\n",
       "      <td>90</td>\n",
       "      <td>20</td>\n",
       "      <td>select * from users where id  =  '1' or @ @1 ...</td>\n",
       "      <td>True</td>\n",
       "      <td>False</td>\n",
       "      <td>False</td>\n",
       "      <td>select * from users where id  =  '&lt;num&gt;' or @...</td>\n",
       "      <td>False</td>\n",
       "      <td>0.0</td>\n",
       "      <td>4.121928</td>\n",
       "    </tr>\n",
       "    <tr>\n",
       "      <th>4</th>\n",
       "      <td>select * from users where id  =  1 or 1#\"  ( ...</td>\n",
       "      <td>True</td>\n",
       "      <td>85</td>\n",
       "      <td>18</td>\n",
       "      <td>select * from users where id  =  1 or 1#\"  ( ...</td>\n",
       "      <td>True</td>\n",
       "      <td>False</td>\n",
       "      <td>False</td>\n",
       "      <td>select * from users where id  =  &lt;num&gt; or &lt;nu...</td>\n",
       "      <td>False</td>\n",
       "      <td>0.0</td>\n",
       "      <td>3.836592</td>\n",
       "    </tr>\n",
       "  </tbody>\n",
       "</table>\n",
       "</div>"
      ],
      "text/plain": [
       "                                               Query  SQLIA  char_len  \\\n",
       "0                  \" or pg_sleep  (  __TIME__  )  --   True        33   \n",
       "1  create user name identified by pass123 tempora...   True        90   \n",
       "2   AND 1  =  utl_inaddr.get_host_address   (    ...   True       218   \n",
       "3   select * from users where id  =  '1' or @ @1 ...   True        90   \n",
       "4   select * from users where id  =  1 or 1#\"  ( ...   True        85   \n",
       "\n",
       "   word_len                                              small  has_keywords  \\\n",
       "0         7                  \" or pg_sleep  (  __time__  )  --          True   \n",
       "1        12  create user name identified by pass123 tempora...          True   \n",
       "2        35   and 1  =  utl_inaddr.get_host_address   (    ...          True   \n",
       "3        20   select * from users where id  =  '1' or @ @1 ...          True   \n",
       "4        18   select * from users where id  =  1 or 1#\"  ( ...          True   \n",
       "\n",
       "   is_complete_query  one_word  \\\n",
       "0              False     False   \n",
       "1               True     False   \n",
       "2              False     False   \n",
       "3              False     False   \n",
       "4              False     False   \n",
       "\n",
       "                                          query_proc  always_true  sent_pol  \\\n",
       "0                  \" or pg_sleep  (  __TIME__  )  --        False       0.0   \n",
       "1  create user name identified by pass<num> tempo...        False       0.0   \n",
       "2   AND <num>  =  utl_inaddr.get_host_address   (...         True       0.3   \n",
       "3   select * from users where id  =  '<num>' or @...        False       0.0   \n",
       "4   select * from users where id  =  <num> or <nu...        False       0.0   \n",
       "\n",
       "    entropy  \n",
       "0  2.807355  \n",
       "1  3.418296  \n",
       "2  3.987164  \n",
       "3  4.121928  \n",
       "4  3.836592  "
      ]
     },
     "execution_count": 2,
     "metadata": {},
     "output_type": "execute_result"
    }
   ],
   "source": [
    "mod_data = pd.read_csv('EDA_processed_data.csv', index_col=0, engine='c')\n",
    "\n",
    "mod_data.head()"
   ]
  },
  {
   "cell_type": "code",
   "execution_count": 3,
   "id": "e64d005c",
   "metadata": {
    "id": "e64d005c",
    "outputId": "83699a6f-df1a-44b6-846e-768b637588f4"
   },
   "outputs": [
    {
     "data": {
      "text/plain": [
       "(30905, 12)"
      ]
     },
     "execution_count": 3,
     "metadata": {},
     "output_type": "execute_result"
    }
   ],
   "source": [
    "mod_data.shape"
   ]
  },
  {
   "cell_type": "code",
   "execution_count": 4,
   "id": "b7fa330f",
   "metadata": {},
   "outputs": [],
   "source": [
    "# Removing unwanted columns\n",
    "mod_data.drop(['Query', 'small'], axis=1, inplace=True)"
   ]
  },
  {
   "cell_type": "code",
   "execution_count": 5,
   "id": "baa2e78b",
   "metadata": {},
   "outputs": [],
   "source": [
    "# Converting columns with boolean values to numerical\n",
    "col_names = ['SQLIA', 'has_keywords', 'is_complete_query', 'one_word', 'always_true']\n",
    "for col in col_names:\n",
    "    mod_data[col] = mod_data[col].apply(int)"
   ]
  },
  {
   "cell_type": "code",
   "execution_count": 6,
   "id": "b5c7fa97",
   "metadata": {},
   "outputs": [
    {
     "data": {
      "text/html": [
       "<div>\n",
       "<style scoped>\n",
       "    .dataframe tbody tr th:only-of-type {\n",
       "        vertical-align: middle;\n",
       "    }\n",
       "\n",
       "    .dataframe tbody tr th {\n",
       "        vertical-align: top;\n",
       "    }\n",
       "\n",
       "    .dataframe thead th {\n",
       "        text-align: right;\n",
       "    }\n",
       "</style>\n",
       "<table border=\"1\" class=\"dataframe\">\n",
       "  <thead>\n",
       "    <tr style=\"text-align: right;\">\n",
       "      <th></th>\n",
       "      <th>SQLIA</th>\n",
       "      <th>char_len</th>\n",
       "      <th>word_len</th>\n",
       "      <th>has_keywords</th>\n",
       "      <th>is_complete_query</th>\n",
       "      <th>one_word</th>\n",
       "      <th>query_proc</th>\n",
       "      <th>always_true</th>\n",
       "      <th>sent_pol</th>\n",
       "      <th>entropy</th>\n",
       "    </tr>\n",
       "  </thead>\n",
       "  <tbody>\n",
       "    <tr>\n",
       "      <th>0</th>\n",
       "      <td>1</td>\n",
       "      <td>33</td>\n",
       "      <td>7</td>\n",
       "      <td>1</td>\n",
       "      <td>0</td>\n",
       "      <td>0</td>\n",
       "      <td>\" or pg_sleep  (  __TIME__  )  --</td>\n",
       "      <td>0</td>\n",
       "      <td>0.0</td>\n",
       "      <td>2.807355</td>\n",
       "    </tr>\n",
       "    <tr>\n",
       "      <th>1</th>\n",
       "      <td>1</td>\n",
       "      <td>90</td>\n",
       "      <td>12</td>\n",
       "      <td>1</td>\n",
       "      <td>1</td>\n",
       "      <td>0</td>\n",
       "      <td>create user name identified by pass&lt;num&gt; tempo...</td>\n",
       "      <td>0</td>\n",
       "      <td>0.0</td>\n",
       "      <td>3.418296</td>\n",
       "    </tr>\n",
       "    <tr>\n",
       "      <th>2</th>\n",
       "      <td>1</td>\n",
       "      <td>218</td>\n",
       "      <td>35</td>\n",
       "      <td>1</td>\n",
       "      <td>0</td>\n",
       "      <td>0</td>\n",
       "      <td>AND &lt;num&gt;  =  utl_inaddr.get_host_address   (...</td>\n",
       "      <td>1</td>\n",
       "      <td>0.3</td>\n",
       "      <td>3.987164</td>\n",
       "    </tr>\n",
       "    <tr>\n",
       "      <th>3</th>\n",
       "      <td>1</td>\n",
       "      <td>90</td>\n",
       "      <td>20</td>\n",
       "      <td>1</td>\n",
       "      <td>0</td>\n",
       "      <td>0</td>\n",
       "      <td>select * from users where id  =  '&lt;num&gt;' or @...</td>\n",
       "      <td>0</td>\n",
       "      <td>0.0</td>\n",
       "      <td>4.121928</td>\n",
       "    </tr>\n",
       "    <tr>\n",
       "      <th>4</th>\n",
       "      <td>1</td>\n",
       "      <td>85</td>\n",
       "      <td>18</td>\n",
       "      <td>1</td>\n",
       "      <td>0</td>\n",
       "      <td>0</td>\n",
       "      <td>select * from users where id  =  &lt;num&gt; or &lt;nu...</td>\n",
       "      <td>0</td>\n",
       "      <td>0.0</td>\n",
       "      <td>3.836592</td>\n",
       "    </tr>\n",
       "  </tbody>\n",
       "</table>\n",
       "</div>"
      ],
      "text/plain": [
       "   SQLIA  char_len  word_len  has_keywords  is_complete_query  one_word  \\\n",
       "0      1        33         7             1                  0         0   \n",
       "1      1        90        12             1                  1         0   \n",
       "2      1       218        35             1                  0         0   \n",
       "3      1        90        20             1                  0         0   \n",
       "4      1        85        18             1                  0         0   \n",
       "\n",
       "                                          query_proc  always_true  sent_pol  \\\n",
       "0                  \" or pg_sleep  (  __TIME__  )  --            0       0.0   \n",
       "1  create user name identified by pass<num> tempo...            0       0.0   \n",
       "2   AND <num>  =  utl_inaddr.get_host_address   (...            1       0.3   \n",
       "3   select * from users where id  =  '<num>' or @...            0       0.0   \n",
       "4   select * from users where id  =  <num> or <nu...            0       0.0   \n",
       "\n",
       "    entropy  \n",
       "0  2.807355  \n",
       "1  3.418296  \n",
       "2  3.987164  \n",
       "3  4.121928  \n",
       "4  3.836592  "
      ]
     },
     "execution_count": 6,
     "metadata": {},
     "output_type": "execute_result"
    }
   ],
   "source": [
    "mod_data.head()"
   ]
  },
  {
   "cell_type": "code",
   "execution_count": 7,
   "id": "a98b1801",
   "metadata": {
    "id": "a98b1801",
    "outputId": "1c39e587-9e06-40ab-a577-01c5376fd75b"
   },
   "outputs": [
    {
     "data": {
      "text/plain": [
       "0    63.187187\n",
       "1    36.812813\n",
       "Name: SQLIA, dtype: float64"
      ]
     },
     "execution_count": 7,
     "metadata": {},
     "output_type": "execute_result"
    }
   ],
   "source": [
    "mod_data['SQLIA'].value_counts()/mod_data.shape[0] * 100"
   ]
  },
  {
   "cell_type": "markdown",
   "id": "e2bff63d",
   "metadata": {
    "id": "e2bff63d"
   },
   "source": [
    "As we can see, our class distribution is a slight imbalance. We will bring down the imbalance to a 60-40 ratio using 2 methods:\n",
    "1. Downsampling normal queries\n",
    "2. Upsampling SQLIA queries by random duplication\n",
    "\n",
    "### Dealing with Class Imbalance\n",
    "\n",
    "#### 1. Downsampling normal queries\n",
    "\n",
    "We need to reduce the number of normal queries by about 2000 to get a 60-40 ratio."
   ]
  },
  {
   "cell_type": "code",
   "execution_count": 8,
   "id": "3d279b2a",
   "metadata": {
    "id": "3d279b2a"
   },
   "outputs": [],
   "source": [
    "drop_no = 2000 # number of samples to drop"
   ]
  },
  {
   "cell_type": "code",
   "execution_count": 9,
   "id": "da99c93b",
   "metadata": {
    "id": "da99c93b"
   },
   "outputs": [],
   "source": [
    "normal_indices = mod_data[mod_data['SQLIA']==False].index.to_list()\n",
    "drop_indices = random.sample(normal_indices, drop_no) # randomly sampling indices to drop"
   ]
  },
  {
   "cell_type": "code",
   "execution_count": 10,
   "id": "f7dc113d",
   "metadata": {
    "id": "f7dc113d",
    "outputId": "4afe6f1e-3de9-4e07-a4e4-1191cd8bdf4e"
   },
   "outputs": [
    {
     "data": {
      "text/plain": [
       "(28905, 10)"
      ]
     },
     "execution_count": 10,
     "metadata": {},
     "output_type": "execute_result"
    }
   ],
   "source": [
    "mod_data_down = mod_data.drop(labels=drop_indices)\n",
    "mod_data_down.shape"
   ]
  },
  {
   "cell_type": "code",
   "execution_count": 11,
   "id": "13edd279",
   "metadata": {
    "id": "13edd279",
    "outputId": "343e0cd5-9db7-4dfa-8cba-2b83e4286bd2"
   },
   "outputs": [
    {
     "data": {
      "text/plain": [
       "0    60.640028\n",
       "1    39.359972\n",
       "Name: SQLIA, dtype: float64"
      ]
     },
     "execution_count": 11,
     "metadata": {},
     "output_type": "execute_result"
    }
   ],
   "source": [
    "mod_data_down['SQLIA'].value_counts()/mod_data_down.shape[0] * 100"
   ]
  },
  {
   "cell_type": "markdown",
   "id": "8082f2a6",
   "metadata": {
    "id": "8082f2a6"
   },
   "source": [
    "#### 2. Upsampling SQLIA queries by random query duplication"
   ]
  },
  {
   "cell_type": "code",
   "execution_count": 12,
   "id": "50709bd3",
   "metadata": {
    "id": "50709bd3"
   },
   "outputs": [],
   "source": [
    "duplicate_no = 2000"
   ]
  },
  {
   "cell_type": "code",
   "execution_count": 13,
   "id": "ae02311a",
   "metadata": {
    "id": "ae02311a"
   },
   "outputs": [],
   "source": [
    "sqlia_indices = mod_data[mod_data['SQLIA']==True].index.to_list()\n",
    "duplicate_indices = random.sample(sqlia_indices, duplicate_no) # randomly sampling indices to duplicate"
   ]
  },
  {
   "cell_type": "code",
   "execution_count": 14,
   "id": "603dfe93",
   "metadata": {
    "id": "603dfe93",
    "outputId": "ab1de7c7-2729-4da3-91ce-7f0be0edbe44"
   },
   "outputs": [
    {
     "data": {
      "text/plain": [
       "(32905, 10)"
      ]
     },
     "execution_count": 14,
     "metadata": {},
     "output_type": "execute_result"
    }
   ],
   "source": [
    "mod_data_up = pd.concat([mod_data, mod_data.loc[duplicate_indices]])\n",
    "mod_data_up.shape"
   ]
  },
  {
   "cell_type": "code",
   "execution_count": 15,
   "id": "cac3a74b",
   "metadata": {
    "id": "cac3a74b",
    "outputId": "369b91e4-5618-404f-f3ed-278ceb3410c5"
   },
   "outputs": [
    {
     "data": {
      "text/plain": [
       "0    59.346604\n",
       "1    40.653396\n",
       "Name: SQLIA, dtype: float64"
      ]
     },
     "execution_count": 15,
     "metadata": {},
     "output_type": "execute_result"
    }
   ],
   "source": [
    "mod_data_up['SQLIA'].value_counts()/mod_data_up.shape[0] * 100"
   ]
  },
  {
   "cell_type": "markdown",
   "id": "92046dab",
   "metadata": {
    "id": "92046dab"
   },
   "source": [
    "We will be using the original, downsampled and upsampled versions of the dataset for modeling and compare their results.\n",
    "\n",
    "### WordCloud"
   ]
  },
  {
   "cell_type": "code",
   "execution_count": 16,
   "id": "38f318a4",
   "metadata": {
    "id": "38f318a4",
    "outputId": "d6adaa94-7a24-4ff0-c9bd-e9dbff672bb6"
   },
   "outputs": [
    {
     "data": {
      "text/plain": [
       "['all', 'all select', 'and', 'and num', 'as']"
      ]
     },
     "execution_count": 16,
     "metadata": {},
     "output_type": "execute_result"
    }
   ],
   "source": [
    "with open('invalid_tokens.txt', 'r') as f: # From EDA\n",
    "    invalid_tokens = json.loads(f.read())\n",
    "invalid_tokens[:5]"
   ]
  },
  {
   "cell_type": "code",
   "execution_count": 17,
   "id": "82e3b702",
   "metadata": {
    "id": "82e3b702",
    "outputId": "83a08fb4-d8e0-4424-c123-404ba39a438e"
   },
   "outputs": [
    {
     "data": {
      "image/png": "[encoded data removed]",
      "text/plain": [
       "<Figure size 432x288 with 1 Axes>"
      ]
     },
     "metadata": {
      "needs_background": "light"
     },
     "output_type": "display_data"
    }
   ],
   "source": [
    "# Source: https://www.datacamp.com/community/tutorials/wordcloud-python\n",
    "stopwords = set(STOPWORDS)\n",
    "stopwords.update(invalid_tokens)\n",
    "\n",
    "sqlia_text = \" \".join(mod_data[mod_data['SQLIA']==True]['query_proc'].to_list())\n",
    "sqlia_wordcloud = WordCloud().generate(sqlia_text)\n",
    "\n",
    "normal_text = \" \".join(mod_data[mod_data['SQLIA']==False]['query_proc'].to_list())\n",
    "normal_wordcloud = WordCloud().generate(normal_text)\n",
    "\n",
    "plt.figure()\n",
    "plt.imshow(sqlia_wordcloud, interpolation=\"bilinear\")\n",
    "plt.axis(\"off\")\n",
    "plt.title(\"Most frequent SQLIA tokens\")\n",
    "plt.show()"
   ]
  },
  {
   "cell_type": "code",
   "execution_count": 18,
   "id": "41716d0b",
   "metadata": {
    "id": "41716d0b",
    "outputId": "656550ad-8949-4da6-dc26-7fbc57f0a1d7"
   },
   "outputs": [
    {
     "data": {
      "image/png": "[encoded data removed]",
      "text/plain": [
       "<Figure size 432x288 with 1 Axes>"
      ]
     },
     "metadata": {
      "needs_background": "light"
     },
     "output_type": "display_data"
    }
   ],
   "source": [
    "plt.figure()\n",
    "plt.imshow(normal_wordcloud, interpolation=\"bilinear\")\n",
    "plt.axis(\"off\")\n",
    "plt.title(\"Most frequent normal tokens\")\n",
    "plt.show()"
   ]
  },
  {
   "cell_type": "markdown",
   "id": "183cd8fa",
   "metadata": {},
   "source": [
    "### Splitting into train and test sets"
   ]
  },
  {
   "cell_type": "code",
   "execution_count": 19,
   "id": "5991ba96",
   "metadata": {
    "id": "5991ba96"
   },
   "outputs": [],
   "source": [
    "def prepare_data(data):\n",
    "    \n",
    "    X = data.drop('SQLIA', axis=1)\n",
    "    y = data['SQLIA'].apply(int)\n",
    "    X_tr, X_te, y_tr, y_te = train_test_split(X, y, test_size=0.25, random_state=0)    \n",
    "    X_tr = X_tr.drop('query_proc', axis=1)\n",
    "    X_te = X_te.drop('query_proc', axis=1)\n",
    "    return X_tr, X_te, y_tr, y_te"
   ]
  },
  {
   "cell_type": "code",
   "execution_count": 20,
   "id": "660f27f2",
   "metadata": {},
   "outputs": [],
   "source": [
    "X_train, X_test, y_train, y_test = prepare_data(mod_data)"
   ]
  },
  {
   "cell_type": "markdown",
   "id": "74942046",
   "metadata": {
    "id": "74942046"
   },
   "source": [
    "### Top bi-grams and tri-grams\n",
    "\n",
    "From EDA, we have observed that not all tokens signify anything meaningful. E.g. tokens like \"SELECT\", \"ALL\". We will use these tokens as stop words for our vectorizer."
   ]
  },
  {
   "cell_type": "code",
   "execution_count": 21,
   "id": "3ef56efd",
   "metadata": {
    "id": "3ef56efd",
    "outputId": "ea3f5a9e-f2c7-4e92-f4c0-bfee52eebcff"
   },
   "outputs": [
    {
     "data": {
      "text/plain": [
       "(23178, 351)"
      ]
     },
     "execution_count": 21,
     "metadata": {},
     "output_type": "execute_result"
    }
   ],
   "source": [
    "vectorizer = TfidfVectorizer(ngram_range=(2,3), min_df=10, stop_words=invalid_tokens)\n",
    "X_train_tfidf = vectorizer.fit_transform(mod_data['query_proc'].loc[X_train.index])\n",
    "X_train_tfidf.shape"
   ]
  },
  {
   "cell_type": "code",
   "execution_count": 22,
   "id": "4d2db4f6",
   "metadata": {},
   "outputs": [
    {
     "data": {
      "text/plain": [
       "(7727, 351)"
      ]
     },
     "execution_count": 22,
     "metadata": {},
     "output_type": "execute_result"
    }
   ],
   "source": [
    "X_test_tfidf = vectorizer.transform(mod_data['query_proc'].loc[X_test.index])\n",
    "X_test_tfidf.shape"
   ]
  },
  {
   "cell_type": "code",
   "execution_count": 23,
   "id": "6820871f",
   "metadata": {
    "id": "6820871f",
    "outputId": "f39699a7-21d7-478d-cc47-5620b34183ec"
   },
   "outputs": [
    {
     "name": "stdout",
     "output_type": "stream",
     "text": [
      "['abcdefg upper', 'abcdefg upper hex', 'acf field', 'acf field wp_posts', 'all_users all_users', 'all_users all_users all_users', 'analyse extractvalue', 'analyse extractvalue concat', 'asc wp_posts', 'asc wp_posts post_title', 'avg price', 'banner version', 'banner version rownum', 'benchmark md', 'boolean mode', 'call regexp_substring', 'call regexp_substring repeat', 'case when', 'case when then', 'cast chr', 'cast chr chr', 'cast int', 'cast int dual', 'char case', 'char case when', 'char char', 'char char case', 'char char char', 'char char else', 'char char end', 'char char regexp_substring', 'char else', 'char else char', 'char end', 'char end char', 'char end information_schema', 'char regexp_substring', 'char regexp_substring repeat', 'character_sets end', 'chr case', 'chr case when', 'chr chr', 'chr chr case', 'chr chr chr', 'chr chr dual', 'chr chr numeric', 'chr dual', 'chr numeric', 'city country', 'collations rdb']\n"
     ]
    }
   ],
   "source": [
    "vec_features = vectorizer.get_feature_names()\n",
    "X_train_tfidf = pd.DataFrame(X_train_tfidf.toarray(), columns=vec_features, index=X_train.index)\n",
    "print(vec_features[:50])"
   ]
  },
  {
   "cell_type": "code",
   "execution_count": 24,
   "id": "8e90ce83",
   "metadata": {},
   "outputs": [],
   "source": [
    "X_test_tfidf = pd.DataFrame(X_test_tfidf.toarray(), columns=vec_features, index=X_test.index)"
   ]
  },
  {
   "cell_type": "code",
   "execution_count": 25,
   "id": "eb7b2933",
   "metadata": {
    "id": "eb7b2933"
   },
   "outputs": [],
   "source": [
    "# finding top 20 tokens\n",
    "\n",
    "def find_top(is_sqlia, N):\n",
    "    \n",
    "    '''\n",
    "    This function finds the top N tokens which are most frequent in given query type\n",
    "    Parameter is_sqlia: (bool) True if we want the top N tokens of SQLIA queries\n",
    "    Returns the top N tokens as a dataframe, with their respective count values\n",
    "    '''\n",
    "    df = X_train_tfidf[y_train==is_sqlia]\n",
    "    return df.sum(axis=0).sort_values(ascending=False).head(N)\n",
    "sqlia_top_20 = find_top(True, 20)\n",
    "normal_top_20 = find_top(False, 20)"
   ]
  },
  {
   "cell_type": "code",
   "execution_count": 26,
   "id": "d52d3058",
   "metadata": {
    "id": "d52d3058",
    "outputId": "da6043b6-56ab-43b9-bf7e-115151124279"
   },
   "outputs": [
    {
     "data": {
      "image/png": "[encoded data removed]",
      "text/plain": [
       "<Figure size 432x288 with 1 Axes>"
      ]
     },
     "metadata": {
      "needs_background": "light"
     },
     "output_type": "display_data"
    }
   ],
   "source": [
    "plt.bar(sqlia_top_20.index, sqlia_top_20.values)\n",
    "plt.xticks(rotation=90)\n",
    "plt.show()"
   ]
  },
  {
   "cell_type": "code",
   "execution_count": 27,
   "id": "df378325",
   "metadata": {
    "id": "df378325",
    "outputId": "aae370a1-9879-471c-e04a-4c5ddfb209c3"
   },
   "outputs": [
    {
     "data": {
      "image/png": "[encoded data removed]",
      "text/plain": [
       "<Figure size 432x288 with 1 Axes>"
      ]
     },
     "metadata": {
      "needs_background": "light"
     },
     "output_type": "display_data"
    }
   ],
   "source": [
    "plt.bar(normal_top_20.index, normal_top_20.values)\n",
    "plt.xticks(rotation=90)\n",
    "plt.show()"
   ]
  },
  {
   "cell_type": "markdown",
   "id": "effacb69",
   "metadata": {
    "id": "effacb69"
   },
   "source": [
    "### Building a baseline model - Naive Bayes\n",
    "\n",
    "We will use the features we got from EDA to train a Naive Bayes classifier."
   ]
  },
  {
   "cell_type": "code",
   "execution_count": 28,
   "id": "506d617c",
   "metadata": {},
   "outputs": [
    {
     "data": {
      "text/html": [
       "<div>\n",
       "<style scoped>\n",
       "    .dataframe tbody tr th:only-of-type {\n",
       "        vertical-align: middle;\n",
       "    }\n",
       "\n",
       "    .dataframe tbody tr th {\n",
       "        vertical-align: top;\n",
       "    }\n",
       "\n",
       "    .dataframe thead th {\n",
       "        text-align: right;\n",
       "    }\n",
       "</style>\n",
       "<table border=\"1\" class=\"dataframe\">\n",
       "  <thead>\n",
       "    <tr style=\"text-align: right;\">\n",
       "      <th></th>\n",
       "      <th>char_len</th>\n",
       "      <th>word_len</th>\n",
       "      <th>has_keywords</th>\n",
       "      <th>is_complete_query</th>\n",
       "      <th>one_word</th>\n",
       "      <th>always_true</th>\n",
       "      <th>sent_pol</th>\n",
       "      <th>entropy</th>\n",
       "    </tr>\n",
       "  </thead>\n",
       "  <tbody>\n",
       "    <tr>\n",
       "      <th>24721</th>\n",
       "      <td>83</td>\n",
       "      <td>14</td>\n",
       "      <td>1</td>\n",
       "      <td>1</td>\n",
       "      <td>0</td>\n",
       "      <td>0</td>\n",
       "      <td>0.1</td>\n",
       "      <td>3.521641</td>\n",
       "    </tr>\n",
       "    <tr>\n",
       "      <th>658</th>\n",
       "      <td>49</td>\n",
       "      <td>9</td>\n",
       "      <td>1</td>\n",
       "      <td>1</td>\n",
       "      <td>0</td>\n",
       "      <td>0</td>\n",
       "      <td>0.0</td>\n",
       "      <td>2.947703</td>\n",
       "    </tr>\n",
       "    <tr>\n",
       "      <th>2624</th>\n",
       "      <td>61</td>\n",
       "      <td>12</td>\n",
       "      <td>1</td>\n",
       "      <td>0</td>\n",
       "      <td>0</td>\n",
       "      <td>1</td>\n",
       "      <td>0.0</td>\n",
       "      <td>3.251629</td>\n",
       "    </tr>\n",
       "    <tr>\n",
       "      <th>3912</th>\n",
       "      <td>42</td>\n",
       "      <td>8</td>\n",
       "      <td>1</td>\n",
       "      <td>0</td>\n",
       "      <td>0</td>\n",
       "      <td>1</td>\n",
       "      <td>0.0</td>\n",
       "      <td>2.750000</td>\n",
       "    </tr>\n",
       "    <tr>\n",
       "      <th>27555</th>\n",
       "      <td>33</td>\n",
       "      <td>5</td>\n",
       "      <td>1</td>\n",
       "      <td>1</td>\n",
       "      <td>0</td>\n",
       "      <td>0</td>\n",
       "      <td>0.3</td>\n",
       "      <td>2.321928</td>\n",
       "    </tr>\n",
       "  </tbody>\n",
       "</table>\n",
       "</div>"
      ],
      "text/plain": [
       "       char_len  word_len  has_keywords  is_complete_query  one_word  \\\n",
       "24721        83        14             1                  1         0   \n",
       "658          49         9             1                  1         0   \n",
       "2624         61        12             1                  0         0   \n",
       "3912         42         8             1                  0         0   \n",
       "27555        33         5             1                  1         0   \n",
       "\n",
       "       always_true  sent_pol   entropy  \n",
       "24721            0       0.1  3.521641  \n",
       "658              0       0.0  2.947703  \n",
       "2624             1       0.0  3.251629  \n",
       "3912             1       0.0  2.750000  \n",
       "27555            0       0.3  2.321928  "
      ]
     },
     "execution_count": 28,
     "metadata": {},
     "output_type": "execute_result"
    }
   ],
   "source": [
    "X_train.head()"
   ]
  },
  {
   "cell_type": "code",
   "execution_count": 29,
   "id": "55f783ba",
   "metadata": {
    "id": "55f783ba"
   },
   "outputs": [],
   "source": [
    "gnb = GaussianNB()\n",
    "gnb.fit(X_train, y_train)\n",
    "y_scores = gnb.predict_proba(X_test)"
   ]
  },
  {
   "cell_type": "code",
   "execution_count": 30,
   "id": "bc311f04",
   "metadata": {
    "id": "bc311f04",
    "outputId": "5ecc27e4-c085-49f0-cdb2-75a29e009885"
   },
   "outputs": [
    {
     "data": {
      "text/plain": [
       "0.7662218972765491"
      ]
     },
     "execution_count": 30,
     "metadata": {},
     "output_type": "execute_result"
    }
   ],
   "source": [
    "y_pred = gnb.predict(X_test)\n",
    "f1_score(y_test, y_pred)"
   ]
  },
  {
   "cell_type": "code",
   "execution_count": 31,
   "id": "5af7fc64",
   "metadata": {
    "id": "5af7fc64"
   },
   "outputs": [],
   "source": [
    "# Source: https://scikit-learn.org/stable/modules/generated/sklearn.metrics.precision_recall_curve.html\n",
    "precision, recall, thresholds = precision_recall_curve(y_test, y_scores[:, 1])"
   ]
  },
  {
   "cell_type": "code",
   "execution_count": 32,
   "id": "16e50f45",
   "metadata": {
    "id": "16e50f45",
    "outputId": "61ba4432-5065-4864-c9cc-6a634571beaf"
   },
   "outputs": [
    {
     "data": {
      "image/png": "[encoded data removed]",
      "text/plain": [
       "<Figure size 432x288 with 1 Axes>"
      ]
     },
     "metadata": {
      "needs_background": "light"
     },
     "output_type": "display_data"
    }
   ],
   "source": [
    "plt.plot([0, 1], [1, 0])\n",
    "plt.plot(precision, recall)\n",
    "plt.title(\"Naive Bayes: Precision-Recall Curve\")\n",
    "plt.xlabel(\"Precision\")\n",
    "plt.ylabel(\"Recall\")\n",
    "plt.show()"
   ]
  },
  {
   "cell_type": "code",
   "execution_count": 33,
   "id": "41c6e62b",
   "metadata": {
    "id": "41c6e62b"
   },
   "outputs": [],
   "source": [
    "f1 = (2 * precision * recall)/(precision + recall)"
   ]
  },
  {
   "cell_type": "code",
   "execution_count": 34,
   "id": "38498205",
   "metadata": {
    "id": "38498205",
    "outputId": "be88bf73-8c72-43cb-bcaf-c484d31dff74"
   },
   "outputs": [
    {
     "data": {
      "text/plain": [
       "1135"
      ]
     },
     "execution_count": 34,
     "metadata": {},
     "output_type": "execute_result"
    }
   ],
   "source": [
    "argmax_base = f1.argmax()\n",
    "argmax_base"
   ]
  },
  {
   "cell_type": "code",
   "execution_count": 35,
   "id": "f3dc9635",
   "metadata": {
    "id": "f3dc9635"
   },
   "outputs": [],
   "source": [
    "def print_values(arg):\n",
    "    print(\"Threshold:\", thresholds[arg])\n",
    "    print(\"Precision:\", precision[arg])\n",
    "    print(\"Recall:\", recall[arg])\n",
    "    print(\"F1-score:\", f1[arg])"
   ]
  },
  {
   "cell_type": "code",
   "execution_count": 36,
   "id": "29c8910f",
   "metadata": {
    "id": "29c8910f",
    "outputId": "6b352e4a-8970-4ca1-e65b-ce7c70620807"
   },
   "outputs": [
    {
     "name": "stdout",
     "output_type": "stream",
     "text": [
      "Threshold: 0.09341821859871466\n",
      "Precision: 0.6984126984126984\n",
      "Recall: 0.946236559139785\n",
      "F1-score: 0.8036529680365297\n"
     ]
    }
   ],
   "source": [
    "print_values(argmax_base)"
   ]
  },
  {
   "cell_type": "code",
   "execution_count": 37,
   "id": "6a9c3ea0",
   "metadata": {
    "id": "6a9c3ea0",
    "outputId": "72a51448-224b-4ff9-80c4-4615c939b33b"
   },
   "outputs": [
    {
     "data": {
      "text/html": [
       "<div>\n",
       "<style scoped>\n",
       "    .dataframe tbody tr th:only-of-type {\n",
       "        vertical-align: middle;\n",
       "    }\n",
       "\n",
       "    .dataframe tbody tr th {\n",
       "        vertical-align: top;\n",
       "    }\n",
       "\n",
       "    .dataframe thead th {\n",
       "        text-align: right;\n",
       "    }\n",
       "</style>\n",
       "<table border=\"1\" class=\"dataframe\">\n",
       "  <thead>\n",
       "    <tr style=\"text-align: right;\">\n",
       "      <th></th>\n",
       "      <th>F1-score</th>\n",
       "      <th>Threshold</th>\n",
       "    </tr>\n",
       "  </thead>\n",
       "  <tbody>\n",
       "    <tr>\n",
       "      <th>Naive Bayes</th>\n",
       "      <td>0.803653</td>\n",
       "      <td>0.093418</td>\n",
       "    </tr>\n",
       "  </tbody>\n",
       "</table>\n",
       "</div>"
      ],
      "text/plain": [
       "             F1-score  Threshold\n",
       "Naive Bayes  0.803653   0.093418"
      ]
     },
     "execution_count": 37,
     "metadata": {},
     "output_type": "execute_result"
    }
   ],
   "source": [
    "result = pd.DataFrame(index=['Naive Bayes'], data={'F1-score':[f1[argmax_base]], 'Threshold':[thresholds[argmax_base]]})\n",
    "result"
   ]
  },
  {
   "cell_type": "code",
   "execution_count": 38,
   "id": "51636487",
   "metadata": {
    "id": "51636487"
   },
   "outputs": [],
   "source": [
    "def addResult(model, f1, th):\n",
    "    result.loc[model] = [f1, th]"
   ]
  },
  {
   "cell_type": "markdown",
   "id": "d671c134",
   "metadata": {
    "id": "d671c134"
   },
   "source": [
    "###### Downsampled"
   ]
  },
  {
   "cell_type": "code",
   "execution_count": 39,
   "id": "549ffa8c",
   "metadata": {
    "id": "549ffa8c"
   },
   "outputs": [],
   "source": [
    "X_train_d, X_test_d, y_train_d, y_test_d = prepare_data(mod_data_down)"
   ]
  },
  {
   "cell_type": "code",
   "execution_count": 40,
   "id": "acaf835a",
   "metadata": {
    "id": "acaf835a",
    "outputId": "d00317a6-4024-4e86-bff4-d87bd1e49bd4"
   },
   "outputs": [
    {
     "name": "stdout",
     "output_type": "stream",
     "text": [
      "Threshold: 0.11036146423765597\n",
      "Precision: 0.7268211920529801\n",
      "Recall: 0.9430719656283566\n",
      "F1-score: 0.8209443665264142\n"
     ]
    }
   ],
   "source": [
    "gnb = GaussianNB()\n",
    "gnb.fit(X_train_d, y_train_d)\n",
    "y_scores_d = gnb.predict_proba(X_test_d)\n",
    "precision, recall, thresholds = precision_recall_curve(y_test_d, y_scores_d[:, 1])\n",
    "f1 = (2 * precision * recall)/(precision + recall)\n",
    "print_values(f1.argmax())"
   ]
  },
  {
   "cell_type": "code",
   "execution_count": 41,
   "id": "feb03a25",
   "metadata": {
    "id": "feb03a25",
    "outputId": "93f80f4b-874d-4372-cda0-fade6b927d87"
   },
   "outputs": [
    {
     "data": {
      "text/html": [
       "<div>\n",
       "<style scoped>\n",
       "    .dataframe tbody tr th:only-of-type {\n",
       "        vertical-align: middle;\n",
       "    }\n",
       "\n",
       "    .dataframe tbody tr th {\n",
       "        vertical-align: top;\n",
       "    }\n",
       "\n",
       "    .dataframe thead th {\n",
       "        text-align: right;\n",
       "    }\n",
       "</style>\n",
       "<table border=\"1\" class=\"dataframe\">\n",
       "  <thead>\n",
       "    <tr style=\"text-align: right;\">\n",
       "      <th></th>\n",
       "      <th>F1-score</th>\n",
       "      <th>Threshold</th>\n",
       "    </tr>\n",
       "  </thead>\n",
       "  <tbody>\n",
       "    <tr>\n",
       "      <th>Naive Bayes</th>\n",
       "      <td>0.803653</td>\n",
       "      <td>0.093418</td>\n",
       "    </tr>\n",
       "    <tr>\n",
       "      <th>Naive Bayes down</th>\n",
       "      <td>0.820944</td>\n",
       "      <td>0.110361</td>\n",
       "    </tr>\n",
       "  </tbody>\n",
       "</table>\n",
       "</div>"
      ],
      "text/plain": [
       "                  F1-score  Threshold\n",
       "Naive Bayes       0.803653   0.093418\n",
       "Naive Bayes down  0.820944   0.110361"
      ]
     },
     "execution_count": 41,
     "metadata": {},
     "output_type": "execute_result"
    }
   ],
   "source": [
    "addResult('Naive Bayes down', f1.max(), thresholds[f1.argmax()])\n",
    "result"
   ]
  },
  {
   "cell_type": "markdown",
   "id": "a2b15dc1",
   "metadata": {
    "id": "a2b15dc1"
   },
   "source": [
    "###### Upsampled"
   ]
  },
  {
   "cell_type": "code",
   "execution_count": 42,
   "id": "7527486b",
   "metadata": {},
   "outputs": [],
   "source": [
    "X_train_u, X_test_u, y_train_u, y_test_u = prepare_data(mod_data_up)"
   ]
  },
  {
   "cell_type": "code",
   "execution_count": 43,
   "id": "416349ea",
   "metadata": {
    "id": "416349ea",
    "outputId": "ccd08afa-e99d-41cc-c804-e993b4167973"
   },
   "outputs": [
    {
     "name": "stdout",
     "output_type": "stream",
     "text": [
      "Threshold: 0.13094098465818033\n",
      "Precision: 0.7399488728793865\n",
      "Recall: 0.9487485101311085\n",
      "F1-score: 0.8314401357879618\n"
     ]
    }
   ],
   "source": [
    "gnb = GaussianNB()\n",
    "gnb.fit(X_train_u, y_train_u)\n",
    "y_scores_u = gnb.predict_proba(X_test_u)\n",
    "precision, recall, thresholds = precision_recall_curve(y_test_u, y_scores_u[:, 1])\n",
    "f1 = (2 * precision * recall)/(precision + recall)\n",
    "print_values(f1.argmax())"
   ]
  },
  {
   "cell_type": "code",
   "execution_count": 44,
   "id": "07d1a1df",
   "metadata": {
    "id": "07d1a1df",
    "outputId": "8770eb0f-a79c-4899-c0b9-588adf89daaf"
   },
   "outputs": [
    {
     "data": {
      "text/html": [
       "<div>\n",
       "<style scoped>\n",
       "    .dataframe tbody tr th:only-of-type {\n",
       "        vertical-align: middle;\n",
       "    }\n",
       "\n",
       "    .dataframe tbody tr th {\n",
       "        vertical-align: top;\n",
       "    }\n",
       "\n",
       "    .dataframe thead th {\n",
       "        text-align: right;\n",
       "    }\n",
       "</style>\n",
       "<table border=\"1\" class=\"dataframe\">\n",
       "  <thead>\n",
       "    <tr style=\"text-align: right;\">\n",
       "      <th></th>\n",
       "      <th>F1-score</th>\n",
       "      <th>Threshold</th>\n",
       "    </tr>\n",
       "  </thead>\n",
       "  <tbody>\n",
       "    <tr>\n",
       "      <th>Naive Bayes</th>\n",
       "      <td>0.803653</td>\n",
       "      <td>0.093418</td>\n",
       "    </tr>\n",
       "    <tr>\n",
       "      <th>Naive Bayes down</th>\n",
       "      <td>0.820944</td>\n",
       "      <td>0.110361</td>\n",
       "    </tr>\n",
       "    <tr>\n",
       "      <th>Naive Bayes up</th>\n",
       "      <td>0.831440</td>\n",
       "      <td>0.130941</td>\n",
       "    </tr>\n",
       "  </tbody>\n",
       "</table>\n",
       "</div>"
      ],
      "text/plain": [
       "                  F1-score  Threshold\n",
       "Naive Bayes       0.803653   0.093418\n",
       "Naive Bayes down  0.820944   0.110361\n",
       "Naive Bayes up    0.831440   0.130941"
      ]
     },
     "execution_count": 44,
     "metadata": {},
     "output_type": "execute_result"
    }
   ],
   "source": [
    "addResult('Naive Bayes up', f1.max(), thresholds[f1.argmax()])\n",
    "result"
   ]
  },
  {
   "cell_type": "markdown",
   "id": "3da33dda",
   "metadata": {},
   "source": [
    "### Random Forest model"
   ]
  },
  {
   "cell_type": "code",
   "execution_count": 45,
   "id": "7df59341",
   "metadata": {},
   "outputs": [
    {
     "name": "stdout",
     "output_type": "stream",
     "text": [
      "Threshold: 0.5946318504051553\n",
      "Precision: 0.9882266372332598\n",
      "Recall: 0.9627240143369176\n",
      "F1-score: 0.9753086419753086\n"
     ]
    }
   ],
   "source": [
    "rdf = RandomForestClassifier(min_samples_split=5, random_state=0)\n",
    "rdf.fit(X_train, y_train)\n",
    "y_scores = rdf.predict_proba(X_test)\n",
    "precision, recall, thresholds = precision_recall_curve(y_test, y_scores[:, 1])\n",
    "f1 = (2 * precision * recall)/(precision + recall)\n",
    "print_values(f1.argmax())"
   ]
  },
  {
   "cell_type": "code",
   "execution_count": 46,
   "id": "4bc8ba0a",
   "metadata": {},
   "outputs": [
    {
     "data": {
      "text/html": [
       "<div>\n",
       "<style scoped>\n",
       "    .dataframe tbody tr th:only-of-type {\n",
       "        vertical-align: middle;\n",
       "    }\n",
       "\n",
       "    .dataframe tbody tr th {\n",
       "        vertical-align: top;\n",
       "    }\n",
       "\n",
       "    .dataframe thead th {\n",
       "        text-align: right;\n",
       "    }\n",
       "</style>\n",
       "<table border=\"1\" class=\"dataframe\">\n",
       "  <thead>\n",
       "    <tr style=\"text-align: right;\">\n",
       "      <th></th>\n",
       "      <th>F1-score</th>\n",
       "      <th>Threshold</th>\n",
       "    </tr>\n",
       "  </thead>\n",
       "  <tbody>\n",
       "    <tr>\n",
       "      <th>Naive Bayes</th>\n",
       "      <td>0.803653</td>\n",
       "      <td>0.093418</td>\n",
       "    </tr>\n",
       "    <tr>\n",
       "      <th>Naive Bayes down</th>\n",
       "      <td>0.820944</td>\n",
       "      <td>0.110361</td>\n",
       "    </tr>\n",
       "    <tr>\n",
       "      <th>Naive Bayes up</th>\n",
       "      <td>0.831440</td>\n",
       "      <td>0.130941</td>\n",
       "    </tr>\n",
       "    <tr>\n",
       "      <th>Random Forest</th>\n",
       "      <td>0.975309</td>\n",
       "      <td>0.594632</td>\n",
       "    </tr>\n",
       "  </tbody>\n",
       "</table>\n",
       "</div>"
      ],
      "text/plain": [
       "                  F1-score  Threshold\n",
       "Naive Bayes       0.803653   0.093418\n",
       "Naive Bayes down  0.820944   0.110361\n",
       "Naive Bayes up    0.831440   0.130941\n",
       "Random Forest     0.975309   0.594632"
      ]
     },
     "execution_count": 46,
     "metadata": {},
     "output_type": "execute_result"
    }
   ],
   "source": [
    "addResult('Random Forest', f1.max(), thresholds[f1.argmax()])\n",
    "result"
   ]
  },
  {
   "cell_type": "markdown",
   "id": "64aebae0",
   "metadata": {},
   "source": [
    "##### Upsampled"
   ]
  },
  {
   "cell_type": "code",
   "execution_count": 47,
   "id": "30d79bf2",
   "metadata": {},
   "outputs": [
    {
     "name": "stdout",
     "output_type": "stream",
     "text": [
      "Threshold: 0.6152355699855699\n",
      "Precision: 0.9902705989662511\n",
      "Recall: 0.9705005959475567\n",
      "F1-score: 0.9802859292701279\n"
     ]
    }
   ],
   "source": [
    "rdf = RandomForestClassifier(min_samples_split=5, random_state=0)\n",
    "rdf.fit(X_train_u, y_train_u)\n",
    "y_scores_u = rdf.predict_proba(X_test_u)\n",
    "precision, recall, thresholds = precision_recall_curve(y_test_u, y_scores_u[:, 1])\n",
    "f1 = (2 * precision * recall)/(precision + recall)\n",
    "print_values(f1.argmax())"
   ]
  },
  {
   "cell_type": "code",
   "execution_count": 48,
   "id": "80f89d6b",
   "metadata": {},
   "outputs": [
    {
     "data": {
      "text/html": [
       "<div>\n",
       "<style scoped>\n",
       "    .dataframe tbody tr th:only-of-type {\n",
       "        vertical-align: middle;\n",
       "    }\n",
       "\n",
       "    .dataframe tbody tr th {\n",
       "        vertical-align: top;\n",
       "    }\n",
       "\n",
       "    .dataframe thead th {\n",
       "        text-align: right;\n",
       "    }\n",
       "</style>\n",
       "<table border=\"1\" class=\"dataframe\">\n",
       "  <thead>\n",
       "    <tr style=\"text-align: right;\">\n",
       "      <th></th>\n",
       "      <th>F1-score</th>\n",
       "      <th>Threshold</th>\n",
       "    </tr>\n",
       "  </thead>\n",
       "  <tbody>\n",
       "    <tr>\n",
       "      <th>Naive Bayes</th>\n",
       "      <td>0.803653</td>\n",
       "      <td>0.093418</td>\n",
       "    </tr>\n",
       "    <tr>\n",
       "      <th>Naive Bayes down</th>\n",
       "      <td>0.820944</td>\n",
       "      <td>0.110361</td>\n",
       "    </tr>\n",
       "    <tr>\n",
       "      <th>Naive Bayes up</th>\n",
       "      <td>0.831440</td>\n",
       "      <td>0.130941</td>\n",
       "    </tr>\n",
       "    <tr>\n",
       "      <th>Random Forest</th>\n",
       "      <td>0.975309</td>\n",
       "      <td>0.594632</td>\n",
       "    </tr>\n",
       "    <tr>\n",
       "      <th>Random Forest up</th>\n",
       "      <td>0.980286</td>\n",
       "      <td>0.615236</td>\n",
       "    </tr>\n",
       "  </tbody>\n",
       "</table>\n",
       "</div>"
      ],
      "text/plain": [
       "                  F1-score  Threshold\n",
       "Naive Bayes       0.803653   0.093418\n",
       "Naive Bayes down  0.820944   0.110361\n",
       "Naive Bayes up    0.831440   0.130941\n",
       "Random Forest     0.975309   0.594632\n",
       "Random Forest up  0.980286   0.615236"
      ]
     },
     "execution_count": 48,
     "metadata": {},
     "output_type": "execute_result"
    }
   ],
   "source": [
    "addResult('Random Forest up', f1.max(), thresholds[f1.argmax()])\n",
    "result"
   ]
  },
  {
   "cell_type": "markdown",
   "id": "d7143a53",
   "metadata": {},
   "source": [
    "### LightGBM"
   ]
  },
  {
   "cell_type": "code",
   "execution_count": 49,
   "id": "c3d1841d",
   "metadata": {},
   "outputs": [],
   "source": [
    "# Source: https://stackoverflow.com/questions/51139150/how-to-write-custom-f1-score-metric-in-light-gbm-python-in-multiclass-classifica\n",
    "\n",
    "def fscore(y_scores, dtrain):\n",
    "    \n",
    "    precision, recall, thresholds = precision_recall_curve(y_test, y_scores)\n",
    "    f1 = (2 * precision * recall)/(precision + recall)\n",
    "    return 'f1_score', f1.max(), True"
   ]
  },
  {
   "cell_type": "code",
   "execution_count": 50,
   "id": "6cf83ed5",
   "metadata": {},
   "outputs": [
    {
     "name": "stdout",
     "output_type": "stream",
     "text": [
      "[LightGBM] [Info] Number of positive: 8587, number of negative: 14591\n",
      "[LightGBM] [Warning] Auto-choosing row-wise multi-threading, the overhead of testing was 0.004207 seconds.\n",
      "You can set `force_row_wise=true` to remove the overhead.\n",
      "And if memory is not enough, you can set `force_col_wise=true`.\n",
      "[LightGBM] [Info] Total Bins 828\n",
      "[LightGBM] [Info] Number of data points in the train set: 23178, number of used features: 8\n",
      "[LightGBM] [Info] [binary:BoostFromScore]: pavg=0.370481 -> initscore=-0.530155\n",
      "[LightGBM] [Info] Start training from score -0.530155\n",
      "[1]\tvalid_0's binary_logloss: 0.645469\tvalid_0's f1_score: 0.958864\n",
      "[2]\tvalid_0's binary_logloss: 0.636914\tvalid_0's f1_score: 0.958864\n",
      "[3]\tvalid_0's binary_logloss: 0.628549\tvalid_0's f1_score: 0.958864\n",
      "[4]\tvalid_0's binary_logloss: 0.620428\tvalid_0's f1_score: 0.95897\n",
      "[5]\tvalid_0's binary_logloss: 0.612483\tvalid_0's f1_score: 0.959015\n",
      "[6]\tvalid_0's binary_logloss: 0.604648\tvalid_0's f1_score: 0.958814\n",
      "[7]\tvalid_0's binary_logloss: 0.596979\tvalid_0's f1_score: 0.958769\n",
      "[8]\tvalid_0's binary_logloss: 0.589528\tvalid_0's f1_score: 0.958778\n",
      "[9]\tvalid_0's binary_logloss: 0.582173\tvalid_0's f1_score: 0.958763\n",
      "[10]\tvalid_0's binary_logloss: 0.574969\tvalid_0's f1_score: 0.959079\n",
      "[11]\tvalid_0's binary_logloss: 0.567965\tvalid_0's f1_score: 0.959079\n",
      "[12]\tvalid_0's binary_logloss: 0.561077\tvalid_0's f1_score: 0.959079\n",
      "[13]\tvalid_0's binary_logloss: 0.554323\tvalid_0's f1_score: 0.959225\n",
      "[14]\tvalid_0's binary_logloss: 0.547712\tvalid_0's f1_score: 0.959225\n",
      "[15]\tvalid_0's binary_logloss: 0.541227\tvalid_0's f1_score: 0.959225\n",
      "[16]\tvalid_0's binary_logloss: 0.534867\tvalid_0's f1_score: 0.959225\n",
      "[17]\tvalid_0's binary_logloss: 0.528563\tvalid_0's f1_score: 0.959225\n",
      "[18]\tvalid_0's binary_logloss: 0.522378\tvalid_0's f1_score: 0.959385\n",
      "[19]\tvalid_0's binary_logloss: 0.516308\tvalid_0's f1_score: 0.959561\n",
      "[20]\tvalid_0's binary_logloss: 0.5104\tvalid_0's f1_score: 0.959561\n",
      "[21]\tvalid_0's binary_logloss: 0.504549\tvalid_0's f1_score: 0.961314\n",
      "[22]\tvalid_0's binary_logloss: 0.498799\tvalid_0's f1_score: 0.961314\n",
      "[23]\tvalid_0's binary_logloss: 0.493169\tvalid_0's f1_score: 0.961693\n",
      "[24]\tvalid_0's binary_logloss: 0.487623\tvalid_0's f1_score: 0.961693\n",
      "[25]\tvalid_0's binary_logloss: 0.482224\tvalid_0's f1_score: 0.961868\n",
      "[26]\tvalid_0's binary_logloss: 0.476877\tvalid_0's f1_score: 0.961868\n",
      "[27]\tvalid_0's binary_logloss: 0.47163\tvalid_0's f1_score: 0.961868\n",
      "[28]\tvalid_0's binary_logloss: 0.466471\tvalid_0's f1_score: 0.961854\n",
      "[29]\tvalid_0's binary_logloss: 0.461443\tvalid_0's f1_score: 0.961854\n",
      "[30]\tvalid_0's binary_logloss: 0.456446\tvalid_0's f1_score: 0.961854\n",
      "[31]\tvalid_0's binary_logloss: 0.451566\tvalid_0's f1_score: 0.961854\n",
      "[32]\tvalid_0's binary_logloss: 0.446733\tvalid_0's f1_score: 0.961854\n",
      "[33]\tvalid_0's binary_logloss: 0.442024\tvalid_0's f1_score: 0.961854\n",
      "[34]\tvalid_0's binary_logloss: 0.43738\tvalid_0's f1_score: 0.961854\n",
      "[35]\tvalid_0's binary_logloss: 0.432776\tvalid_0's f1_score: 0.961854\n",
      "[36]\tvalid_0's binary_logloss: 0.4283\tvalid_0's f1_score: 0.961854\n",
      "[37]\tvalid_0's binary_logloss: 0.423892\tvalid_0's f1_score: 0.961854\n",
      "[38]\tvalid_0's binary_logloss: 0.419566\tvalid_0's f1_score: 0.961854\n",
      "[39]\tvalid_0's binary_logloss: 0.415248\tvalid_0's f1_score: 0.961854\n",
      "[40]\tvalid_0's binary_logloss: 0.411052\tvalid_0's f1_score: 0.961854\n",
      "[41]\tvalid_0's binary_logloss: 0.406925\tvalid_0's f1_score: 0.961854\n",
      "[42]\tvalid_0's binary_logloss: 0.402884\tvalid_0's f1_score: 0.961854\n",
      "[43]\tvalid_0's binary_logloss: 0.398901\tvalid_0's f1_score: 0.961854\n",
      "[44]\tvalid_0's binary_logloss: 0.39497\tvalid_0's f1_score: 0.961854\n",
      "[45]\tvalid_0's binary_logloss: 0.391109\tvalid_0's f1_score: 0.961854\n",
      "[46]\tvalid_0's binary_logloss: 0.387211\tvalid_0's f1_score: 0.961854\n",
      "[47]\tvalid_0's binary_logloss: 0.383401\tvalid_0's f1_score: 0.961854\n",
      "[48]\tvalid_0's binary_logloss: 0.37962\tvalid_0's f1_score: 0.96191\n",
      "[49]\tvalid_0's binary_logloss: 0.37591\tvalid_0's f1_score: 0.96191\n",
      "[50]\tvalid_0's binary_logloss: 0.372244\tvalid_0's f1_score: 0.962044\n",
      "[51]\tvalid_0's binary_logloss: 0.368649\tvalid_0's f1_score: 0.962044\n",
      "[52]\tvalid_0's binary_logloss: 0.365093\tvalid_0's f1_score: 0.962044\n",
      "[53]\tvalid_0's binary_logloss: 0.361606\tvalid_0's f1_score: 0.962044\n",
      "[54]\tvalid_0's binary_logloss: 0.358157\tvalid_0's f1_score: 0.962044\n",
      "[55]\tvalid_0's binary_logloss: 0.354808\tvalid_0's f1_score: 0.962136\n",
      "[56]\tvalid_0's binary_logloss: 0.351502\tvalid_0's f1_score: 0.962136\n",
      "[57]\tvalid_0's binary_logloss: 0.348246\tvalid_0's f1_score: 0.962136\n",
      "[58]\tvalid_0's binary_logloss: 0.34505\tvalid_0's f1_score: 0.962136\n",
      "[59]\tvalid_0's binary_logloss: 0.341904\tvalid_0's f1_score: 0.962136\n",
      "[60]\tvalid_0's binary_logloss: 0.338787\tvalid_0's f1_score: 0.962136\n",
      "[61]\tvalid_0's binary_logloss: 0.335715\tvalid_0's f1_score: 0.962518\n",
      "[62]\tvalid_0's binary_logloss: 0.332687\tvalid_0's f1_score: 0.962518\n",
      "[63]\tvalid_0's binary_logloss: 0.329741\tvalid_0's f1_score: 0.962518\n",
      "[64]\tvalid_0's binary_logloss: 0.326837\tvalid_0's f1_score: 0.962518\n",
      "[65]\tvalid_0's binary_logloss: 0.323975\tvalid_0's f1_score: 0.962518\n",
      "[66]\tvalid_0's binary_logloss: 0.321116\tvalid_0's f1_score: 0.962787\n",
      "[67]\tvalid_0's binary_logloss: 0.318334\tvalid_0's f1_score: 0.962787\n",
      "[68]\tvalid_0's binary_logloss: 0.315557\tvalid_0's f1_score: 0.962787\n",
      "[69]\tvalid_0's binary_logloss: 0.312819\tvalid_0's f1_score: 0.962787\n",
      "[70]\tvalid_0's binary_logloss: 0.310155\tvalid_0's f1_score: 0.962787\n",
      "[71]\tvalid_0's binary_logloss: 0.30749\tvalid_0's f1_score: 0.962787\n",
      "[72]\tvalid_0's binary_logloss: 0.304901\tvalid_0's f1_score: 0.962787\n",
      "[73]\tvalid_0's binary_logloss: 0.302314\tvalid_0's f1_score: 0.962787\n",
      "[74]\tvalid_0's binary_logloss: 0.299765\tvalid_0's f1_score: 0.962787\n",
      "[75]\tvalid_0's binary_logloss: 0.297225\tvalid_0's f1_score: 0.963139\n",
      "[76]\tvalid_0's binary_logloss: 0.294721\tvalid_0's f1_score: 0.963139\n",
      "[77]\tvalid_0's binary_logloss: 0.292264\tvalid_0's f1_score: 0.963139\n",
      "[78]\tvalid_0's binary_logloss: 0.289849\tvalid_0's f1_score: 0.963233\n",
      "[79]\tvalid_0's binary_logloss: 0.287441\tvalid_0's f1_score: 0.963246\n",
      "[80]\tvalid_0's binary_logloss: 0.285067\tvalid_0's f1_score: 0.963246\n",
      "[81]\tvalid_0's binary_logloss: 0.282752\tvalid_0's f1_score: 0.963408\n",
      "[82]\tvalid_0's binary_logloss: 0.280405\tvalid_0's f1_score: 0.963583\n",
      "[83]\tvalid_0's binary_logloss: 0.278164\tvalid_0's f1_score: 0.963544\n",
      "[84]\tvalid_0's binary_logloss: 0.275878\tvalid_0's f1_score: 0.963732\n",
      "[85]\tvalid_0's binary_logloss: 0.273678\tvalid_0's f1_score: 0.963732\n",
      "[86]\tvalid_0's binary_logloss: 0.271512\tvalid_0's f1_score: 0.963421\n",
      "[87]\tvalid_0's binary_logloss: 0.269324\tvalid_0's f1_score: 0.963732\n",
      "[88]\tvalid_0's binary_logloss: 0.26723\tvalid_0's f1_score: 0.963557\n",
      "[89]\tvalid_0's binary_logloss: 0.265109\tvalid_0's f1_score: 0.963557\n",
      "[90]\tvalid_0's binary_logloss: 0.262995\tvalid_0's f1_score: 0.963732\n",
      "[91]\tvalid_0's binary_logloss: 0.260931\tvalid_0's f1_score: 0.963732\n",
      "[92]\tvalid_0's binary_logloss: 0.258944\tvalid_0's f1_score: 0.963557\n",
      "[93]\tvalid_0's binary_logloss: 0.256984\tvalid_0's f1_score: 0.963557\n",
      "[94]\tvalid_0's binary_logloss: 0.254995\tvalid_0's f1_score: 0.963557\n",
      "[95]\tvalid_0's binary_logloss: 0.25307\tvalid_0's f1_score: 0.963557\n",
      "[96]\tvalid_0's binary_logloss: 0.251149\tvalid_0's f1_score: 0.963706\n",
      "[97]\tvalid_0's binary_logloss: 0.24926\tvalid_0's f1_score: 0.963706\n",
      "[98]\tvalid_0's binary_logloss: 0.247388\tvalid_0's f1_score: 0.963732\n",
      "[99]\tvalid_0's binary_logloss: 0.245523\tvalid_0's f1_score: 0.963732\n",
      "[100]\tvalid_0's binary_logloss: 0.243689\tvalid_0's f1_score: 0.964071\n"
     ]
    }
   ],
   "source": [
    "# Source: https://www.analyticsvidhya.com/blog/2017/06/which-algorithm-takes-the-crown-light-gbm-vs-xgboost/\n",
    "\n",
    "train_data=lgb.Dataset(X_train,label=y_train)\n",
    "test_data = lgb.Dataset(X_test, label=y_test)\n",
    "param = {'objective':'binary', 'learning_rate':0.01}\n",
    "lgbm=lgb.train(param, train_data, valid_sets=[test_data], feval=fscore)"
   ]
  },
  {
   "cell_type": "code",
   "execution_count": 51,
   "id": "a990ffcd",
   "metadata": {},
   "outputs": [
    {
     "name": "stdout",
     "output_type": "stream",
     "text": [
      "Threshold: 0.376101652230953\n",
      "Precision: 0.9814333457111029\n",
      "Recall: 0.9473118279569892\n",
      "F1-score: 0.9640707641801932\n"
     ]
    }
   ],
   "source": [
    "y_scores = lgbm.predict(X_test)\n",
    "precision, recall, thresholds = precision_recall_curve(y_test, y_scores)\n",
    "f1 = (2 * precision * recall)/(precision + recall)\n",
    "print_values(f1.argmax())"
   ]
  },
  {
   "cell_type": "code",
   "execution_count": 52,
   "id": "9a4d274e",
   "metadata": {},
   "outputs": [
    {
     "data": {
      "text/html": [
       "<div>\n",
       "<style scoped>\n",
       "    .dataframe tbody tr th:only-of-type {\n",
       "        vertical-align: middle;\n",
       "    }\n",
       "\n",
       "    .dataframe tbody tr th {\n",
       "        vertical-align: top;\n",
       "    }\n",
       "\n",
       "    .dataframe thead th {\n",
       "        text-align: right;\n",
       "    }\n",
       "</style>\n",
       "<table border=\"1\" class=\"dataframe\">\n",
       "  <thead>\n",
       "    <tr style=\"text-align: right;\">\n",
       "      <th></th>\n",
       "      <th>F1-score</th>\n",
       "      <th>Threshold</th>\n",
       "    </tr>\n",
       "  </thead>\n",
       "  <tbody>\n",
       "    <tr>\n",
       "      <th>Naive Bayes</th>\n",
       "      <td>0.803653</td>\n",
       "      <td>0.093418</td>\n",
       "    </tr>\n",
       "    <tr>\n",
       "      <th>Naive Bayes down</th>\n",
       "      <td>0.820944</td>\n",
       "      <td>0.110361</td>\n",
       "    </tr>\n",
       "    <tr>\n",
       "      <th>Naive Bayes up</th>\n",
       "      <td>0.831440</td>\n",
       "      <td>0.130941</td>\n",
       "    </tr>\n",
       "    <tr>\n",
       "      <th>Random Forest</th>\n",
       "      <td>0.975309</td>\n",
       "      <td>0.594632</td>\n",
       "    </tr>\n",
       "    <tr>\n",
       "      <th>Random Forest up</th>\n",
       "      <td>0.980286</td>\n",
       "      <td>0.615236</td>\n",
       "    </tr>\n",
       "    <tr>\n",
       "      <th>LightGBM</th>\n",
       "      <td>0.964071</td>\n",
       "      <td>0.376102</td>\n",
       "    </tr>\n",
       "  </tbody>\n",
       "</table>\n",
       "</div>"
      ],
      "text/plain": [
       "                  F1-score  Threshold\n",
       "Naive Bayes       0.803653   0.093418\n",
       "Naive Bayes down  0.820944   0.110361\n",
       "Naive Bayes up    0.831440   0.130941\n",
       "Random Forest     0.975309   0.594632\n",
       "Random Forest up  0.980286   0.615236\n",
       "LightGBM          0.964071   0.376102"
      ]
     },
     "execution_count": 52,
     "metadata": {},
     "output_type": "execute_result"
    }
   ],
   "source": [
    "addResult('LightGBM', f1.max(), thresholds[f1.argmax()])\n",
    "result"
   ]
  },
  {
   "cell_type": "markdown",
   "id": "4cbb784f",
   "metadata": {},
   "source": [
    "###### Upsampled"
   ]
  },
  {
   "cell_type": "code",
   "execution_count": 53,
   "id": "b3906144",
   "metadata": {},
   "outputs": [],
   "source": [
    "def fscore_up(y_scores, dtrain):\n",
    "    \n",
    "    precision, recall, thresholds = precision_recall_curve(y_test_u, y_scores)\n",
    "    f1 = (2 * precision * recall)/(precision + recall)\n",
    "    return 'f1_score', f1.max(), True"
   ]
  },
  {
   "cell_type": "code",
   "execution_count": 55,
   "id": "e901e135",
   "metadata": {},
   "outputs": [
    {
     "name": "stdout",
     "output_type": "stream",
     "text": [
      "[LightGBM] [Info] Number of positive: 10021, number of negative: 14657\n",
      "[LightGBM] [Warning] Auto-choosing row-wise multi-threading, the overhead of testing was 0.004150 seconds.\n",
      "You can set `force_row_wise=true` to remove the overhead.\n",
      "And if memory is not enough, you can set `force_col_wise=true`.\n",
      "[LightGBM] [Info] Total Bins 824\n",
      "[LightGBM] [Info] Number of data points in the train set: 24678, number of used features: 8\n",
      "[LightGBM] [Info] [binary:BoostFromScore]: pavg=0.406070 -> initscore=-0.380235\n",
      "[LightGBM] [Info] Start training from score -0.380235\n",
      "[1]\tvalid_0's binary_logloss: 0.667247\tvalid_0's f1_score: 0.962408\n",
      "[2]\tvalid_0's binary_logloss: 0.658581\tvalid_0's f1_score: 0.962408\n",
      "[3]\tvalid_0's binary_logloss: 0.650098\tvalid_0's f1_score: 0.962408\n",
      "[4]\tvalid_0's binary_logloss: 0.641793\tvalid_0's f1_score: 0.962408\n",
      "[5]\tvalid_0's binary_logloss: 0.633658\tvalid_0's f1_score: 0.962408\n",
      "[6]\tvalid_0's binary_logloss: 0.625694\tvalid_0's f1_score: 0.962408\n",
      "[7]\tvalid_0's binary_logloss: 0.617886\tvalid_0's f1_score: 0.962408\n",
      "[8]\tvalid_0's binary_logloss: 0.610238\tvalid_0's f1_score: 0.962408\n",
      "[9]\tvalid_0's binary_logloss: 0.602742\tvalid_0's f1_score: 0.962408\n",
      "[10]\tvalid_0's binary_logloss: 0.595383\tvalid_0's f1_score: 0.964351\n",
      "[11]\tvalid_0's binary_logloss: 0.588163\tvalid_0's f1_score: 0.965538\n",
      "[12]\tvalid_0's binary_logloss: 0.581127\tvalid_0's f1_score: 0.964351\n",
      "[13]\tvalid_0's binary_logloss: 0.57419\tvalid_0's f1_score: 0.965538\n",
      "[14]\tvalid_0's binary_logloss: 0.567409\tvalid_0's f1_score: 0.965538\n",
      "[15]\tvalid_0's binary_logloss: 0.560759\tvalid_0's f1_score: 0.964351\n",
      "[16]\tvalid_0's binary_logloss: 0.554205\tvalid_0's f1_score: 0.965538\n",
      "[17]\tvalid_0's binary_logloss: 0.547805\tvalid_0's f1_score: 0.964645\n",
      "[18]\tvalid_0's binary_logloss: 0.541523\tvalid_0's f1_score: 0.964645\n",
      "[19]\tvalid_0's binary_logloss: 0.53532\tvalid_0's f1_score: 0.964645\n",
      "[20]\tvalid_0's binary_logloss: 0.529261\tvalid_0's f1_score: 0.964792\n",
      "[21]\tvalid_0's binary_logloss: 0.52328\tvalid_0's f1_score: 0.964792\n",
      "[22]\tvalid_0's binary_logloss: 0.517384\tvalid_0's f1_score: 0.964792\n",
      "[23]\tvalid_0's binary_logloss: 0.511646\tvalid_0's f1_score: 0.964792\n",
      "[24]\tvalid_0's binary_logloss: 0.505955\tvalid_0's f1_score: 0.964792\n",
      "[25]\tvalid_0's binary_logloss: 0.500373\tvalid_0's f1_score: 0.964803\n",
      "[26]\tvalid_0's binary_logloss: 0.494874\tvalid_0's f1_score: 0.964803\n",
      "[27]\tvalid_0's binary_logloss: 0.489492\tvalid_0's f1_score: 0.964803\n",
      "[28]\tvalid_0's binary_logloss: 0.484138\tvalid_0's f1_score: 0.96496\n",
      "[29]\tvalid_0's binary_logloss: 0.478944\tvalid_0's f1_score: 0.96496\n",
      "[30]\tvalid_0's binary_logloss: 0.47382\tvalid_0's f1_score: 0.96496\n",
      "[31]\tvalid_0's binary_logloss: 0.468743\tvalid_0's f1_score: 0.96496\n",
      "[32]\tvalid_0's binary_logloss: 0.463743\tvalid_0's f1_score: 0.96496\n",
      "[33]\tvalid_0's binary_logloss: 0.458807\tvalid_0's f1_score: 0.96496\n",
      "[34]\tvalid_0's binary_logloss: 0.45397\tvalid_0's f1_score: 0.96496\n",
      "[35]\tvalid_0's binary_logloss: 0.449215\tvalid_0's f1_score: 0.96495\n",
      "[36]\tvalid_0's binary_logloss: 0.44453\tvalid_0's f1_score: 0.96495\n",
      "[37]\tvalid_0's binary_logloss: 0.439928\tvalid_0's f1_score: 0.96495\n",
      "[38]\tvalid_0's binary_logloss: 0.435407\tvalid_0's f1_score: 0.96495\n",
      "[39]\tvalid_0's binary_logloss: 0.430923\tvalid_0's f1_score: 0.96495\n",
      "[40]\tvalid_0's binary_logloss: 0.426528\tvalid_0's f1_score: 0.965107\n",
      "[41]\tvalid_0's binary_logloss: 0.422202\tvalid_0's f1_score: 0.965107\n",
      "[42]\tvalid_0's binary_logloss: 0.417918\tvalid_0's f1_score: 0.965107\n",
      "[43]\tvalid_0's binary_logloss: 0.41371\tvalid_0's f1_score: 0.965107\n",
      "[44]\tvalid_0's binary_logloss: 0.409595\tvalid_0's f1_score: 0.965107\n",
      "[45]\tvalid_0's binary_logloss: 0.405511\tvalid_0's f1_score: 0.965107\n",
      "[46]\tvalid_0's binary_logloss: 0.40151\tvalid_0's f1_score: 0.965107\n",
      "[47]\tvalid_0's binary_logloss: 0.397571\tvalid_0's f1_score: 0.966592\n",
      "[48]\tvalid_0's binary_logloss: 0.393671\tvalid_0's f1_score: 0.966592\n",
      "[49]\tvalid_0's binary_logloss: 0.389828\tvalid_0's f1_score: 0.966592\n",
      "[50]\tvalid_0's binary_logloss: 0.386058\tvalid_0's f1_score: 0.966592\n",
      "[51]\tvalid_0's binary_logloss: 0.382316\tvalid_0's f1_score: 0.966592\n",
      "[52]\tvalid_0's binary_logloss: 0.378674\tvalid_0's f1_score: 0.966592\n",
      "[53]\tvalid_0's binary_logloss: 0.375052\tvalid_0's f1_score: 0.966592\n",
      "[54]\tvalid_0's binary_logloss: 0.371486\tvalid_0's f1_score: 0.966592\n",
      "[55]\tvalid_0's binary_logloss: 0.367969\tvalid_0's f1_score: 0.966592\n",
      "[56]\tvalid_0's binary_logloss: 0.364529\tvalid_0's f1_score: 0.966592\n",
      "[57]\tvalid_0's binary_logloss: 0.361105\tvalid_0's f1_score: 0.966592\n",
      "[58]\tvalid_0's binary_logloss: 0.357719\tvalid_0's f1_score: 0.966592\n",
      "[59]\tvalid_0's binary_logloss: 0.35441\tvalid_0's f1_score: 0.966158\n",
      "[60]\tvalid_0's binary_logloss: 0.351135\tvalid_0's f1_score: 0.966592\n",
      "[61]\tvalid_0's binary_logloss: 0.347908\tvalid_0's f1_score: 0.966592\n",
      "[62]\tvalid_0's binary_logloss: 0.344729\tvalid_0's f1_score: 0.966592\n",
      "[63]\tvalid_0's binary_logloss: 0.341592\tvalid_0's f1_score: 0.966592\n",
      "[64]\tvalid_0's binary_logloss: 0.338503\tvalid_0's f1_score: 0.966592\n",
      "[65]\tvalid_0's binary_logloss: 0.335402\tvalid_0's f1_score: 0.966592\n",
      "[66]\tvalid_0's binary_logloss: 0.332352\tvalid_0's f1_score: 0.966592\n",
      "[67]\tvalid_0's binary_logloss: 0.329339\tvalid_0's f1_score: 0.966592\n",
      "[68]\tvalid_0's binary_logloss: 0.326375\tvalid_0's f1_score: 0.9662\n",
      "[69]\tvalid_0's binary_logloss: 0.323447\tvalid_0's f1_score: 0.9662\n",
      "[70]\tvalid_0's binary_logloss: 0.320583\tvalid_0's f1_score: 0.9662\n",
      "[71]\tvalid_0's binary_logloss: 0.317759\tvalid_0's f1_score: 0.9662\n",
      "[72]\tvalid_0's binary_logloss: 0.31496\tvalid_0's f1_score: 0.9662\n",
      "[73]\tvalid_0's binary_logloss: 0.312213\tvalid_0's f1_score: 0.9662\n",
      "[74]\tvalid_0's binary_logloss: 0.309491\tvalid_0's f1_score: 0.966951\n",
      "[75]\tvalid_0's binary_logloss: 0.306845\tvalid_0's f1_score: 0.966951\n",
      "[76]\tvalid_0's binary_logloss: 0.304223\tvalid_0's f1_score: 0.966951\n",
      "[77]\tvalid_0's binary_logloss: 0.30161\tvalid_0's f1_score: 0.966951\n",
      "[78]\tvalid_0's binary_logloss: 0.299067\tvalid_0's f1_score: 0.966951\n",
      "[79]\tvalid_0's binary_logloss: 0.29656\tvalid_0's f1_score: 0.966951\n",
      "[80]\tvalid_0's binary_logloss: 0.294086\tvalid_0's f1_score: 0.967385\n",
      "[81]\tvalid_0's binary_logloss: 0.291611\tvalid_0's f1_score: 0.967191\n",
      "[82]\tvalid_0's binary_logloss: 0.289188\tvalid_0's f1_score: 0.96781\n",
      "[83]\tvalid_0's binary_logloss: 0.286799\tvalid_0's f1_score: 0.96781\n",
      "[84]\tvalid_0's binary_logloss: 0.28445\tvalid_0's f1_score: 0.96781\n",
      "[85]\tvalid_0's binary_logloss: 0.282133\tvalid_0's f1_score: 0.96781\n",
      "[86]\tvalid_0's binary_logloss: 0.279847\tvalid_0's f1_score: 0.96781\n",
      "[87]\tvalid_0's binary_logloss: 0.277592\tvalid_0's f1_score: 0.96781\n",
      "[88]\tvalid_0's binary_logloss: 0.275368\tvalid_0's f1_score: 0.96781\n",
      "[89]\tvalid_0's binary_logloss: 0.273176\tvalid_0's f1_score: 0.96781\n",
      "[90]\tvalid_0's binary_logloss: 0.271006\tvalid_0's f1_score: 0.96781\n",
      "[91]\tvalid_0's binary_logloss: 0.268873\tvalid_0's f1_score: 0.967665\n",
      "[92]\tvalid_0's binary_logloss: 0.26673\tvalid_0's f1_score: 0.96839\n",
      "[93]\tvalid_0's binary_logloss: 0.264611\tvalid_0's f1_score: 0.968099\n",
      "[94]\tvalid_0's binary_logloss: 0.262519\tvalid_0's f1_score: 0.967954\n",
      "[95]\tvalid_0's binary_logloss: 0.260461\tvalid_0's f1_score: 0.968099\n",
      "[96]\tvalid_0's binary_logloss: 0.258451\tvalid_0's f1_score: 0.968099\n",
      "[97]\tvalid_0's binary_logloss: 0.256451\tvalid_0's f1_score: 0.967771\n",
      "[98]\tvalid_0's binary_logloss: 0.254487\tvalid_0's f1_score: 0.967771\n",
      "[99]\tvalid_0's binary_logloss: 0.252529\tvalid_0's f1_score: 0.967665\n",
      "[100]\tvalid_0's binary_logloss: 0.250611\tvalid_0's f1_score: 0.967665\n",
      "Threshold: 0.34051361561890975\n",
      "Precision: 0.9723225030084236\n",
      "Recall: 0.9630512514898689\n",
      "F1-score: 0.9676646706586827\n"
     ]
    }
   ],
   "source": [
    "train_data=lgb.Dataset(X_train_u,label=y_train_u)\n",
    "test_data = lgb.Dataset(X_test_u, label=y_test_u)\n",
    "param = {'objective':'binary', 'learning_rate':0.01}\n",
    "lgbm=lgb.train(param, train_data, valid_sets=[test_data], feval=fscore_up)\n",
    "y_scores = lgbm.predict(X_test_u)\n",
    "precision, recall, thresholds = precision_recall_curve(y_test_u, y_scores)\n",
    "f1 = (2 * precision * recall)/(precision + recall)\n",
    "print_values(f1.argmax())"
   ]
  },
  {
   "cell_type": "code",
   "execution_count": 56,
   "id": "a25952f3",
   "metadata": {},
   "outputs": [
    {
     "data": {
      "text/html": [
       "<div>\n",
       "<style scoped>\n",
       "    .dataframe tbody tr th:only-of-type {\n",
       "        vertical-align: middle;\n",
       "    }\n",
       "\n",
       "    .dataframe tbody tr th {\n",
       "        vertical-align: top;\n",
       "    }\n",
       "\n",
       "    .dataframe thead th {\n",
       "        text-align: right;\n",
       "    }\n",
       "</style>\n",
       "<table border=\"1\" class=\"dataframe\">\n",
       "  <thead>\n",
       "    <tr style=\"text-align: right;\">\n",
       "      <th></th>\n",
       "      <th>F1-score</th>\n",
       "      <th>Threshold</th>\n",
       "    </tr>\n",
       "  </thead>\n",
       "  <tbody>\n",
       "    <tr>\n",
       "      <th>Naive Bayes</th>\n",
       "      <td>0.803653</td>\n",
       "      <td>0.093418</td>\n",
       "    </tr>\n",
       "    <tr>\n",
       "      <th>Naive Bayes down</th>\n",
       "      <td>0.820944</td>\n",
       "      <td>0.110361</td>\n",
       "    </tr>\n",
       "    <tr>\n",
       "      <th>Naive Bayes up</th>\n",
       "      <td>0.831440</td>\n",
       "      <td>0.130941</td>\n",
       "    </tr>\n",
       "    <tr>\n",
       "      <th>Random Forest</th>\n",
       "      <td>0.975309</td>\n",
       "      <td>0.594632</td>\n",
       "    </tr>\n",
       "    <tr>\n",
       "      <th>Random Forest up</th>\n",
       "      <td>0.980286</td>\n",
       "      <td>0.615236</td>\n",
       "    </tr>\n",
       "    <tr>\n",
       "      <th>LightGBM</th>\n",
       "      <td>0.964071</td>\n",
       "      <td>0.376102</td>\n",
       "    </tr>\n",
       "    <tr>\n",
       "      <th>LightGBM up</th>\n",
       "      <td>0.967665</td>\n",
       "      <td>0.340514</td>\n",
       "    </tr>\n",
       "  </tbody>\n",
       "</table>\n",
       "</div>"
      ],
      "text/plain": [
       "                  F1-score  Threshold\n",
       "Naive Bayes       0.803653   0.093418\n",
       "Naive Bayes down  0.820944   0.110361\n",
       "Naive Bayes up    0.831440   0.130941\n",
       "Random Forest     0.975309   0.594632\n",
       "Random Forest up  0.980286   0.615236\n",
       "LightGBM          0.964071   0.376102\n",
       "LightGBM up       0.967665   0.340514"
      ]
     },
     "execution_count": 56,
     "metadata": {},
     "output_type": "execute_result"
    }
   ],
   "source": [
    "addResult('LightGBM up', f1.max(), thresholds[f1.argmax()])\n",
    "result"
   ]
  },
  {
   "cell_type": "markdown",
   "id": "94eb65fa",
   "metadata": {
    "id": "94eb65fa"
   },
   "source": [
    "### Model with word vectors\n",
    "\n",
    "#### Tfidf vectorizer"
   ]
  },
  {
   "cell_type": "code",
   "execution_count": 57,
   "id": "393de38d",
   "metadata": {},
   "outputs": [],
   "source": [
    "X_train_tfidf = pd.concat((X_train, X_train_tfidf), axis=1)\n",
    "X_test_tfidf = pd.concat((X_test, X_test_tfidf), axis=1)"
   ]
  },
  {
   "cell_type": "code",
   "execution_count": 58,
   "id": "9013d535",
   "metadata": {},
   "outputs": [
    {
     "data": {
      "text/plain": [
       "(23178, 359)"
      ]
     },
     "execution_count": 58,
     "metadata": {},
     "output_type": "execute_result"
    }
   ],
   "source": [
    "X_train_tfidf.shape"
   ]
  },
  {
   "cell_type": "code",
   "execution_count": 59,
   "id": "ce4a38ea",
   "metadata": {},
   "outputs": [
    {
     "data": {
      "text/plain": [
       "(7727, 359)"
      ]
     },
     "execution_count": 59,
     "metadata": {},
     "output_type": "execute_result"
    }
   ],
   "source": [
    "X_test_tfidf.shape"
   ]
  },
  {
   "cell_type": "code",
   "execution_count": 60,
   "id": "6ab0f399",
   "metadata": {},
   "outputs": [],
   "source": [
    "vectorizer = TfidfVectorizer(ngram_range=(2,3), min_df=10, stop_words=invalid_tokens)\n",
    "X_tr_tfidf = vectorizer.fit_transform(mod_data_up['query_proc'].iloc[X_train_u.index])\n",
    "X_te_tfidf = vectorizer.transform(mod_data_up['query_proc'].iloc[X_test_u.index])\n",
    "X_tr_tfidf = pd.DataFrame(X_tr_tfidf.toarray(), columns=vectorizer.get_feature_names(), index=X_train_u.index)\n",
    "X_te_tfidf = pd.DataFrame(X_te_tfidf.toarray(), columns=vectorizer.get_feature_names(), index=X_test_u.index)\n",
    "X_train_tfidf_u = pd.concat((X_train_u, X_tr_tfidf), axis=1)\n",
    "X_test_tfidf_u = pd.concat((X_test_u, X_te_tfidf), axis=1)"
   ]
  },
  {
   "cell_type": "code",
   "execution_count": 61,
   "id": "22acac53",
   "metadata": {},
   "outputs": [
    {
     "data": {
      "text/plain": [
       "(24678, 380)"
      ]
     },
     "execution_count": 61,
     "metadata": {},
     "output_type": "execute_result"
    }
   ],
   "source": [
    "X_train_tfidf_u.shape"
   ]
  },
  {
   "cell_type": "code",
   "execution_count": 62,
   "id": "c732729f",
   "metadata": {},
   "outputs": [
    {
     "data": {
      "text/plain": [
       "(8227, 380)"
      ]
     },
     "execution_count": 62,
     "metadata": {},
     "output_type": "execute_result"
    }
   ],
   "source": [
    "X_test_tfidf_u.shape"
   ]
  },
  {
   "cell_type": "markdown",
   "id": "c6e6aa53",
   "metadata": {
    "id": "c6e6aa53"
   },
   "source": [
    "##### 1. Naive Bayes"
   ]
  },
  {
   "cell_type": "code",
   "execution_count": 63,
   "id": "f8501499",
   "metadata": {
    "id": "f8501499",
    "outputId": "4aed0b3a-108d-415d-afc6-45ebc2f37e75"
   },
   "outputs": [
    {
     "data": {
      "text/plain": [
       "0.6701620591039085"
      ]
     },
     "execution_count": 63,
     "metadata": {},
     "output_type": "execute_result"
    }
   ],
   "source": [
    "gnb = GaussianNB()\n",
    "gnb.fit(X_train_tfidf, y_train)\n",
    "y_scores = gnb.predict_proba(X_test_tfidf)\n",
    "\n",
    "y_pred = gnb.predict(X_test_tfidf)\n",
    "f1_score(y_test, y_pred)"
   ]
  },
  {
   "cell_type": "code",
   "execution_count": 64,
   "id": "81cd1cfc",
   "metadata": {
    "id": "81cd1cfc",
    "outputId": "2c2c817a-c5bf-4a48-961e-4664b8707309"
   },
   "outputs": [
    {
     "data": {
      "image/png": "[encoded data removed]",
      "text/plain": [
       "<Figure size 432x288 with 1 Axes>"
      ]
     },
     "metadata": {
      "needs_background": "light"
     },
     "output_type": "display_data"
    }
   ],
   "source": [
    "precision, recall, thresholds = precision_recall_curve(y_test, y_scores[:, 1])\n",
    "plt.plot([0, 1], [1, 0])\n",
    "plt.plot(precision, recall)\n",
    "plt.title(\"Naive Bayes: Precision-Recall Curve\")\n",
    "plt.xlabel(\"Precision\")\n",
    "plt.ylabel(\"Recall\")\n",
    "plt.show()"
   ]
  },
  {
   "cell_type": "code",
   "execution_count": 65,
   "id": "544b32fa",
   "metadata": {
    "id": "544b32fa",
    "outputId": "1e609901-c479-450c-aee2-9d2305e96fe2"
   },
   "outputs": [
    {
     "data": {
      "text/plain": [
       "1665"
      ]
     },
     "execution_count": 65,
     "metadata": {},
     "output_type": "execute_result"
    }
   ],
   "source": [
    "f1 = (2 * precision * recall)/(precision + recall)\n",
    "argmax_tfidf = f1.argmax()\n",
    "argmax_tfidf"
   ]
  },
  {
   "cell_type": "code",
   "execution_count": 66,
   "id": "c0ae674c",
   "metadata": {
    "id": "c0ae674c",
    "outputId": "303b8332-ac62-4279-e37a-1514c150889a"
   },
   "outputs": [
    {
     "name": "stdout",
     "output_type": "stream",
     "text": [
      "Threshold: 1.1287998952461157e-148\n",
      "Precision: 0.9898943500229674\n",
      "Recall: 0.7724014336917563\n",
      "F1-score: 0.8677269981880411\n"
     ]
    }
   ],
   "source": [
    "print_values(argmax_tfidf)"
   ]
  },
  {
   "cell_type": "markdown",
   "id": "c68f671d",
   "metadata": {
    "id": "c68f671d"
   },
   "source": [
    "As we can see, the precision is given more preference over recall in this case. Although this model has high f1 score, it could be at the cost of undetected SQLIA. Let's look for a better threshold."
   ]
  },
  {
   "cell_type": "code",
   "execution_count": 67,
   "id": "dec1fb64",
   "metadata": {
    "id": "dec1fb64",
    "outputId": "304d5ad8-dbc0-4a3e-d85e-2ef77873c4e8"
   },
   "outputs": [
    {
     "data": {
      "image/png": "[encoded data removed]",
      "text/plain": [
       "<Figure size 432x288 with 1 Axes>"
      ]
     },
     "metadata": {
      "needs_background": "light"
     },
     "output_type": "display_data"
    }
   ],
   "source": [
    "plt.plot(precision, label='precision')\n",
    "plt.plot(recall, label='recall')\n",
    "plt.plot(f1, label='f1-score')\n",
    "plt.xlabel(\"index\")\n",
    "plt.ylabel(\"value\")\n",
    "plt.legend()\n",
    "plt.title(\"Precision, Recall and F1-score values\")\n",
    "plt.show()"
   ]
  },
  {
   "cell_type": "markdown",
   "id": "5cc8f6c0",
   "metadata": {
    "id": "5cc8f6c0"
   },
   "source": [
    "###### Observations\n",
    "\n",
    "1. Beyond about 1300, recall is going really down although precision and f1 score are increasing.\n",
    "2. Below 1300, recall is high while f1 score and precision are low.\n",
    "\n",
    "In order to get a good recall while also maintaining f1 score, we need to find the highest f1 score within the 0-1300 indices."
   ]
  },
  {
   "cell_type": "code",
   "execution_count": 68,
   "id": "1ad8524d",
   "metadata": {
    "id": "1ad8524d",
    "outputId": "4abc6a49-3457-4208-ac64-f3eb1f7f5710"
   },
   "outputs": [
    {
     "data": {
      "text/plain": [
       "909"
      ]
     },
     "execution_count": 68,
     "metadata": {},
     "output_type": "execute_result"
    }
   ],
   "source": [
    "argmax_tfidf_high_recall = f1[:1300].argmax()\n",
    "argmax_tfidf_high_recall"
   ]
  },
  {
   "cell_type": "code",
   "execution_count": 69,
   "id": "ffcbd05e",
   "metadata": {
    "id": "ffcbd05e",
    "outputId": "1fe88d96-eae6-4501-cf32-275951c76295"
   },
   "outputs": [
    {
     "name": "stdout",
     "output_type": "stream",
     "text": [
      "Threshold: 4.6286233187473275e-151\n",
      "Precision: 0.7536312849162011\n",
      "Recall: 0.9670250896057347\n",
      "F1-score: 0.8470957613814756\n"
     ]
    }
   ],
   "source": [
    "print_values(argmax_tfidf_high_recall)"
   ]
  },
  {
   "cell_type": "markdown",
   "id": "ed8ce6c3",
   "metadata": {
    "id": "ed8ce6c3"
   },
   "source": [
    "Now we have a high recall. Although F1-score is lower than before, it is still higher than the baseline model."
   ]
  },
  {
   "cell_type": "code",
   "execution_count": 70,
   "id": "5f65e0c4",
   "metadata": {
    "id": "5f65e0c4",
    "outputId": "1bb52159-0fff-4e6c-849a-8d1c3db63c1f"
   },
   "outputs": [
    {
     "data": {
      "text/html": [
       "<div>\n",
       "<style scoped>\n",
       "    .dataframe tbody tr th:only-of-type {\n",
       "        vertical-align: middle;\n",
       "    }\n",
       "\n",
       "    .dataframe tbody tr th {\n",
       "        vertical-align: top;\n",
       "    }\n",
       "\n",
       "    .dataframe thead th {\n",
       "        text-align: right;\n",
       "    }\n",
       "</style>\n",
       "<table border=\"1\" class=\"dataframe\">\n",
       "  <thead>\n",
       "    <tr style=\"text-align: right;\">\n",
       "      <th></th>\n",
       "      <th>F1-score</th>\n",
       "      <th>Threshold</th>\n",
       "    </tr>\n",
       "  </thead>\n",
       "  <tbody>\n",
       "    <tr>\n",
       "      <th>Naive Bayes</th>\n",
       "      <td>0.803653</td>\n",
       "      <td>9.341822e-02</td>\n",
       "    </tr>\n",
       "    <tr>\n",
       "      <th>Naive Bayes down</th>\n",
       "      <td>0.820944</td>\n",
       "      <td>1.103615e-01</td>\n",
       "    </tr>\n",
       "    <tr>\n",
       "      <th>Naive Bayes up</th>\n",
       "      <td>0.831440</td>\n",
       "      <td>1.309410e-01</td>\n",
       "    </tr>\n",
       "    <tr>\n",
       "      <th>Random Forest</th>\n",
       "      <td>0.975309</td>\n",
       "      <td>5.946319e-01</td>\n",
       "    </tr>\n",
       "    <tr>\n",
       "      <th>Random Forest up</th>\n",
       "      <td>0.980286</td>\n",
       "      <td>6.152356e-01</td>\n",
       "    </tr>\n",
       "    <tr>\n",
       "      <th>LightGBM</th>\n",
       "      <td>0.964071</td>\n",
       "      <td>3.761017e-01</td>\n",
       "    </tr>\n",
       "    <tr>\n",
       "      <th>LightGBM up</th>\n",
       "      <td>0.967665</td>\n",
       "      <td>3.405136e-01</td>\n",
       "    </tr>\n",
       "    <tr>\n",
       "      <th>TFIDF - NB</th>\n",
       "      <td>0.847096</td>\n",
       "      <td>4.628623e-151</td>\n",
       "    </tr>\n",
       "  </tbody>\n",
       "</table>\n",
       "</div>"
      ],
      "text/plain": [
       "                  F1-score      Threshold\n",
       "Naive Bayes       0.803653   9.341822e-02\n",
       "Naive Bayes down  0.820944   1.103615e-01\n",
       "Naive Bayes up    0.831440   1.309410e-01\n",
       "Random Forest     0.975309   5.946319e-01\n",
       "Random Forest up  0.980286   6.152356e-01\n",
       "LightGBM          0.964071   3.761017e-01\n",
       "LightGBM up       0.967665   3.405136e-01\n",
       "TFIDF - NB        0.847096  4.628623e-151"
      ]
     },
     "execution_count": 70,
     "metadata": {},
     "output_type": "execute_result"
    }
   ],
   "source": [
    "addResult('TFIDF - NB', f1[argmax_tfidf_high_recall], thresholds[argmax_tfidf_high_recall])\n",
    "result"
   ]
  },
  {
   "cell_type": "markdown",
   "id": "88ceb318",
   "metadata": {},
   "source": [
    "##### Upsampled"
   ]
  },
  {
   "cell_type": "code",
   "execution_count": 71,
   "id": "7f47d4d9",
   "metadata": {},
   "outputs": [
    {
     "name": "stdout",
     "output_type": "stream",
     "text": [
      "Threshold: 1.53238963153984e-156\n",
      "Precision: 0.9564343163538874\n",
      "Recall: 0.8504171632896305\n",
      "F1-score: 0.9003154574132493\n"
     ]
    }
   ],
   "source": [
    "gnb = GaussianNB()\n",
    "gnb.fit(X_train_tfidf_u, y_train_u)\n",
    "y_scores_u = gnb.predict_proba(X_test_tfidf_u)\n",
    "precision, recall, thresholds = precision_recall_curve(y_test_u, y_scores_u[:, 1])\n",
    "f1 = (2 * precision * recall)/(precision + recall)\n",
    "print_values(f1.argmax())"
   ]
  },
  {
   "cell_type": "code",
   "execution_count": 72,
   "id": "48b9b3ef",
   "metadata": {},
   "outputs": [
    {
     "data": {
      "text/html": [
       "<div>\n",
       "<style scoped>\n",
       "    .dataframe tbody tr th:only-of-type {\n",
       "        vertical-align: middle;\n",
       "    }\n",
       "\n",
       "    .dataframe tbody tr th {\n",
       "        vertical-align: top;\n",
       "    }\n",
       "\n",
       "    .dataframe thead th {\n",
       "        text-align: right;\n",
       "    }\n",
       "</style>\n",
       "<table border=\"1\" class=\"dataframe\">\n",
       "  <thead>\n",
       "    <tr style=\"text-align: right;\">\n",
       "      <th></th>\n",
       "      <th>F1-score</th>\n",
       "      <th>Threshold</th>\n",
       "    </tr>\n",
       "  </thead>\n",
       "  <tbody>\n",
       "    <tr>\n",
       "      <th>Naive Bayes</th>\n",
       "      <td>0.803653</td>\n",
       "      <td>9.341822e-02</td>\n",
       "    </tr>\n",
       "    <tr>\n",
       "      <th>Naive Bayes down</th>\n",
       "      <td>0.820944</td>\n",
       "      <td>1.103615e-01</td>\n",
       "    </tr>\n",
       "    <tr>\n",
       "      <th>Naive Bayes up</th>\n",
       "      <td>0.831440</td>\n",
       "      <td>1.309410e-01</td>\n",
       "    </tr>\n",
       "    <tr>\n",
       "      <th>Random Forest</th>\n",
       "      <td>0.975309</td>\n",
       "      <td>5.946319e-01</td>\n",
       "    </tr>\n",
       "    <tr>\n",
       "      <th>Random Forest up</th>\n",
       "      <td>0.980286</td>\n",
       "      <td>6.152356e-01</td>\n",
       "    </tr>\n",
       "    <tr>\n",
       "      <th>LightGBM</th>\n",
       "      <td>0.964071</td>\n",
       "      <td>3.761017e-01</td>\n",
       "    </tr>\n",
       "    <tr>\n",
       "      <th>LightGBM up</th>\n",
       "      <td>0.967665</td>\n",
       "      <td>3.405136e-01</td>\n",
       "    </tr>\n",
       "    <tr>\n",
       "      <th>TFIDF - NB</th>\n",
       "      <td>0.847096</td>\n",
       "      <td>4.628623e-151</td>\n",
       "    </tr>\n",
       "    <tr>\n",
       "      <th>TFIDF - NB up</th>\n",
       "      <td>0.900315</td>\n",
       "      <td>1.532390e-156</td>\n",
       "    </tr>\n",
       "  </tbody>\n",
       "</table>\n",
       "</div>"
      ],
      "text/plain": [
       "                  F1-score      Threshold\n",
       "Naive Bayes       0.803653   9.341822e-02\n",
       "Naive Bayes down  0.820944   1.103615e-01\n",
       "Naive Bayes up    0.831440   1.309410e-01\n",
       "Random Forest     0.975309   5.946319e-01\n",
       "Random Forest up  0.980286   6.152356e-01\n",
       "LightGBM          0.964071   3.761017e-01\n",
       "LightGBM up       0.967665   3.405136e-01\n",
       "TFIDF - NB        0.847096  4.628623e-151\n",
       "TFIDF - NB up     0.900315  1.532390e-156"
      ]
     },
     "execution_count": 72,
     "metadata": {},
     "output_type": "execute_result"
    }
   ],
   "source": [
    "addResult('TFIDF - NB up', f1.max(), thresholds[f1.argmax()])\n",
    "result"
   ]
  },
  {
   "cell_type": "markdown",
   "id": "d65b5e72",
   "metadata": {},
   "source": [
    "#### 2. Random forest"
   ]
  },
  {
   "cell_type": "code",
   "execution_count": 73,
   "id": "e0602dca",
   "metadata": {},
   "outputs": [
    {
     "name": "stdout",
     "output_type": "stream",
     "text": [
      "Threshold: 0.6034761904761903\n",
      "Precision: 0.9923048735800659\n",
      "Recall: 0.9706093189964158\n",
      "F1-score: 0.9813371987678927\n"
     ]
    }
   ],
   "source": [
    "rdf = RandomForestClassifier(min_samples_split=5, random_state=0)\n",
    "rdf.fit(X_train_tfidf, y_train)\n",
    "y_scores = rdf.predict_proba(X_test_tfidf)\n",
    "precision, recall, thresholds = precision_recall_curve(y_test, y_scores[:, 1])\n",
    "f1 = (2 * precision * recall)/(precision + recall)\n",
    "print_values(f1.argmax())"
   ]
  },
  {
   "cell_type": "code",
   "execution_count": 74,
   "id": "1d0b3259",
   "metadata": {},
   "outputs": [
    {
     "data": {
      "text/html": [
       "<div>\n",
       "<style scoped>\n",
       "    .dataframe tbody tr th:only-of-type {\n",
       "        vertical-align: middle;\n",
       "    }\n",
       "\n",
       "    .dataframe tbody tr th {\n",
       "        vertical-align: top;\n",
       "    }\n",
       "\n",
       "    .dataframe thead th {\n",
       "        text-align: right;\n",
       "    }\n",
       "</style>\n",
       "<table border=\"1\" class=\"dataframe\">\n",
       "  <thead>\n",
       "    <tr style=\"text-align: right;\">\n",
       "      <th></th>\n",
       "      <th>F1-score</th>\n",
       "      <th>Threshold</th>\n",
       "    </tr>\n",
       "  </thead>\n",
       "  <tbody>\n",
       "    <tr>\n",
       "      <th>Naive Bayes</th>\n",
       "      <td>0.803653</td>\n",
       "      <td>9.341822e-02</td>\n",
       "    </tr>\n",
       "    <tr>\n",
       "      <th>Naive Bayes down</th>\n",
       "      <td>0.820944</td>\n",
       "      <td>1.103615e-01</td>\n",
       "    </tr>\n",
       "    <tr>\n",
       "      <th>Naive Bayes up</th>\n",
       "      <td>0.831440</td>\n",
       "      <td>1.309410e-01</td>\n",
       "    </tr>\n",
       "    <tr>\n",
       "      <th>Random Forest</th>\n",
       "      <td>0.975309</td>\n",
       "      <td>5.946319e-01</td>\n",
       "    </tr>\n",
       "    <tr>\n",
       "      <th>Random Forest up</th>\n",
       "      <td>0.980286</td>\n",
       "      <td>6.152356e-01</td>\n",
       "    </tr>\n",
       "    <tr>\n",
       "      <th>LightGBM</th>\n",
       "      <td>0.964071</td>\n",
       "      <td>3.761017e-01</td>\n",
       "    </tr>\n",
       "    <tr>\n",
       "      <th>LightGBM up</th>\n",
       "      <td>0.967665</td>\n",
       "      <td>3.405136e-01</td>\n",
       "    </tr>\n",
       "    <tr>\n",
       "      <th>TFIDF - NB</th>\n",
       "      <td>0.847096</td>\n",
       "      <td>4.628623e-151</td>\n",
       "    </tr>\n",
       "    <tr>\n",
       "      <th>TFIDF - NB up</th>\n",
       "      <td>0.900315</td>\n",
       "      <td>1.532390e-156</td>\n",
       "    </tr>\n",
       "    <tr>\n",
       "      <th>TFIDF - RF</th>\n",
       "      <td>0.981337</td>\n",
       "      <td>6.034762e-01</td>\n",
       "    </tr>\n",
       "  </tbody>\n",
       "</table>\n",
       "</div>"
      ],
      "text/plain": [
       "                  F1-score      Threshold\n",
       "Naive Bayes       0.803653   9.341822e-02\n",
       "Naive Bayes down  0.820944   1.103615e-01\n",
       "Naive Bayes up    0.831440   1.309410e-01\n",
       "Random Forest     0.975309   5.946319e-01\n",
       "Random Forest up  0.980286   6.152356e-01\n",
       "LightGBM          0.964071   3.761017e-01\n",
       "LightGBM up       0.967665   3.405136e-01\n",
       "TFIDF - NB        0.847096  4.628623e-151\n",
       "TFIDF - NB up     0.900315  1.532390e-156\n",
       "TFIDF - RF        0.981337   6.034762e-01"
      ]
     },
     "execution_count": 74,
     "metadata": {},
     "output_type": "execute_result"
    }
   ],
   "source": [
    "addResult('TFIDF - RF', f1.max(), thresholds[f1.argmax()])\n",
    "result"
   ]
  },
  {
   "cell_type": "markdown",
   "id": "9c8cb8c6",
   "metadata": {},
   "source": [
    "##### Upsampled"
   ]
  },
  {
   "cell_type": "code",
   "execution_count": 75,
   "id": "3a920df1",
   "metadata": {},
   "outputs": [
    {
     "name": "stdout",
     "output_type": "stream",
     "text": [
      "Threshold: 0.5510396825396826\n",
      "Precision: 0.9897528631705846\n",
      "Recall: 0.9785458879618594\n",
      "F1-score: 0.9841174707821395\n"
     ]
    }
   ],
   "source": [
    "rdf = RandomForestClassifier(min_samples_split=5, random_state=0)\n",
    "rdf.fit(X_train_tfidf_u, y_train_u)\n",
    "y_scores = rdf.predict_proba(X_test_tfidf_u)\n",
    "precision, recall, thresholds = precision_recall_curve(y_test_u, y_scores[:, 1])\n",
    "f1 = (2 * precision * recall)/(precision + recall)\n",
    "print_values(f1.argmax())"
   ]
  },
  {
   "cell_type": "code",
   "execution_count": 76,
   "id": "73802562",
   "metadata": {},
   "outputs": [
    {
     "data": {
      "text/html": [
       "<div>\n",
       "<style scoped>\n",
       "    .dataframe tbody tr th:only-of-type {\n",
       "        vertical-align: middle;\n",
       "    }\n",
       "\n",
       "    .dataframe tbody tr th {\n",
       "        vertical-align: top;\n",
       "    }\n",
       "\n",
       "    .dataframe thead th {\n",
       "        text-align: right;\n",
       "    }\n",
       "</style>\n",
       "<table border=\"1\" class=\"dataframe\">\n",
       "  <thead>\n",
       "    <tr style=\"text-align: right;\">\n",
       "      <th></th>\n",
       "      <th>F1-score</th>\n",
       "      <th>Threshold</th>\n",
       "    </tr>\n",
       "  </thead>\n",
       "  <tbody>\n",
       "    <tr>\n",
       "      <th>Naive Bayes</th>\n",
       "      <td>0.803653</td>\n",
       "      <td>9.341822e-02</td>\n",
       "    </tr>\n",
       "    <tr>\n",
       "      <th>Naive Bayes down</th>\n",
       "      <td>0.820944</td>\n",
       "      <td>1.103615e-01</td>\n",
       "    </tr>\n",
       "    <tr>\n",
       "      <th>Naive Bayes up</th>\n",
       "      <td>0.831440</td>\n",
       "      <td>1.309410e-01</td>\n",
       "    </tr>\n",
       "    <tr>\n",
       "      <th>Random Forest</th>\n",
       "      <td>0.975309</td>\n",
       "      <td>5.946319e-01</td>\n",
       "    </tr>\n",
       "    <tr>\n",
       "      <th>Random Forest up</th>\n",
       "      <td>0.980286</td>\n",
       "      <td>6.152356e-01</td>\n",
       "    </tr>\n",
       "    <tr>\n",
       "      <th>LightGBM</th>\n",
       "      <td>0.964071</td>\n",
       "      <td>3.761017e-01</td>\n",
       "    </tr>\n",
       "    <tr>\n",
       "      <th>LightGBM up</th>\n",
       "      <td>0.967665</td>\n",
       "      <td>3.405136e-01</td>\n",
       "    </tr>\n",
       "    <tr>\n",
       "      <th>TFIDF - NB</th>\n",
       "      <td>0.847096</td>\n",
       "      <td>4.628623e-151</td>\n",
       "    </tr>\n",
       "    <tr>\n",
       "      <th>TFIDF - NB up</th>\n",
       "      <td>0.900315</td>\n",
       "      <td>1.532390e-156</td>\n",
       "    </tr>\n",
       "    <tr>\n",
       "      <th>TFIDF - RF</th>\n",
       "      <td>0.981337</td>\n",
       "      <td>6.034762e-01</td>\n",
       "    </tr>\n",
       "    <tr>\n",
       "      <th>TFIDF - RF up</th>\n",
       "      <td>0.984117</td>\n",
       "      <td>5.510397e-01</td>\n",
       "    </tr>\n",
       "  </tbody>\n",
       "</table>\n",
       "</div>"
      ],
      "text/plain": [
       "                  F1-score      Threshold\n",
       "Naive Bayes       0.803653   9.341822e-02\n",
       "Naive Bayes down  0.820944   1.103615e-01\n",
       "Naive Bayes up    0.831440   1.309410e-01\n",
       "Random Forest     0.975309   5.946319e-01\n",
       "Random Forest up  0.980286   6.152356e-01\n",
       "LightGBM          0.964071   3.761017e-01\n",
       "LightGBM up       0.967665   3.405136e-01\n",
       "TFIDF - NB        0.847096  4.628623e-151\n",
       "TFIDF - NB up     0.900315  1.532390e-156\n",
       "TFIDF - RF        0.981337   6.034762e-01\n",
       "TFIDF - RF up     0.984117   5.510397e-01"
      ]
     },
     "execution_count": 76,
     "metadata": {},
     "output_type": "execute_result"
    }
   ],
   "source": [
    "addResult('TFIDF - RF up', f1.max(), thresholds[f1.argmax()])\n",
    "result"
   ]
  },
  {
   "cell_type": "markdown",
   "id": "aca5a1a4",
   "metadata": {},
   "source": [
    "#### 3. LightGBM"
   ]
  },
  {
   "cell_type": "code",
   "execution_count": 77,
   "id": "2060c4e6",
   "metadata": {},
   "outputs": [
    {
     "name": "stdout",
     "output_type": "stream",
     "text": [
      "[LightGBM] [Warning] Found whitespace in feature_names, replace with underlines\n",
      "[LightGBM] [Info] Number of positive: 8587, number of negative: 14591\n",
      "[LightGBM] [Warning] Auto-choosing row-wise multi-threading, the overhead of testing was 0.034885 seconds.\n",
      "You can set `force_row_wise=true` to remove the overhead.\n",
      "And if memory is not enough, you can set `force_col_wise=true`.\n",
      "[LightGBM] [Info] Total Bins 2002\n",
      "[LightGBM] [Info] Number of data points in the train set: 23178, number of used features: 329\n",
      "[LightGBM] [Warning] Found whitespace in feature_names, replace with underlines\n",
      "[LightGBM] [Info] [binary:BoostFromScore]: pavg=0.370481 -> initscore=-0.530155\n",
      "[LightGBM] [Info] Start training from score -0.530155\n",
      "[1]\tvalid_0's binary_logloss: 0.645338\tvalid_0's f1_score: 0.965025\n",
      "[2]\tvalid_0's binary_logloss: 0.636655\tvalid_0's f1_score: 0.965025\n",
      "[3]\tvalid_0's binary_logloss: 0.628166\tvalid_0's f1_score: 0.965025\n",
      "[4]\tvalid_0's binary_logloss: 0.619936\tvalid_0's f1_score: 0.965201\n",
      "[5]\tvalid_0's binary_logloss: 0.611886\tvalid_0's f1_score: 0.965201\n",
      "[6]\tvalid_0's binary_logloss: 0.604009\tvalid_0's f1_score: 0.965201\n",
      "[7]\tvalid_0's binary_logloss: 0.596298\tvalid_0's f1_score: 0.965012\n",
      "[8]\tvalid_0's binary_logloss: 0.588749\tvalid_0's f1_score: 0.964684\n",
      "[9]\tvalid_0's binary_logloss: 0.581357\tvalid_0's f1_score: 0.964495\n",
      "[10]\tvalid_0's binary_logloss: 0.574114\tvalid_0's f1_score: 0.964495\n",
      "[11]\tvalid_0's binary_logloss: 0.567018\tvalid_0's f1_score: 0.964495\n",
      "[12]\tvalid_0's binary_logloss: 0.56007\tvalid_0's f1_score: 0.964495\n",
      "[13]\tvalid_0's binary_logloss: 0.553253\tvalid_0's f1_score: 0.964495\n",
      "[14]\tvalid_0's binary_logloss: 0.546576\tvalid_0's f1_score: 0.964495\n",
      "[15]\tvalid_0's binary_logloss: 0.540028\tvalid_0's f1_score: 0.962132\n",
      "[16]\tvalid_0's binary_logloss: 0.5336\tvalid_0's f1_score: 0.962132\n",
      "[17]\tvalid_0's binary_logloss: 0.527299\tvalid_0's f1_score: 0.962132\n",
      "[18]\tvalid_0's binary_logloss: 0.521118\tvalid_0's f1_score: 0.962132\n",
      "[19]\tvalid_0's binary_logloss: 0.515046\tvalid_0's f1_score: 0.962132\n",
      "[20]\tvalid_0's binary_logloss: 0.50902\tvalid_0's f1_score: 0.962132\n",
      "[21]\tvalid_0's binary_logloss: 0.503175\tvalid_0's f1_score: 0.962132\n",
      "[22]\tvalid_0's binary_logloss: 0.49736\tvalid_0's f1_score: 0.964495\n",
      "[23]\tvalid_0's binary_logloss: 0.491729\tvalid_0's f1_score: 0.964697\n",
      "[24]\tvalid_0's binary_logloss: 0.486104\tvalid_0's f1_score: 0.964697\n",
      "[25]\tvalid_0's binary_logloss: 0.480585\tvalid_0's f1_score: 0.964697\n",
      "[26]\tvalid_0's binary_logloss: 0.475177\tvalid_0's f1_score: 0.964697\n",
      "[27]\tvalid_0's binary_logloss: 0.469919\tvalid_0's f1_score: 0.964697\n",
      "[28]\tvalid_0's binary_logloss: 0.464696\tvalid_0's f1_score: 0.964697\n",
      "[29]\tvalid_0's binary_logloss: 0.459555\tvalid_0's f1_score: 0.964697\n",
      "[30]\tvalid_0's binary_logloss: 0.454511\tvalid_0's f1_score: 0.964697\n",
      "[31]\tvalid_0's binary_logloss: 0.449544\tvalid_0's f1_score: 0.964697\n",
      "[32]\tvalid_0's binary_logloss: 0.444665\tvalid_0's f1_score: 0.964697\n",
      "[33]\tvalid_0's binary_logloss: 0.439849\tvalid_0's f1_score: 0.964697\n",
      "[34]\tvalid_0's binary_logloss: 0.435128\tvalid_0's f1_score: 0.96505\n",
      "[35]\tvalid_0's binary_logloss: 0.430483\tvalid_0's f1_score: 0.965404\n",
      "[36]\tvalid_0's binary_logloss: 0.425907\tvalid_0's f1_score: 0.965404\n",
      "[37]\tvalid_0's binary_logloss: 0.421411\tvalid_0's f1_score: 0.96572\n",
      "[38]\tvalid_0's binary_logloss: 0.417025\tvalid_0's f1_score: 0.965404\n",
      "[39]\tvalid_0's binary_logloss: 0.412672\tvalid_0's f1_score: 0.965922\n",
      "[40]\tvalid_0's binary_logloss: 0.408396\tvalid_0's f1_score: 0.966099\n",
      "[41]\tvalid_0's binary_logloss: 0.404209\tvalid_0's f1_score: 0.965909\n",
      "[42]\tvalid_0's binary_logloss: 0.400069\tvalid_0's f1_score: 0.965909\n",
      "[43]\tvalid_0's binary_logloss: 0.395988\tvalid_0's f1_score: 0.965909\n",
      "[44]\tvalid_0's binary_logloss: 0.391978\tvalid_0's f1_score: 0.96558\n",
      "[45]\tvalid_0's binary_logloss: 0.387983\tvalid_0's f1_score: 0.966618\n",
      "[46]\tvalid_0's binary_logloss: 0.384096\tvalid_0's f1_score: 0.966099\n",
      "[47]\tvalid_0's binary_logloss: 0.380263\tvalid_0's f1_score: 0.966099\n",
      "[48]\tvalid_0's binary_logloss: 0.376495\tvalid_0's f1_score: 0.966099\n",
      "[49]\tvalid_0's binary_logloss: 0.372779\tvalid_0's f1_score: 0.966099\n",
      "[50]\tvalid_0's binary_logloss: 0.369125\tvalid_0's f1_score: 0.966099\n",
      "[51]\tvalid_0's binary_logloss: 0.365521\tvalid_0's f1_score: 0.966514\n",
      "[52]\tvalid_0's binary_logloss: 0.361937\tvalid_0's f1_score: 0.966514\n",
      "[53]\tvalid_0's binary_logloss: 0.358406\tvalid_0's f1_score: 0.966514\n",
      "[54]\tvalid_0's binary_logloss: 0.354923\tvalid_0's f1_score: 0.966514\n",
      "[55]\tvalid_0's binary_logloss: 0.351528\tvalid_0's f1_score: 0.966514\n",
      "[56]\tvalid_0's binary_logloss: 0.348178\tvalid_0's f1_score: 0.966691\n",
      "[57]\tvalid_0's binary_logloss: 0.344883\tvalid_0's f1_score: 0.96644\n",
      "[58]\tvalid_0's binary_logloss: 0.341564\tvalid_0's f1_score: 0.966009\n",
      "[59]\tvalid_0's binary_logloss: 0.338294\tvalid_0's f1_score: 0.966009\n",
      "[60]\tvalid_0's binary_logloss: 0.335077\tvalid_0's f1_score: 0.966198\n",
      "[61]\tvalid_0's binary_logloss: 0.331907\tvalid_0's f1_score: 0.966198\n",
      "[62]\tvalid_0's binary_logloss: 0.328784\tvalid_0's f1_score: 0.966198\n",
      "[63]\tvalid_0's binary_logloss: 0.325707\tvalid_0's f1_score: 0.966198\n",
      "[64]\tvalid_0's binary_logloss: 0.32267\tvalid_0's f1_score: 0.966198\n",
      "[65]\tvalid_0's binary_logloss: 0.319694\tvalid_0's f1_score: 0.966198\n",
      "[66]\tvalid_0's binary_logloss: 0.316762\tvalid_0's f1_score: 0.966198\n",
      "[67]\tvalid_0's binary_logloss: 0.313872\tvalid_0's f1_score: 0.966198\n",
      "[68]\tvalid_0's binary_logloss: 0.311023\tvalid_0's f1_score: 0.966387\n",
      "[69]\tvalid_0's binary_logloss: 0.308215\tvalid_0's f1_score: 0.966526\n",
      "[70]\tvalid_0's binary_logloss: 0.305446\tvalid_0's f1_score: 0.966526\n",
      "[71]\tvalid_0's binary_logloss: 0.302716\tvalid_0's f1_score: 0.966526\n",
      "[72]\tvalid_0's binary_logloss: 0.300025\tvalid_0's f1_score: 0.966526\n",
      "[73]\tvalid_0's binary_logloss: 0.297373\tvalid_0's f1_score: 0.966526\n",
      "[74]\tvalid_0's binary_logloss: 0.294757\tvalid_0's f1_score: 0.966526\n",
      "[75]\tvalid_0's binary_logloss: 0.292179\tvalid_0's f1_score: 0.966636\n",
      "[76]\tvalid_0's binary_logloss: 0.28964\tvalid_0's f1_score: 0.966636\n",
      "[77]\tvalid_0's binary_logloss: 0.287068\tvalid_0's f1_score: 0.966636\n",
      "[78]\tvalid_0's binary_logloss: 0.284585\tvalid_0's f1_score: 0.966715\n",
      "[79]\tvalid_0's binary_logloss: 0.28209\tvalid_0's f1_score: 0.967025\n",
      "[80]\tvalid_0's binary_logloss: 0.279677\tvalid_0's f1_score: 0.967025\n",
      "[81]\tvalid_0's binary_logloss: 0.277223\tvalid_0's f1_score: 0.967318\n",
      "[82]\tvalid_0's binary_logloss: 0.274808\tvalid_0's f1_score: 0.967318\n",
      "[83]\tvalid_0's binary_logloss: 0.272416\tvalid_0's f1_score: 0.967318\n",
      "[84]\tvalid_0's binary_logloss: 0.270127\tvalid_0's f1_score: 0.967318\n",
      "[85]\tvalid_0's binary_logloss: 0.267808\tvalid_0's f1_score: 0.967318\n",
      "[86]\tvalid_0's binary_logloss: 0.265537\tvalid_0's f1_score: 0.96753\n",
      "[87]\tvalid_0's binary_logloss: 0.263268\tvalid_0's f1_score: 0.96753\n",
      "[88]\tvalid_0's binary_logloss: 0.261057\tvalid_0's f1_score: 0.967883\n",
      "[89]\tvalid_0's binary_logloss: 0.258876\tvalid_0's f1_score: 0.967965\n",
      "[90]\tvalid_0's binary_logloss: 0.256707\tvalid_0's f1_score: 0.967965\n",
      "[91]\tvalid_0's binary_logloss: 0.254582\tvalid_0's f1_score: 0.967965\n",
      "[92]\tvalid_0's binary_logloss: 0.252527\tvalid_0's f1_score: 0.967965\n",
      "[93]\tvalid_0's binary_logloss: 0.250438\tvalid_0's f1_score: 0.967965\n",
      "[94]\tvalid_0's binary_logloss: 0.248365\tvalid_0's f1_score: 0.968294\n",
      "[95]\tvalid_0's binary_logloss: 0.246339\tvalid_0's f1_score: 0.968367\n",
      "[96]\tvalid_0's binary_logloss: 0.244333\tvalid_0's f1_score: 0.968367\n",
      "[97]\tvalid_0's binary_logloss: 0.242308\tvalid_0's f1_score: 0.968544\n",
      "[98]\tvalid_0's binary_logloss: 0.240355\tvalid_0's f1_score: 0.968544\n",
      "[99]\tvalid_0's binary_logloss: 0.238383\tvalid_0's f1_score: 0.968544\n",
      "[100]\tvalid_0's binary_logloss: 0.236486\tvalid_0's f1_score: 0.968544\n",
      "Threshold: 0.46324642360958546\n",
      "Precision: 0.9887976101568334\n",
      "Recall: 0.9491039426523298\n",
      "F1-score: 0.9685442574981712\n"
     ]
    }
   ],
   "source": [
    "def fscore(y_scores, dtrain):\n",
    "    \n",
    "    precision, recall, thresholds = precision_recall_curve(y_test, y_scores)\n",
    "    f1 = (2 * precision * recall)/(precision + recall)\n",
    "    return 'f1_score', f1.max(), True\n",
    "\n",
    "train_data=lgb.Dataset(X_train_tfidf,label=y_train)\n",
    "test_data = lgb.Dataset(X_test_tfidf, label=y_test)\n",
    "param = {'objective':'binary', 'learning_rate':0.01}\n",
    "lgbm=lgb.train(param, train_data, valid_sets=[test_data], feval=fscore)\n",
    "\n",
    "y_scores = lgbm.predict(X_test_tfidf)\n",
    "precision, recall, thresholds = precision_recall_curve(y_test, y_scores)\n",
    "f1 = (2 * precision * recall)/(precision + recall)\n",
    "print_values(f1.argmax())"
   ]
  },
  {
   "cell_type": "code",
   "execution_count": 78,
   "id": "29d85a2e",
   "metadata": {},
   "outputs": [
    {
     "data": {
      "text/html": [
       "<div>\n",
       "<style scoped>\n",
       "    .dataframe tbody tr th:only-of-type {\n",
       "        vertical-align: middle;\n",
       "    }\n",
       "\n",
       "    .dataframe tbody tr th {\n",
       "        vertical-align: top;\n",
       "    }\n",
       "\n",
       "    .dataframe thead th {\n",
       "        text-align: right;\n",
       "    }\n",
       "</style>\n",
       "<table border=\"1\" class=\"dataframe\">\n",
       "  <thead>\n",
       "    <tr style=\"text-align: right;\">\n",
       "      <th></th>\n",
       "      <th>F1-score</th>\n",
       "      <th>Threshold</th>\n",
       "    </tr>\n",
       "  </thead>\n",
       "  <tbody>\n",
       "    <tr>\n",
       "      <th>Naive Bayes</th>\n",
       "      <td>0.803653</td>\n",
       "      <td>9.341822e-02</td>\n",
       "    </tr>\n",
       "    <tr>\n",
       "      <th>Naive Bayes down</th>\n",
       "      <td>0.820944</td>\n",
       "      <td>1.103615e-01</td>\n",
       "    </tr>\n",
       "    <tr>\n",
       "      <th>Naive Bayes up</th>\n",
       "      <td>0.831440</td>\n",
       "      <td>1.309410e-01</td>\n",
       "    </tr>\n",
       "    <tr>\n",
       "      <th>Random Forest</th>\n",
       "      <td>0.975309</td>\n",
       "      <td>5.946319e-01</td>\n",
       "    </tr>\n",
       "    <tr>\n",
       "      <th>Random Forest up</th>\n",
       "      <td>0.980286</td>\n",
       "      <td>6.152356e-01</td>\n",
       "    </tr>\n",
       "    <tr>\n",
       "      <th>LightGBM</th>\n",
       "      <td>0.964071</td>\n",
       "      <td>3.761017e-01</td>\n",
       "    </tr>\n",
       "    <tr>\n",
       "      <th>LightGBM up</th>\n",
       "      <td>0.967665</td>\n",
       "      <td>3.405136e-01</td>\n",
       "    </tr>\n",
       "    <tr>\n",
       "      <th>TFIDF - NB</th>\n",
       "      <td>0.847096</td>\n",
       "      <td>4.628623e-151</td>\n",
       "    </tr>\n",
       "    <tr>\n",
       "      <th>TFIDF - NB up</th>\n",
       "      <td>0.900315</td>\n",
       "      <td>1.532390e-156</td>\n",
       "    </tr>\n",
       "    <tr>\n",
       "      <th>TFIDF - RF</th>\n",
       "      <td>0.981337</td>\n",
       "      <td>6.034762e-01</td>\n",
       "    </tr>\n",
       "    <tr>\n",
       "      <th>TFIDF - RF up</th>\n",
       "      <td>0.984117</td>\n",
       "      <td>5.510397e-01</td>\n",
       "    </tr>\n",
       "    <tr>\n",
       "      <th>TFIDF - LightGBM</th>\n",
       "      <td>0.968544</td>\n",
       "      <td>4.632464e-01</td>\n",
       "    </tr>\n",
       "  </tbody>\n",
       "</table>\n",
       "</div>"
      ],
      "text/plain": [
       "                  F1-score      Threshold\n",
       "Naive Bayes       0.803653   9.341822e-02\n",
       "Naive Bayes down  0.820944   1.103615e-01\n",
       "Naive Bayes up    0.831440   1.309410e-01\n",
       "Random Forest     0.975309   5.946319e-01\n",
       "Random Forest up  0.980286   6.152356e-01\n",
       "LightGBM          0.964071   3.761017e-01\n",
       "LightGBM up       0.967665   3.405136e-01\n",
       "TFIDF - NB        0.847096  4.628623e-151\n",
       "TFIDF - NB up     0.900315  1.532390e-156\n",
       "TFIDF - RF        0.981337   6.034762e-01\n",
       "TFIDF - RF up     0.984117   5.510397e-01\n",
       "TFIDF - LightGBM  0.968544   4.632464e-01"
      ]
     },
     "execution_count": 78,
     "metadata": {},
     "output_type": "execute_result"
    }
   ],
   "source": [
    "addResult('TFIDF - LightGBM', f1.max(), thresholds[f1.argmax()])\n",
    "result"
   ]
  },
  {
   "cell_type": "markdown",
   "id": "9f0a2aa3",
   "metadata": {},
   "source": [
    "###### Upsampled"
   ]
  },
  {
   "cell_type": "code",
   "execution_count": 79,
   "id": "6dc2a47a",
   "metadata": {},
   "outputs": [
    {
     "name": "stdout",
     "output_type": "stream",
     "text": [
      "[LightGBM] [Warning] Found whitespace in feature_names, replace with underlines\n",
      "[LightGBM] [Info] Number of positive: 10021, number of negative: 14657\n",
      "[LightGBM] [Warning] Auto-choosing col-wise multi-threading, the overhead of testing was 0.024872 seconds.\n",
      "You can set `force_col_wise=true` to remove the overhead.\n",
      "[LightGBM] [Info] Total Bins 2022\n",
      "[LightGBM] [Info] Number of data points in the train set: 24678, number of used features: 324\n",
      "[LightGBM] [Warning] Found whitespace in feature_names, replace with underlines\n",
      "[LightGBM] [Info] [binary:BoostFromScore]: pavg=0.406070 -> initscore=-0.380235\n",
      "[LightGBM] [Info] Start training from score -0.380235\n",
      "[1]\tvalid_0's binary_logloss: 0.667168\tvalid_0's f1_score: 0.966976\n",
      "[2]\tvalid_0's binary_logloss: 0.658426\tvalid_0's f1_score: 0.966976\n",
      "[3]\tvalid_0's binary_logloss: 0.649888\tvalid_0's f1_score: 0.966976\n",
      "[4]\tvalid_0's binary_logloss: 0.641502\tvalid_0's f1_score: 0.966976\n",
      "[5]\tvalid_0's binary_logloss: 0.633296\tvalid_0's f1_score: 0.966976\n",
      "[6]\tvalid_0's binary_logloss: 0.625275\tvalid_0's f1_score: 0.967123\n",
      "[7]\tvalid_0's binary_logloss: 0.61742\tvalid_0's f1_score: 0.967123\n",
      "[8]\tvalid_0's binary_logloss: 0.609718\tvalid_0's f1_score: 0.967123\n",
      "[9]\tvalid_0's binary_logloss: 0.602153\tvalid_0's f1_score: 0.967123\n",
      "[10]\tvalid_0's binary_logloss: 0.594751\tvalid_0's f1_score: 0.967123\n",
      "[11]\tvalid_0's binary_logloss: 0.587478\tvalid_0's f1_score: 0.967123\n",
      "[12]\tvalid_0's binary_logloss: 0.580399\tvalid_0's f1_score: 0.967123\n",
      "[13]\tvalid_0's binary_logloss: 0.573422\tvalid_0's f1_score: 0.967123\n",
      "[14]\tvalid_0's binary_logloss: 0.566591\tvalid_0's f1_score: 0.967123\n",
      "[15]\tvalid_0's binary_logloss: 0.559909\tvalid_0's f1_score: 0.967123\n",
      "[16]\tvalid_0's binary_logloss: 0.553288\tvalid_0's f1_score: 0.967123\n",
      "[17]\tvalid_0's binary_logloss: 0.546851\tvalid_0's f1_score: 0.967123\n",
      "[18]\tvalid_0's binary_logloss: 0.540474\tvalid_0's f1_score: 0.967123\n",
      "[19]\tvalid_0's binary_logloss: 0.53425\tvalid_0's f1_score: 0.967123\n",
      "[20]\tvalid_0's binary_logloss: 0.528119\tvalid_0's f1_score: 0.967123\n",
      "[21]\tvalid_0's binary_logloss: 0.52211\tvalid_0's f1_score: 0.967123\n",
      "[22]\tvalid_0's binary_logloss: 0.516218\tvalid_0's f1_score: 0.967123\n",
      "[23]\tvalid_0's binary_logloss: 0.510401\tvalid_0's f1_score: 0.967123\n",
      "[24]\tvalid_0's binary_logloss: 0.504683\tvalid_0's f1_score: 0.967123\n",
      "[25]\tvalid_0's binary_logloss: 0.499055\tvalid_0's f1_score: 0.967123\n",
      "[26]\tvalid_0's binary_logloss: 0.493532\tvalid_0's f1_score: 0.967123\n",
      "[27]\tvalid_0's binary_logloss: 0.488142\tvalid_0's f1_score: 0.967123\n",
      "[28]\tvalid_0's binary_logloss: 0.482772\tvalid_0's f1_score: 0.967123\n",
      "[29]\tvalid_0's binary_logloss: 0.477562\tvalid_0's f1_score: 0.967123\n",
      "[30]\tvalid_0's binary_logloss: 0.472387\tvalid_0's f1_score: 0.967123\n",
      "[31]\tvalid_0's binary_logloss: 0.467281\tvalid_0's f1_score: 0.967123\n",
      "[32]\tvalid_0's binary_logloss: 0.462287\tvalid_0's f1_score: 0.967123\n",
      "[33]\tvalid_0's binary_logloss: 0.457398\tvalid_0's f1_score: 0.967123\n",
      "[34]\tvalid_0's binary_logloss: 0.452574\tvalid_0's f1_score: 0.967123\n",
      "[35]\tvalid_0's binary_logloss: 0.447819\tvalid_0's f1_score: 0.96728\n",
      "[36]\tvalid_0's binary_logloss: 0.443151\tvalid_0's f1_score: 0.96728\n",
      "[37]\tvalid_0's binary_logloss: 0.438563\tvalid_0's f1_score: 0.96728\n",
      "[38]\tvalid_0's binary_logloss: 0.43401\tvalid_0's f1_score: 0.967123\n",
      "[39]\tvalid_0's binary_logloss: 0.429526\tvalid_0's f1_score: 0.966641\n",
      "[40]\tvalid_0's binary_logloss: 0.425112\tvalid_0's f1_score: 0.966484\n",
      "[41]\tvalid_0's binary_logloss: 0.420754\tvalid_0's f1_score: 0.966484\n",
      "[42]\tvalid_0's binary_logloss: 0.416469\tvalid_0's f1_score: 0.966484\n",
      "[43]\tvalid_0's binary_logloss: 0.412256\tvalid_0's f1_score: 0.966326\n",
      "[44]\tvalid_0's binary_logloss: 0.408103\tvalid_0's f1_score: 0.966326\n",
      "[45]\tvalid_0's binary_logloss: 0.404008\tvalid_0's f1_score: 0.966326\n",
      "[46]\tvalid_0's binary_logloss: 0.399983\tvalid_0's f1_score: 0.966326\n",
      "[47]\tvalid_0's binary_logloss: 0.396016\tvalid_0's f1_score: 0.966326\n",
      "[48]\tvalid_0's binary_logloss: 0.392094\tvalid_0's f1_score: 0.966484\n",
      "[49]\tvalid_0's binary_logloss: 0.388244\tvalid_0's f1_score: 0.966484\n",
      "[50]\tvalid_0's binary_logloss: 0.384436\tvalid_0's f1_score: 0.966484\n",
      "[51]\tvalid_0's binary_logloss: 0.380676\tvalid_0's f1_score: 0.966484\n",
      "[52]\tvalid_0's binary_logloss: 0.377003\tvalid_0's f1_score: 0.966484\n",
      "[53]\tvalid_0's binary_logloss: 0.373352\tvalid_0's f1_score: 0.966484\n",
      "[54]\tvalid_0's binary_logloss: 0.369763\tvalid_0's f1_score: 0.966529\n",
      "[55]\tvalid_0's binary_logloss: 0.366197\tvalid_0's f1_score: 0.96653\n",
      "[56]\tvalid_0's binary_logloss: 0.362699\tvalid_0's f1_score: 0.96653\n",
      "[57]\tvalid_0's binary_logloss: 0.359228\tvalid_0's f1_score: 0.967123\n",
      "[58]\tvalid_0's binary_logloss: 0.355801\tvalid_0's f1_score: 0.967123\n",
      "[59]\tvalid_0's binary_logloss: 0.352431\tvalid_0's f1_score: 0.967123\n",
      "[60]\tvalid_0's binary_logloss: 0.34911\tvalid_0's f1_score: 0.96785\n",
      "[61]\tvalid_0's binary_logloss: 0.345814\tvalid_0's f1_score: 0.96785\n",
      "[62]\tvalid_0's binary_logloss: 0.342571\tvalid_0's f1_score: 0.96785\n",
      "[63]\tvalid_0's binary_logloss: 0.33937\tvalid_0's f1_score: 0.96785\n",
      "[64]\tvalid_0's binary_logloss: 0.336219\tvalid_0's f1_score: 0.96785\n",
      "[65]\tvalid_0's binary_logloss: 0.333113\tvalid_0's f1_score: 0.968006\n",
      "[66]\tvalid_0's binary_logloss: 0.330048\tvalid_0's f1_score: 0.968006\n",
      "[67]\tvalid_0's binary_logloss: 0.32703\tvalid_0's f1_score: 0.968006\n",
      "[68]\tvalid_0's binary_logloss: 0.324052\tvalid_0's f1_score: 0.968006\n",
      "[69]\tvalid_0's binary_logloss: 0.321106\tvalid_0's f1_score: 0.968006\n",
      "[70]\tvalid_0's binary_logloss: 0.318213\tvalid_0's f1_score: 0.968066\n",
      "[71]\tvalid_0's binary_logloss: 0.315359\tvalid_0's f1_score: 0.968066\n",
      "[72]\tvalid_0's binary_logloss: 0.312555\tvalid_0's f1_score: 0.968301\n",
      "[73]\tvalid_0's binary_logloss: 0.309778\tvalid_0's f1_score: 0.968379\n",
      "[74]\tvalid_0's binary_logloss: 0.307039\tvalid_0's f1_score: 0.968379\n",
      "[75]\tvalid_0's binary_logloss: 0.30434\tvalid_0's f1_score: 0.968456\n",
      "[76]\tvalid_0's binary_logloss: 0.301676\tvalid_0's f1_score: 0.968456\n",
      "[77]\tvalid_0's binary_logloss: 0.299063\tvalid_0's f1_score: 0.968389\n",
      "[78]\tvalid_0's binary_logloss: 0.296424\tvalid_0's f1_score: 0.968389\n",
      "[79]\tvalid_0's binary_logloss: 0.293881\tvalid_0's f1_score: 0.968389\n",
      "[80]\tvalid_0's binary_logloss: 0.291364\tvalid_0's f1_score: 0.968389\n",
      "[81]\tvalid_0's binary_logloss: 0.288889\tvalid_0's f1_score: 0.968389\n",
      "[82]\tvalid_0's binary_logloss: 0.286448\tvalid_0's f1_score: 0.968389\n",
      "[83]\tvalid_0's binary_logloss: 0.284039\tvalid_0's f1_score: 0.968393\n",
      "[84]\tvalid_0's binary_logloss: 0.281609\tvalid_0's f1_score: 0.968393\n",
      "[85]\tvalid_0's binary_logloss: 0.279264\tvalid_0's f1_score: 0.968393\n",
      "[86]\tvalid_0's binary_logloss: 0.276938\tvalid_0's f1_score: 0.968858\n",
      "[87]\tvalid_0's binary_logloss: 0.274647\tvalid_0's f1_score: 0.969191\n",
      "[88]\tvalid_0's binary_logloss: 0.272391\tvalid_0's f1_score: 0.969191\n",
      "[89]\tvalid_0's binary_logloss: 0.270169\tvalid_0's f1_score: 0.969191\n",
      "[90]\tvalid_0's binary_logloss: 0.267963\tvalid_0's f1_score: 0.969797\n",
      "[91]\tvalid_0's binary_logloss: 0.265784\tvalid_0's f1_score: 0.969797\n",
      "[92]\tvalid_0's binary_logloss: 0.263644\tvalid_0's f1_score: 0.969797\n",
      "[93]\tvalid_0's binary_logloss: 0.261533\tvalid_0's f1_score: 0.969943\n",
      "[94]\tvalid_0's binary_logloss: 0.259456\tvalid_0's f1_score: 0.970303\n",
      "[95]\tvalid_0's binary_logloss: 0.2574\tvalid_0's f1_score: 0.970303\n",
      "[96]\tvalid_0's binary_logloss: 0.255351\tvalid_0's f1_score: 0.970743\n",
      "[97]\tvalid_0's binary_logloss: 0.253346\tvalid_0's f1_score: 0.970743\n",
      "[98]\tvalid_0's binary_logloss: 0.251321\tvalid_0's f1_score: 0.970743\n",
      "[99]\tvalid_0's binary_logloss: 0.249354\tvalid_0's f1_score: 0.970743\n",
      "[100]\tvalid_0's binary_logloss: 0.24742\tvalid_0's f1_score: 0.970743\n",
      "Threshold: 0.33219921462722907\n",
      "Precision: 0.977636748262315\n",
      "Recall: 0.9639451728247914\n",
      "F1-score: 0.9707426856714179\n"
     ]
    }
   ],
   "source": [
    "def fscore_up(y_scores, dtrain):\n",
    "    \n",
    "    precision, recall, thresholds = precision_recall_curve(y_test_u, y_scores)\n",
    "    f1 = (2 * precision * recall)/(precision + recall)\n",
    "    return 'f1_score', f1.max(), True\n",
    "\n",
    "train_data=lgb.Dataset(X_train_tfidf_u,label=y_train_u)\n",
    "test_data = lgb.Dataset(X_test_tfidf_u, label=y_test_u)\n",
    "param = {'objective':'binary', 'learning_rate':0.01}\n",
    "lgbm=lgb.train(param, train_data, valid_sets=[test_data], feval=fscore_up)\n",
    "y_scores = lgbm.predict(X_test_tfidf_u)\n",
    "precision, recall, thresholds = precision_recall_curve(y_test_u, y_scores)\n",
    "f1 = (2 * precision * recall)/(precision + recall)\n",
    "print_values(f1.argmax())"
   ]
  },
  {
   "cell_type": "code",
   "execution_count": 80,
   "id": "5ff3292d",
   "metadata": {},
   "outputs": [
    {
     "data": {
      "text/html": [
       "<div>\n",
       "<style scoped>\n",
       "    .dataframe tbody tr th:only-of-type {\n",
       "        vertical-align: middle;\n",
       "    }\n",
       "\n",
       "    .dataframe tbody tr th {\n",
       "        vertical-align: top;\n",
       "    }\n",
       "\n",
       "    .dataframe thead th {\n",
       "        text-align: right;\n",
       "    }\n",
       "</style>\n",
       "<table border=\"1\" class=\"dataframe\">\n",
       "  <thead>\n",
       "    <tr style=\"text-align: right;\">\n",
       "      <th></th>\n",
       "      <th>F1-score</th>\n",
       "      <th>Threshold</th>\n",
       "    </tr>\n",
       "  </thead>\n",
       "  <tbody>\n",
       "    <tr>\n",
       "      <th>Naive Bayes</th>\n",
       "      <td>0.803653</td>\n",
       "      <td>9.341822e-02</td>\n",
       "    </tr>\n",
       "    <tr>\n",
       "      <th>Naive Bayes down</th>\n",
       "      <td>0.820944</td>\n",
       "      <td>1.103615e-01</td>\n",
       "    </tr>\n",
       "    <tr>\n",
       "      <th>Naive Bayes up</th>\n",
       "      <td>0.831440</td>\n",
       "      <td>1.309410e-01</td>\n",
       "    </tr>\n",
       "    <tr>\n",
       "      <th>Random Forest</th>\n",
       "      <td>0.975309</td>\n",
       "      <td>5.946319e-01</td>\n",
       "    </tr>\n",
       "    <tr>\n",
       "      <th>Random Forest up</th>\n",
       "      <td>0.980286</td>\n",
       "      <td>6.152356e-01</td>\n",
       "    </tr>\n",
       "    <tr>\n",
       "      <th>LightGBM</th>\n",
       "      <td>0.964071</td>\n",
       "      <td>3.761017e-01</td>\n",
       "    </tr>\n",
       "    <tr>\n",
       "      <th>LightGBM up</th>\n",
       "      <td>0.967665</td>\n",
       "      <td>3.405136e-01</td>\n",
       "    </tr>\n",
       "    <tr>\n",
       "      <th>TFIDF - NB</th>\n",
       "      <td>0.847096</td>\n",
       "      <td>4.628623e-151</td>\n",
       "    </tr>\n",
       "    <tr>\n",
       "      <th>TFIDF - NB up</th>\n",
       "      <td>0.900315</td>\n",
       "      <td>1.532390e-156</td>\n",
       "    </tr>\n",
       "    <tr>\n",
       "      <th>TFIDF - RF</th>\n",
       "      <td>0.981337</td>\n",
       "      <td>6.034762e-01</td>\n",
       "    </tr>\n",
       "    <tr>\n",
       "      <th>TFIDF - RF up</th>\n",
       "      <td>0.984117</td>\n",
       "      <td>5.510397e-01</td>\n",
       "    </tr>\n",
       "    <tr>\n",
       "      <th>TFIDF - LightGBM</th>\n",
       "      <td>0.968544</td>\n",
       "      <td>4.632464e-01</td>\n",
       "    </tr>\n",
       "    <tr>\n",
       "      <th>TFIDF - LightGBM up</th>\n",
       "      <td>0.970743</td>\n",
       "      <td>3.321992e-01</td>\n",
       "    </tr>\n",
       "  </tbody>\n",
       "</table>\n",
       "</div>"
      ],
      "text/plain": [
       "                     F1-score      Threshold\n",
       "Naive Bayes          0.803653   9.341822e-02\n",
       "Naive Bayes down     0.820944   1.103615e-01\n",
       "Naive Bayes up       0.831440   1.309410e-01\n",
       "Random Forest        0.975309   5.946319e-01\n",
       "Random Forest up     0.980286   6.152356e-01\n",
       "LightGBM             0.964071   3.761017e-01\n",
       "LightGBM up          0.967665   3.405136e-01\n",
       "TFIDF - NB           0.847096  4.628623e-151\n",
       "TFIDF - NB up        0.900315  1.532390e-156\n",
       "TFIDF - RF           0.981337   6.034762e-01\n",
       "TFIDF - RF up        0.984117   5.510397e-01\n",
       "TFIDF - LightGBM     0.968544   4.632464e-01\n",
       "TFIDF - LightGBM up  0.970743   3.321992e-01"
      ]
     },
     "execution_count": 80,
     "metadata": {},
     "output_type": "execute_result"
    }
   ],
   "source": [
    "addResult('TFIDF - LightGBM up', f1.max(), thresholds[f1.argmax()])\n",
    "result"
   ]
  },
  {
   "cell_type": "markdown",
   "id": "c501aa83",
   "metadata": {
    "id": "c501aa83"
   },
   "source": [
    "#### Glove Vectors"
   ]
  },
  {
   "cell_type": "code",
   "execution_count": 81,
   "id": "99f9ba82",
   "metadata": {
    "id": "99f9ba82",
    "outputId": "fd845c69-6d25-4ef6-db0b-8c0778e78231"
   },
   "outputs": [
    {
     "data": {
      "text/plain": [
       "(30905, 50)"
      ]
     },
     "execution_count": 81,
     "metadata": {},
     "output_type": "execute_result"
    }
   ],
   "source": [
    "glove_docs = pd.read_csv('EDA_query_vectors_glove.csv', index_col=0)\n",
    "glove_docs.shape"
   ]
  },
  {
   "cell_type": "code",
   "execution_count": 82,
   "id": "e278c409",
   "metadata": {
    "id": "e278c409"
   },
   "outputs": [],
   "source": [
    "glove_docs.index = mod_data.index"
   ]
  },
  {
   "cell_type": "code",
   "execution_count": 87,
   "id": "25fd5668",
   "metadata": {
    "id": "25fd5668",
    "outputId": "834592cf-8232-456d-96cf-022c5ddbba52"
   },
   "outputs": [],
   "source": [
    "X_train, X_test, y_train, y_test = prepare_data(mod_data)\n",
    "X_train = pd.concat((X_train, glove_docs.loc[X_train.index]), axis=1)\n",
    "X_test = pd.concat((X_test, glove_docs.loc[X_test.index]), axis=1)"
   ]
  },
  {
   "cell_type": "code",
   "execution_count": 88,
   "id": "92df4c5b",
   "metadata": {
    "id": "92df4c5b",
    "outputId": "88ea13ff-425d-4bed-ae8d-b1dd827beabc"
   },
   "outputs": [
    {
     "data": {
      "text/plain": [
       "0.831608280254777"
      ]
     },
     "execution_count": 88,
     "metadata": {},
     "output_type": "execute_result"
    }
   ],
   "source": [
    "gnb = GaussianNB()\n",
    "gnb.fit(X_train, y_train)\n",
    "y_scores = gnb.predict_proba(X_test)\n",
    "\n",
    "y_pred = gnb.predict(X_test)\n",
    "f1_score(y_test, y_pred)"
   ]
  },
  {
   "cell_type": "code",
   "execution_count": 89,
   "id": "5ed9c6c2",
   "metadata": {
    "id": "5ed9c6c2",
    "outputId": "baf43137-31e9-4fe6-dad6-483a9daa4bf1"
   },
   "outputs": [
    {
     "data": {
      "image/png": "[encoded data removed]",
      "text/plain": [
       "<Figure size 432x288 with 1 Axes>"
      ]
     },
     "metadata": {
      "needs_background": "light"
     },
     "output_type": "display_data"
    }
   ],
   "source": [
    "precision, recall, thresholds = precision_recall_curve(y_test, y_scores[:, 1])\n",
    "plt.plot([0, 1], [1, 0])\n",
    "plt.plot(precision, recall)\n",
    "plt.title(\"Naive Bayes: Precision-Recall Curve\")\n",
    "plt.xlabel(\"Precision\")\n",
    "plt.ylabel(\"Recall\")\n",
    "plt.show()"
   ]
  },
  {
   "cell_type": "code",
   "execution_count": 90,
   "id": "0ef942be",
   "metadata": {
    "id": "0ef942be",
    "outputId": "c0983e6b-56dd-4ea2-e09a-da663ff8f22e"
   },
   "outputs": [
    {
     "data": {
      "text/plain": [
       "3853"
      ]
     },
     "execution_count": 90,
     "metadata": {},
     "output_type": "execute_result"
    }
   ],
   "source": [
    "f1 = (2 * precision * recall)/(precision + recall)\n",
    "argmax_glove = f1.argmax()\n",
    "argmax_glove"
   ]
  },
  {
   "cell_type": "code",
   "execution_count": 91,
   "id": "d1aeb27d",
   "metadata": {
    "id": "d1aeb27d",
    "outputId": "6c42827a-bac7-4318-b2ac-1b98d94acda1"
   },
   "outputs": [
    {
     "name": "stdout",
     "output_type": "stream",
     "text": [
      "Threshold: 0.06730616104939123\n",
      "Precision: 0.9320302087960907\n",
      "Recall: 0.7519713261648745\n",
      "F1-score: 0.8323745288633208\n"
     ]
    }
   ],
   "source": [
    "print_values(argmax_glove)"
   ]
  },
  {
   "cell_type": "code",
   "execution_count": 92,
   "id": "9d1d07db",
   "metadata": {
    "id": "9d1d07db",
    "outputId": "d3f40659-77f8-4fb5-83f0-3f2e4943ce31"
   },
   "outputs": [
    {
     "data": {
      "image/png": "[encoded data removed]",
      "text/plain": [
       "<Figure size 432x288 with 1 Axes>"
      ]
     },
     "metadata": {
      "needs_background": "light"
     },
     "output_type": "display_data"
    }
   ],
   "source": [
    "plt.plot(precision, label='precision')\n",
    "plt.plot(recall, label='recall')\n",
    "plt.plot(f1, label='f1-score')\n",
    "plt.xlabel(\"index\")\n",
    "plt.ylabel(\"value\")\n",
    "plt.legend()\n",
    "plt.title(\"Precision, Recall and F1-score values\")\n",
    "plt.show()"
   ]
  },
  {
   "cell_type": "markdown",
   "id": "7309b885",
   "metadata": {
    "id": "7309b885"
   },
   "source": [
    "As we can see, trying to increase the recall would reduce the F1 score substantially."
   ]
  },
  {
   "cell_type": "code",
   "execution_count": 93,
   "id": "f2c391ff",
   "metadata": {
    "id": "f2c391ff",
    "outputId": "c49c40dd-349c-4d27-da6a-2a37c1a0ba45"
   },
   "outputs": [
    {
     "data": {
      "text/html": [
       "<div>\n",
       "<style scoped>\n",
       "    .dataframe tbody tr th:only-of-type {\n",
       "        vertical-align: middle;\n",
       "    }\n",
       "\n",
       "    .dataframe tbody tr th {\n",
       "        vertical-align: top;\n",
       "    }\n",
       "\n",
       "    .dataframe thead th {\n",
       "        text-align: right;\n",
       "    }\n",
       "</style>\n",
       "<table border=\"1\" class=\"dataframe\">\n",
       "  <thead>\n",
       "    <tr style=\"text-align: right;\">\n",
       "      <th></th>\n",
       "      <th>F1-score</th>\n",
       "      <th>Threshold</th>\n",
       "    </tr>\n",
       "  </thead>\n",
       "  <tbody>\n",
       "    <tr>\n",
       "      <th>Naive Bayes</th>\n",
       "      <td>0.803653</td>\n",
       "      <td>9.341822e-02</td>\n",
       "    </tr>\n",
       "    <tr>\n",
       "      <th>Naive Bayes down</th>\n",
       "      <td>0.820944</td>\n",
       "      <td>1.103615e-01</td>\n",
       "    </tr>\n",
       "    <tr>\n",
       "      <th>Naive Bayes up</th>\n",
       "      <td>0.831440</td>\n",
       "      <td>1.309410e-01</td>\n",
       "    </tr>\n",
       "    <tr>\n",
       "      <th>Random Forest</th>\n",
       "      <td>0.975309</td>\n",
       "      <td>5.946319e-01</td>\n",
       "    </tr>\n",
       "    <tr>\n",
       "      <th>Random Forest up</th>\n",
       "      <td>0.980286</td>\n",
       "      <td>6.152356e-01</td>\n",
       "    </tr>\n",
       "    <tr>\n",
       "      <th>LightGBM</th>\n",
       "      <td>0.964071</td>\n",
       "      <td>3.761017e-01</td>\n",
       "    </tr>\n",
       "    <tr>\n",
       "      <th>LightGBM up</th>\n",
       "      <td>0.967665</td>\n",
       "      <td>3.405136e-01</td>\n",
       "    </tr>\n",
       "    <tr>\n",
       "      <th>TFIDF - NB</th>\n",
       "      <td>0.847096</td>\n",
       "      <td>4.628623e-151</td>\n",
       "    </tr>\n",
       "    <tr>\n",
       "      <th>TFIDF - NB up</th>\n",
       "      <td>0.900315</td>\n",
       "      <td>1.532390e-156</td>\n",
       "    </tr>\n",
       "    <tr>\n",
       "      <th>TFIDF - RF</th>\n",
       "      <td>0.981337</td>\n",
       "      <td>6.034762e-01</td>\n",
       "    </tr>\n",
       "    <tr>\n",
       "      <th>TFIDF - RF up</th>\n",
       "      <td>0.984117</td>\n",
       "      <td>5.510397e-01</td>\n",
       "    </tr>\n",
       "    <tr>\n",
       "      <th>TFIDF - LightGBM</th>\n",
       "      <td>0.968544</td>\n",
       "      <td>4.632464e-01</td>\n",
       "    </tr>\n",
       "    <tr>\n",
       "      <th>TFIDF - LightGBM up</th>\n",
       "      <td>0.970743</td>\n",
       "      <td>3.321992e-01</td>\n",
       "    </tr>\n",
       "    <tr>\n",
       "      <th>Glove - NB</th>\n",
       "      <td>0.832375</td>\n",
       "      <td>6.730616e-02</td>\n",
       "    </tr>\n",
       "  </tbody>\n",
       "</table>\n",
       "</div>"
      ],
      "text/plain": [
       "                     F1-score      Threshold\n",
       "Naive Bayes          0.803653   9.341822e-02\n",
       "Naive Bayes down     0.820944   1.103615e-01\n",
       "Naive Bayes up       0.831440   1.309410e-01\n",
       "Random Forest        0.975309   5.946319e-01\n",
       "Random Forest up     0.980286   6.152356e-01\n",
       "LightGBM             0.964071   3.761017e-01\n",
       "LightGBM up          0.967665   3.405136e-01\n",
       "TFIDF - NB           0.847096  4.628623e-151\n",
       "TFIDF - NB up        0.900315  1.532390e-156\n",
       "TFIDF - RF           0.981337   6.034762e-01\n",
       "TFIDF - RF up        0.984117   5.510397e-01\n",
       "TFIDF - LightGBM     0.968544   4.632464e-01\n",
       "TFIDF - LightGBM up  0.970743   3.321992e-01\n",
       "Glove - NB           0.832375   6.730616e-02"
      ]
     },
     "execution_count": 93,
     "metadata": {},
     "output_type": "execute_result"
    }
   ],
   "source": [
    "addResult('Glove - NB', f1[argmax_glove], thresholds[argmax_glove])\n",
    "result"
   ]
  },
  {
   "cell_type": "markdown",
   "id": "85666dd5",
   "metadata": {},
   "source": [
    "##### Random Forest"
   ]
  },
  {
   "cell_type": "code",
   "execution_count": 94,
   "id": "ae166949",
   "metadata": {},
   "outputs": [
    {
     "name": "stdout",
     "output_type": "stream",
     "text": [
      "Threshold: 0.405\n",
      "Precision: 0.9956818999640158\n",
      "Recall: 0.9917562724014337\n",
      "F1-score: 0.9937152091937511\n"
     ]
    }
   ],
   "source": [
    "rdf = RandomForestClassifier(min_samples_split=5, random_state=0)\n",
    "rdf.fit(X_train, y_train)\n",
    "y_scores = rdf.predict_proba(X_test)\n",
    "precision, recall, thresholds = precision_recall_curve(y_test, y_scores[:, 1])\n",
    "f1 = (2 * precision * recall)/(precision + recall)\n",
    "print_values(f1.argmax())"
   ]
  },
  {
   "cell_type": "code",
   "execution_count": 95,
   "id": "f8c8c8ca",
   "metadata": {},
   "outputs": [
    {
     "data": {
      "text/html": [
       "<div>\n",
       "<style scoped>\n",
       "    .dataframe tbody tr th:only-of-type {\n",
       "        vertical-align: middle;\n",
       "    }\n",
       "\n",
       "    .dataframe tbody tr th {\n",
       "        vertical-align: top;\n",
       "    }\n",
       "\n",
       "    .dataframe thead th {\n",
       "        text-align: right;\n",
       "    }\n",
       "</style>\n",
       "<table border=\"1\" class=\"dataframe\">\n",
       "  <thead>\n",
       "    <tr style=\"text-align: right;\">\n",
       "      <th></th>\n",
       "      <th>F1-score</th>\n",
       "      <th>Threshold</th>\n",
       "    </tr>\n",
       "  </thead>\n",
       "  <tbody>\n",
       "    <tr>\n",
       "      <th>Naive Bayes</th>\n",
       "      <td>0.803653</td>\n",
       "      <td>9.341822e-02</td>\n",
       "    </tr>\n",
       "    <tr>\n",
       "      <th>Naive Bayes down</th>\n",
       "      <td>0.820944</td>\n",
       "      <td>1.103615e-01</td>\n",
       "    </tr>\n",
       "    <tr>\n",
       "      <th>Naive Bayes up</th>\n",
       "      <td>0.831440</td>\n",
       "      <td>1.309410e-01</td>\n",
       "    </tr>\n",
       "    <tr>\n",
       "      <th>Random Forest</th>\n",
       "      <td>0.975309</td>\n",
       "      <td>5.946319e-01</td>\n",
       "    </tr>\n",
       "    <tr>\n",
       "      <th>Random Forest up</th>\n",
       "      <td>0.980286</td>\n",
       "      <td>6.152356e-01</td>\n",
       "    </tr>\n",
       "    <tr>\n",
       "      <th>LightGBM</th>\n",
       "      <td>0.964071</td>\n",
       "      <td>3.761017e-01</td>\n",
       "    </tr>\n",
       "    <tr>\n",
       "      <th>LightGBM up</th>\n",
       "      <td>0.967665</td>\n",
       "      <td>3.405136e-01</td>\n",
       "    </tr>\n",
       "    <tr>\n",
       "      <th>TFIDF - NB</th>\n",
       "      <td>0.847096</td>\n",
       "      <td>4.628623e-151</td>\n",
       "    </tr>\n",
       "    <tr>\n",
       "      <th>TFIDF - NB up</th>\n",
       "      <td>0.900315</td>\n",
       "      <td>1.532390e-156</td>\n",
       "    </tr>\n",
       "    <tr>\n",
       "      <th>TFIDF - RF</th>\n",
       "      <td>0.981337</td>\n",
       "      <td>6.034762e-01</td>\n",
       "    </tr>\n",
       "    <tr>\n",
       "      <th>TFIDF - RF up</th>\n",
       "      <td>0.984117</td>\n",
       "      <td>5.510397e-01</td>\n",
       "    </tr>\n",
       "    <tr>\n",
       "      <th>TFIDF - LightGBM</th>\n",
       "      <td>0.968544</td>\n",
       "      <td>4.632464e-01</td>\n",
       "    </tr>\n",
       "    <tr>\n",
       "      <th>TFIDF - LightGBM up</th>\n",
       "      <td>0.970743</td>\n",
       "      <td>3.321992e-01</td>\n",
       "    </tr>\n",
       "    <tr>\n",
       "      <th>Glove - NB</th>\n",
       "      <td>0.832375</td>\n",
       "      <td>6.730616e-02</td>\n",
       "    </tr>\n",
       "    <tr>\n",
       "      <th>Glove - RF</th>\n",
       "      <td>0.993715</td>\n",
       "      <td>4.050000e-01</td>\n",
       "    </tr>\n",
       "  </tbody>\n",
       "</table>\n",
       "</div>"
      ],
      "text/plain": [
       "                     F1-score      Threshold\n",
       "Naive Bayes          0.803653   9.341822e-02\n",
       "Naive Bayes down     0.820944   1.103615e-01\n",
       "Naive Bayes up       0.831440   1.309410e-01\n",
       "Random Forest        0.975309   5.946319e-01\n",
       "Random Forest up     0.980286   6.152356e-01\n",
       "LightGBM             0.964071   3.761017e-01\n",
       "LightGBM up          0.967665   3.405136e-01\n",
       "TFIDF - NB           0.847096  4.628623e-151\n",
       "TFIDF - NB up        0.900315  1.532390e-156\n",
       "TFIDF - RF           0.981337   6.034762e-01\n",
       "TFIDF - RF up        0.984117   5.510397e-01\n",
       "TFIDF - LightGBM     0.968544   4.632464e-01\n",
       "TFIDF - LightGBM up  0.970743   3.321992e-01\n",
       "Glove - NB           0.832375   6.730616e-02\n",
       "Glove - RF           0.993715   4.050000e-01"
      ]
     },
     "execution_count": 95,
     "metadata": {},
     "output_type": "execute_result"
    }
   ],
   "source": [
    "addResult('Glove - RF', f1.max(), thresholds[f1.argmax()])\n",
    "result"
   ]
  },
  {
   "cell_type": "markdown",
   "id": "56eecd66",
   "metadata": {},
   "source": [
    "#### LightGBM"
   ]
  },
  {
   "cell_type": "code",
   "execution_count": 96,
   "id": "861c5d1e",
   "metadata": {},
   "outputs": [
    {
     "name": "stdout",
     "output_type": "stream",
     "text": [
      "[LightGBM] [Info] Number of positive: 8587, number of negative: 14591\n",
      "[LightGBM] [Warning] Auto-choosing col-wise multi-threading, the overhead of testing was 0.032683 seconds.\n",
      "You can set `force_col_wise=true` to remove the overhead.\n",
      "[LightGBM] [Info] Total Bins 13578\n",
      "[LightGBM] [Info] Number of data points in the train set: 23178, number of used features: 58\n",
      "[LightGBM] [Info] [binary:BoostFromScore]: pavg=0.370481 -> initscore=-0.530155\n",
      "[LightGBM] [Info] Start training from score -0.530155\n",
      "[1]\tvalid_0's binary_logloss: 0.645135\tvalid_0's f1_score: 0.970562\n",
      "[2]\tvalid_0's binary_logloss: 0.636287\tvalid_0's f1_score: 0.969883\n",
      "[3]\tvalid_0's binary_logloss: 0.627641\tvalid_0's f1_score: 0.96905\n",
      "[4]\tvalid_0's binary_logloss: 0.619158\tvalid_0's f1_score: 0.970025\n",
      "[5]\tvalid_0's binary_logloss: 0.61093\tvalid_0's f1_score: 0.9702\n",
      "[6]\tvalid_0's binary_logloss: 0.602872\tvalid_0's f1_score: 0.97053\n",
      "[7]\tvalid_0's binary_logloss: 0.594996\tvalid_0's f1_score: 0.970058\n",
      "[8]\tvalid_0's binary_logloss: 0.58739\tvalid_0's f1_score: 0.970923\n",
      "[9]\tvalid_0's binary_logloss: 0.579941\tvalid_0's f1_score: 0.970604\n",
      "[10]\tvalid_0's binary_logloss: 0.572525\tvalid_0's f1_score: 0.970176\n",
      "[11]\tvalid_0's binary_logloss: 0.565319\tvalid_0's f1_score: 0.9708\n",
      "[12]\tvalid_0's binary_logloss: 0.558154\tvalid_0's f1_score: 0.970525\n",
      "[13]\tvalid_0's binary_logloss: 0.551239\tvalid_0's f1_score: 0.969895\n",
      "[14]\tvalid_0's binary_logloss: 0.544454\tvalid_0's f1_score: 0.969849\n",
      "[15]\tvalid_0's binary_logloss: 0.537623\tvalid_0's f1_score: 0.970103\n",
      "[16]\tvalid_0's binary_logloss: 0.531098\tvalid_0's f1_score: 0.970414\n",
      "[17]\tvalid_0's binary_logloss: 0.524584\tvalid_0's f1_score: 0.970268\n",
      "[18]\tvalid_0's binary_logloss: 0.518285\tvalid_0's f1_score: 0.970247\n",
      "[19]\tvalid_0's binary_logloss: 0.511933\tvalid_0's f1_score: 0.97104\n",
      "[20]\tvalid_0's binary_logloss: 0.505905\tvalid_0's f1_score: 0.970599\n",
      "[21]\tvalid_0's binary_logloss: 0.499781\tvalid_0's f1_score: 0.971285\n",
      "[22]\tvalid_0's binary_logloss: 0.493936\tvalid_0's f1_score: 0.971388\n",
      "[23]\tvalid_0's binary_logloss: 0.488024\tvalid_0's f1_score: 0.972257\n",
      "[24]\tvalid_0's binary_logloss: 0.482409\tvalid_0's f1_score: 0.972083\n",
      "[25]\tvalid_0's binary_logloss: 0.476755\tvalid_0's f1_score: 0.971561\n",
      "[26]\tvalid_0's binary_logloss: 0.471156\tvalid_0's f1_score: 0.972063\n",
      "[27]\tvalid_0's binary_logloss: 0.465803\tvalid_0's f1_score: 0.972277\n",
      "[28]\tvalid_0's binary_logloss: 0.460379\tvalid_0's f1_score: 0.972451\n",
      "[29]\tvalid_0's binary_logloss: 0.455165\tvalid_0's f1_score: 0.972799\n",
      "[30]\tvalid_0's binary_logloss: 0.449974\tvalid_0's f1_score: 0.972625\n",
      "[31]\tvalid_0's binary_logloss: 0.444922\tvalid_0's f1_score: 0.974368\n",
      "[32]\tvalid_0's binary_logloss: 0.43995\tvalid_0's f1_score: 0.975566\n",
      "[33]\tvalid_0's binary_logloss: 0.435109\tvalid_0's f1_score: 0.975882\n",
      "[34]\tvalid_0's binary_logloss: 0.430297\tvalid_0's f1_score: 0.976233\n",
      "[35]\tvalid_0's binary_logloss: 0.425604\tvalid_0's f1_score: 0.97697\n",
      "[36]\tvalid_0's binary_logloss: 0.42095\tvalid_0's f1_score: 0.977722\n",
      "[37]\tvalid_0's binary_logloss: 0.416409\tvalid_0's f1_score: 0.978292\n",
      "[38]\tvalid_0's binary_logloss: 0.411895\tvalid_0's f1_score: 0.978555\n",
      "[39]\tvalid_0's binary_logloss: 0.40746\tvalid_0's f1_score: 0.97943\n",
      "[40]\tvalid_0's binary_logloss: 0.403132\tvalid_0's f1_score: 0.979968\n",
      "[41]\tvalid_0's binary_logloss: 0.398835\tvalid_0's f1_score: 0.98013\n",
      "[42]\tvalid_0's binary_logloss: 0.39459\tvalid_0's f1_score: 0.980491\n",
      "[43]\tvalid_0's binary_logloss: 0.390452\tvalid_0's f1_score: 0.980668\n",
      "[44]\tvalid_0's binary_logloss: 0.386212\tvalid_0's f1_score: 0.980668\n",
      "[45]\tvalid_0's binary_logloss: 0.382205\tvalid_0's f1_score: 0.980668\n",
      "[46]\tvalid_0's binary_logloss: 0.378069\tvalid_0's f1_score: 0.980491\n",
      "[47]\tvalid_0's binary_logloss: 0.374002\tvalid_0's f1_score: 0.980477\n",
      "[48]\tvalid_0's binary_logloss: 0.370009\tvalid_0's f1_score: 0.980654\n",
      "[49]\tvalid_0's binary_logloss: 0.366055\tvalid_0's f1_score: 0.98047\n",
      "[50]\tvalid_0's binary_logloss: 0.362342\tvalid_0's f1_score: 0.98047\n",
      "[51]\tvalid_0's binary_logloss: 0.358518\tvalid_0's f1_score: 0.98047\n",
      "[52]\tvalid_0's binary_logloss: 0.354728\tvalid_0's f1_score: 0.980293\n",
      "[53]\tvalid_0's binary_logloss: 0.351183\tvalid_0's f1_score: 0.980307\n",
      "[54]\tvalid_0's binary_logloss: 0.347541\tvalid_0's f1_score: 0.980484\n",
      "[55]\tvalid_0's binary_logloss: 0.343956\tvalid_0's f1_score: 0.980477\n",
      "[56]\tvalid_0's binary_logloss: 0.340436\tvalid_0's f1_score: 0.980661\n",
      "[57]\tvalid_0's binary_logloss: 0.337026\tvalid_0's f1_score: 0.980661\n",
      "[58]\tvalid_0's binary_logloss: 0.333599\tvalid_0's f1_score: 0.980661\n",
      "[59]\tvalid_0's binary_logloss: 0.330245\tvalid_0's f1_score: 0.980619\n",
      "[60]\tvalid_0's binary_logloss: 0.326865\tvalid_0's f1_score: 0.980804\n",
      "[61]\tvalid_0's binary_logloss: 0.323561\tvalid_0's f1_score: 0.980804\n",
      "[62]\tvalid_0's binary_logloss: 0.3204\tvalid_0's f1_score: 0.980804\n",
      "[63]\tvalid_0's binary_logloss: 0.317333\tvalid_0's f1_score: 0.980995\n",
      "[64]\tvalid_0's binary_logloss: 0.314241\tvalid_0's f1_score: 0.981009\n",
      "[65]\tvalid_0's binary_logloss: 0.31111\tvalid_0's f1_score: 0.981187\n",
      "[66]\tvalid_0's binary_logloss: 0.308029\tvalid_0's f1_score: 0.981384\n",
      "[67]\tvalid_0's binary_logloss: 0.304984\tvalid_0's f1_score: 0.981562\n",
      "[68]\tvalid_0's binary_logloss: 0.301968\tvalid_0's f1_score: 0.981588\n",
      "[69]\tvalid_0's binary_logloss: 0.299111\tvalid_0's f1_score: 0.981582\n",
      "[70]\tvalid_0's binary_logloss: 0.296196\tvalid_0's f1_score: 0.981575\n",
      "[71]\tvalid_0's binary_logloss: 0.293385\tvalid_0's f1_score: 0.981241\n",
      "[72]\tvalid_0's binary_logloss: 0.29051\tvalid_0's f1_score: 0.981248\n",
      "[73]\tvalid_0's binary_logloss: 0.287718\tvalid_0's f1_score: 0.981248\n",
      "[74]\tvalid_0's binary_logloss: 0.285031\tvalid_0's f1_score: 0.981425\n",
      "[75]\tvalid_0's binary_logloss: 0.282288\tvalid_0's f1_score: 0.981187\n",
      "[76]\tvalid_0's binary_logloss: 0.279584\tvalid_0's f1_score: 0.981078\n",
      "[77]\tvalid_0's binary_logloss: 0.276953\tvalid_0's f1_score: 0.980915\n",
      "[78]\tvalid_0's binary_logloss: 0.274416\tvalid_0's f1_score: 0.980915\n",
      "[79]\tvalid_0's binary_logloss: 0.271836\tvalid_0's f1_score: 0.980738\n",
      "[80]\tvalid_0's binary_logloss: 0.269274\tvalid_0's f1_score: 0.980738\n",
      "[81]\tvalid_0's binary_logloss: 0.266828\tvalid_0's f1_score: 0.980626\n",
      "[82]\tvalid_0's binary_logloss: 0.264341\tvalid_0's f1_score: 0.980626\n",
      "[83]\tvalid_0's binary_logloss: 0.261858\tvalid_0's f1_score: 0.980619\n",
      "[84]\tvalid_0's binary_logloss: 0.259441\tvalid_0's f1_score: 0.980619\n",
      "[85]\tvalid_0's binary_logloss: 0.257041\tvalid_0's f1_score: 0.980619\n",
      "[86]\tvalid_0's binary_logloss: 0.254768\tvalid_0's f1_score: 0.980612\n",
      "[87]\tvalid_0's binary_logloss: 0.252439\tvalid_0's f1_score: 0.980797\n",
      "[88]\tvalid_0's binary_logloss: 0.250082\tvalid_0's f1_score: 0.980797\n",
      "[89]\tvalid_0's binary_logloss: 0.247878\tvalid_0's f1_score: 0.980769\n",
      "[90]\tvalid_0's binary_logloss: 0.245598\tvalid_0's f1_score: 0.981112\n",
      "[91]\tvalid_0's binary_logloss: 0.243397\tvalid_0's f1_score: 0.981112\n",
      "[92]\tvalid_0's binary_logloss: 0.241279\tvalid_0's f1_score: 0.981146\n",
      "[93]\tvalid_0's binary_logloss: 0.239108\tvalid_0's f1_score: 0.981468\n",
      "[94]\tvalid_0's binary_logloss: 0.236954\tvalid_0's f1_score: 0.981838\n",
      "[95]\tvalid_0's binary_logloss: 0.234814\tvalid_0's f1_score: 0.981653\n",
      "[96]\tvalid_0's binary_logloss: 0.232681\tvalid_0's f1_score: 0.981653\n",
      "[97]\tvalid_0's binary_logloss: 0.230569\tvalid_0's f1_score: 0.981838\n",
      "[98]\tvalid_0's binary_logloss: 0.228493\tvalid_0's f1_score: 0.981838\n",
      "[99]\tvalid_0's binary_logloss: 0.226426\tvalid_0's f1_score: 0.981646\n",
      "[100]\tvalid_0's binary_logloss: 0.224405\tvalid_0's f1_score: 0.981646\n",
      "Threshold: 0.4772161593879516\n",
      "Precision: 0.9955768521931441\n",
      "Recall: 0.9681003584229391\n",
      "F1-score: 0.9816463747047065\n"
     ]
    }
   ],
   "source": [
    "def fscore(y_scores, dtrain):\n",
    "    \n",
    "    precision, recall, thresholds = precision_recall_curve(y_test, y_scores)\n",
    "    f1 = (2 * precision * recall)/(precision + recall)\n",
    "    return 'f1_score', f1.max(), True\n",
    "\n",
    "train_data=lgb.Dataset(X_train,label=y_train)\n",
    "test_data = lgb.Dataset(X_test, label=y_test)\n",
    "param = {'objective':'binary', 'learning_rate':0.01}\n",
    "lgbm=lgb.train(param, train_data, valid_sets=[test_data], feval=fscore)\n",
    "\n",
    "y_scores = lgbm.predict(X_test)\n",
    "precision, recall, thresholds = precision_recall_curve(y_test, y_scores)\n",
    "f1 = (2 * precision * recall)/(precision + recall)\n",
    "print_values(f1.argmax())"
   ]
  },
  {
   "cell_type": "code",
   "execution_count": 97,
   "id": "8410cd79",
   "metadata": {},
   "outputs": [
    {
     "data": {
      "text/html": [
       "<div>\n",
       "<style scoped>\n",
       "    .dataframe tbody tr th:only-of-type {\n",
       "        vertical-align: middle;\n",
       "    }\n",
       "\n",
       "    .dataframe tbody tr th {\n",
       "        vertical-align: top;\n",
       "    }\n",
       "\n",
       "    .dataframe thead th {\n",
       "        text-align: right;\n",
       "    }\n",
       "</style>\n",
       "<table border=\"1\" class=\"dataframe\">\n",
       "  <thead>\n",
       "    <tr style=\"text-align: right;\">\n",
       "      <th></th>\n",
       "      <th>F1-score</th>\n",
       "      <th>Threshold</th>\n",
       "    </tr>\n",
       "  </thead>\n",
       "  <tbody>\n",
       "    <tr>\n",
       "      <th>Naive Bayes</th>\n",
       "      <td>0.803653</td>\n",
       "      <td>9.341822e-02</td>\n",
       "    </tr>\n",
       "    <tr>\n",
       "      <th>Naive Bayes down</th>\n",
       "      <td>0.820944</td>\n",
       "      <td>1.103615e-01</td>\n",
       "    </tr>\n",
       "    <tr>\n",
       "      <th>Naive Bayes up</th>\n",
       "      <td>0.831440</td>\n",
       "      <td>1.309410e-01</td>\n",
       "    </tr>\n",
       "    <tr>\n",
       "      <th>Random Forest</th>\n",
       "      <td>0.975309</td>\n",
       "      <td>5.946319e-01</td>\n",
       "    </tr>\n",
       "    <tr>\n",
       "      <th>Random Forest up</th>\n",
       "      <td>0.980286</td>\n",
       "      <td>6.152356e-01</td>\n",
       "    </tr>\n",
       "    <tr>\n",
       "      <th>LightGBM</th>\n",
       "      <td>0.964071</td>\n",
       "      <td>3.761017e-01</td>\n",
       "    </tr>\n",
       "    <tr>\n",
       "      <th>LightGBM up</th>\n",
       "      <td>0.967665</td>\n",
       "      <td>3.405136e-01</td>\n",
       "    </tr>\n",
       "    <tr>\n",
       "      <th>TFIDF - NB</th>\n",
       "      <td>0.847096</td>\n",
       "      <td>4.628623e-151</td>\n",
       "    </tr>\n",
       "    <tr>\n",
       "      <th>TFIDF - NB up</th>\n",
       "      <td>0.900315</td>\n",
       "      <td>1.532390e-156</td>\n",
       "    </tr>\n",
       "    <tr>\n",
       "      <th>TFIDF - RF</th>\n",
       "      <td>0.981337</td>\n",
       "      <td>6.034762e-01</td>\n",
       "    </tr>\n",
       "    <tr>\n",
       "      <th>TFIDF - RF up</th>\n",
       "      <td>0.984117</td>\n",
       "      <td>5.510397e-01</td>\n",
       "    </tr>\n",
       "    <tr>\n",
       "      <th>TFIDF - LightGBM</th>\n",
       "      <td>0.968544</td>\n",
       "      <td>4.632464e-01</td>\n",
       "    </tr>\n",
       "    <tr>\n",
       "      <th>TFIDF - LightGBM up</th>\n",
       "      <td>0.970743</td>\n",
       "      <td>3.321992e-01</td>\n",
       "    </tr>\n",
       "    <tr>\n",
       "      <th>Glove - NB</th>\n",
       "      <td>0.832375</td>\n",
       "      <td>6.730616e-02</td>\n",
       "    </tr>\n",
       "    <tr>\n",
       "      <th>Glove - RF</th>\n",
       "      <td>0.993715</td>\n",
       "      <td>4.050000e-01</td>\n",
       "    </tr>\n",
       "    <tr>\n",
       "      <th>Glove - LightGBM</th>\n",
       "      <td>0.981646</td>\n",
       "      <td>4.772162e-01</td>\n",
       "    </tr>\n",
       "  </tbody>\n",
       "</table>\n",
       "</div>"
      ],
      "text/plain": [
       "                     F1-score      Threshold\n",
       "Naive Bayes          0.803653   9.341822e-02\n",
       "Naive Bayes down     0.820944   1.103615e-01\n",
       "Naive Bayes up       0.831440   1.309410e-01\n",
       "Random Forest        0.975309   5.946319e-01\n",
       "Random Forest up     0.980286   6.152356e-01\n",
       "LightGBM             0.964071   3.761017e-01\n",
       "LightGBM up          0.967665   3.405136e-01\n",
       "TFIDF - NB           0.847096  4.628623e-151\n",
       "TFIDF - NB up        0.900315  1.532390e-156\n",
       "TFIDF - RF           0.981337   6.034762e-01\n",
       "TFIDF - RF up        0.984117   5.510397e-01\n",
       "TFIDF - LightGBM     0.968544   4.632464e-01\n",
       "TFIDF - LightGBM up  0.970743   3.321992e-01\n",
       "Glove - NB           0.832375   6.730616e-02\n",
       "Glove - RF           0.993715   4.050000e-01\n",
       "Glove - LightGBM     0.981646   4.772162e-01"
      ]
     },
     "execution_count": 97,
     "metadata": {},
     "output_type": "execute_result"
    }
   ],
   "source": [
    "addResult('Glove - LightGBM', f1.max(), thresholds[f1.argmax()])\n",
    "result"
   ]
  },
  {
   "cell_type": "markdown",
   "id": "59da3471",
   "metadata": {},
   "source": [
    "###### Upsampled"
   ]
  },
  {
   "cell_type": "code",
   "execution_count": 98,
   "id": "d1b8d7a9",
   "metadata": {},
   "outputs": [
    {
     "name": "stdout",
     "output_type": "stream",
     "text": [
      "[LightGBM] [Info] Number of positive: 10021, number of negative: 14657\n",
      "[LightGBM] [Warning] Auto-choosing row-wise multi-threading, the overhead of testing was 0.003516 seconds.\n",
      "You can set `force_row_wise=true` to remove the overhead.\n",
      "And if memory is not enough, you can set `force_col_wise=true`.\n",
      "[LightGBM] [Info] Total Bins 824\n",
      "[LightGBM] [Info] Number of data points in the train set: 24678, number of used features: 8\n",
      "[LightGBM] [Info] [binary:BoostFromScore]: pavg=0.406070 -> initscore=-0.380235\n",
      "[LightGBM] [Info] Start training from score -0.380235\n",
      "[1]\tvalid_0's binary_logloss: 0.667247\tvalid_0's f1_score: 0.962408\n",
      "[2]\tvalid_0's binary_logloss: 0.658581\tvalid_0's f1_score: 0.962408\n",
      "[3]\tvalid_0's binary_logloss: 0.650098\tvalid_0's f1_score: 0.962408\n",
      "[4]\tvalid_0's binary_logloss: 0.641793\tvalid_0's f1_score: 0.962408\n",
      "[5]\tvalid_0's binary_logloss: 0.633658\tvalid_0's f1_score: 0.962408\n",
      "[6]\tvalid_0's binary_logloss: 0.625694\tvalid_0's f1_score: 0.962408\n",
      "[7]\tvalid_0's binary_logloss: 0.617886\tvalid_0's f1_score: 0.962408\n",
      "[8]\tvalid_0's binary_logloss: 0.610238\tvalid_0's f1_score: 0.962408\n",
      "[9]\tvalid_0's binary_logloss: 0.602742\tvalid_0's f1_score: 0.962408\n",
      "[10]\tvalid_0's binary_logloss: 0.595383\tvalid_0's f1_score: 0.964351\n",
      "[11]\tvalid_0's binary_logloss: 0.588163\tvalid_0's f1_score: 0.965538\n",
      "[12]\tvalid_0's binary_logloss: 0.581127\tvalid_0's f1_score: 0.964351\n",
      "[13]\tvalid_0's binary_logloss: 0.57419\tvalid_0's f1_score: 0.965538\n",
      "[14]\tvalid_0's binary_logloss: 0.567409\tvalid_0's f1_score: 0.965538\n",
      "[15]\tvalid_0's binary_logloss: 0.560759\tvalid_0's f1_score: 0.964351\n",
      "[16]\tvalid_0's binary_logloss: 0.554205\tvalid_0's f1_score: 0.965538\n",
      "[17]\tvalid_0's binary_logloss: 0.547805\tvalid_0's f1_score: 0.964645\n",
      "[18]\tvalid_0's binary_logloss: 0.541523\tvalid_0's f1_score: 0.964645\n",
      "[19]\tvalid_0's binary_logloss: 0.53532\tvalid_0's f1_score: 0.964645\n",
      "[20]\tvalid_0's binary_logloss: 0.529261\tvalid_0's f1_score: 0.964792\n",
      "[21]\tvalid_0's binary_logloss: 0.52328\tvalid_0's f1_score: 0.964792\n",
      "[22]\tvalid_0's binary_logloss: 0.517384\tvalid_0's f1_score: 0.964792\n",
      "[23]\tvalid_0's binary_logloss: 0.511646\tvalid_0's f1_score: 0.964792\n",
      "[24]\tvalid_0's binary_logloss: 0.505955\tvalid_0's f1_score: 0.964792\n",
      "[25]\tvalid_0's binary_logloss: 0.500373\tvalid_0's f1_score: 0.964803\n",
      "[26]\tvalid_0's binary_logloss: 0.494874\tvalid_0's f1_score: 0.964803\n",
      "[27]\tvalid_0's binary_logloss: 0.489492\tvalid_0's f1_score: 0.964803\n",
      "[28]\tvalid_0's binary_logloss: 0.484138\tvalid_0's f1_score: 0.96496\n",
      "[29]\tvalid_0's binary_logloss: 0.478944\tvalid_0's f1_score: 0.96496\n",
      "[30]\tvalid_0's binary_logloss: 0.47382\tvalid_0's f1_score: 0.96496\n",
      "[31]\tvalid_0's binary_logloss: 0.468743\tvalid_0's f1_score: 0.96496\n",
      "[32]\tvalid_0's binary_logloss: 0.463743\tvalid_0's f1_score: 0.96496\n",
      "[33]\tvalid_0's binary_logloss: 0.458807\tvalid_0's f1_score: 0.96496\n",
      "[34]\tvalid_0's binary_logloss: 0.45397\tvalid_0's f1_score: 0.96496\n",
      "[35]\tvalid_0's binary_logloss: 0.449215\tvalid_0's f1_score: 0.96495\n",
      "[36]\tvalid_0's binary_logloss: 0.44453\tvalid_0's f1_score: 0.96495\n",
      "[37]\tvalid_0's binary_logloss: 0.439928\tvalid_0's f1_score: 0.96495\n",
      "[38]\tvalid_0's binary_logloss: 0.435407\tvalid_0's f1_score: 0.96495\n",
      "[39]\tvalid_0's binary_logloss: 0.430923\tvalid_0's f1_score: 0.96495\n",
      "[40]\tvalid_0's binary_logloss: 0.426528\tvalid_0's f1_score: 0.965107\n",
      "[41]\tvalid_0's binary_logloss: 0.422202\tvalid_0's f1_score: 0.965107\n",
      "[42]\tvalid_0's binary_logloss: 0.417918\tvalid_0's f1_score: 0.965107\n",
      "[43]\tvalid_0's binary_logloss: 0.41371\tvalid_0's f1_score: 0.965107\n",
      "[44]\tvalid_0's binary_logloss: 0.409595\tvalid_0's f1_score: 0.965107\n",
      "[45]\tvalid_0's binary_logloss: 0.405511\tvalid_0's f1_score: 0.965107\n",
      "[46]\tvalid_0's binary_logloss: 0.40151\tvalid_0's f1_score: 0.965107\n",
      "[47]\tvalid_0's binary_logloss: 0.397571\tvalid_0's f1_score: 0.966592\n",
      "[48]\tvalid_0's binary_logloss: 0.393671\tvalid_0's f1_score: 0.966592\n",
      "[49]\tvalid_0's binary_logloss: 0.389828\tvalid_0's f1_score: 0.966592\n",
      "[50]\tvalid_0's binary_logloss: 0.386058\tvalid_0's f1_score: 0.966592\n",
      "[51]\tvalid_0's binary_logloss: 0.382316\tvalid_0's f1_score: 0.966592\n",
      "[52]\tvalid_0's binary_logloss: 0.378674\tvalid_0's f1_score: 0.966592\n",
      "[53]\tvalid_0's binary_logloss: 0.375052\tvalid_0's f1_score: 0.966592\n",
      "[54]\tvalid_0's binary_logloss: 0.371486\tvalid_0's f1_score: 0.966592\n",
      "[55]\tvalid_0's binary_logloss: 0.367969\tvalid_0's f1_score: 0.966592\n",
      "[56]\tvalid_0's binary_logloss: 0.364529\tvalid_0's f1_score: 0.966592\n",
      "[57]\tvalid_0's binary_logloss: 0.361105\tvalid_0's f1_score: 0.966592\n",
      "[58]\tvalid_0's binary_logloss: 0.357719\tvalid_0's f1_score: 0.966592\n",
      "[59]\tvalid_0's binary_logloss: 0.35441\tvalid_0's f1_score: 0.966158\n",
      "[60]\tvalid_0's binary_logloss: 0.351135\tvalid_0's f1_score: 0.966592\n",
      "[61]\tvalid_0's binary_logloss: 0.347908\tvalid_0's f1_score: 0.966592\n",
      "[62]\tvalid_0's binary_logloss: 0.344729\tvalid_0's f1_score: 0.966592\n",
      "[63]\tvalid_0's binary_logloss: 0.341592\tvalid_0's f1_score: 0.966592\n",
      "[64]\tvalid_0's binary_logloss: 0.338503\tvalid_0's f1_score: 0.966592\n",
      "[65]\tvalid_0's binary_logloss: 0.335402\tvalid_0's f1_score: 0.966592\n",
      "[66]\tvalid_0's binary_logloss: 0.332352\tvalid_0's f1_score: 0.966592\n",
      "[67]\tvalid_0's binary_logloss: 0.329339\tvalid_0's f1_score: 0.966592\n",
      "[68]\tvalid_0's binary_logloss: 0.326375\tvalid_0's f1_score: 0.9662\n",
      "[69]\tvalid_0's binary_logloss: 0.323447\tvalid_0's f1_score: 0.9662\n",
      "[70]\tvalid_0's binary_logloss: 0.320583\tvalid_0's f1_score: 0.9662\n",
      "[71]\tvalid_0's binary_logloss: 0.317759\tvalid_0's f1_score: 0.9662\n",
      "[72]\tvalid_0's binary_logloss: 0.31496\tvalid_0's f1_score: 0.9662\n",
      "[73]\tvalid_0's binary_logloss: 0.312213\tvalid_0's f1_score: 0.9662\n",
      "[74]\tvalid_0's binary_logloss: 0.309491\tvalid_0's f1_score: 0.966951\n",
      "[75]\tvalid_0's binary_logloss: 0.306845\tvalid_0's f1_score: 0.966951\n",
      "[76]\tvalid_0's binary_logloss: 0.304223\tvalid_0's f1_score: 0.966951\n",
      "[77]\tvalid_0's binary_logloss: 0.30161\tvalid_0's f1_score: 0.966951\n",
      "[78]\tvalid_0's binary_logloss: 0.299067\tvalid_0's f1_score: 0.966951\n",
      "[79]\tvalid_0's binary_logloss: 0.29656\tvalid_0's f1_score: 0.966951\n",
      "[80]\tvalid_0's binary_logloss: 0.294086\tvalid_0's f1_score: 0.967385\n",
      "[81]\tvalid_0's binary_logloss: 0.291611\tvalid_0's f1_score: 0.967191\n",
      "[82]\tvalid_0's binary_logloss: 0.289188\tvalid_0's f1_score: 0.96781\n",
      "[83]\tvalid_0's binary_logloss: 0.286799\tvalid_0's f1_score: 0.96781\n",
      "[84]\tvalid_0's binary_logloss: 0.28445\tvalid_0's f1_score: 0.96781\n",
      "[85]\tvalid_0's binary_logloss: 0.282133\tvalid_0's f1_score: 0.96781\n",
      "[86]\tvalid_0's binary_logloss: 0.279847\tvalid_0's f1_score: 0.96781\n",
      "[87]\tvalid_0's binary_logloss: 0.277592\tvalid_0's f1_score: 0.96781\n",
      "[88]\tvalid_0's binary_logloss: 0.275368\tvalid_0's f1_score: 0.96781\n",
      "[89]\tvalid_0's binary_logloss: 0.273176\tvalid_0's f1_score: 0.96781\n",
      "[90]\tvalid_0's binary_logloss: 0.271006\tvalid_0's f1_score: 0.96781\n",
      "[91]\tvalid_0's binary_logloss: 0.268873\tvalid_0's f1_score: 0.967665\n",
      "[92]\tvalid_0's binary_logloss: 0.26673\tvalid_0's f1_score: 0.96839\n",
      "[93]\tvalid_0's binary_logloss: 0.264611\tvalid_0's f1_score: 0.968099\n",
      "[94]\tvalid_0's binary_logloss: 0.262519\tvalid_0's f1_score: 0.967954\n",
      "[95]\tvalid_0's binary_logloss: 0.260461\tvalid_0's f1_score: 0.968099\n",
      "[96]\tvalid_0's binary_logloss: 0.258451\tvalid_0's f1_score: 0.968099\n",
      "[97]\tvalid_0's binary_logloss: 0.256451\tvalid_0's f1_score: 0.967771\n",
      "[98]\tvalid_0's binary_logloss: 0.254487\tvalid_0's f1_score: 0.967771\n",
      "[99]\tvalid_0's binary_logloss: 0.252529\tvalid_0's f1_score: 0.967665\n",
      "[100]\tvalid_0's binary_logloss: 0.250611\tvalid_0's f1_score: 0.967665\n",
      "Threshold: 0.34051361561890975\n",
      "Precision: 0.9723225030084236\n",
      "Recall: 0.9630512514898689\n",
      "F1-score: 0.9676646706586827\n"
     ]
    }
   ],
   "source": [
    "def fscore_up(y_scores, dtrain):\n",
    "    \n",
    "    precision, recall, thresholds = precision_recall_curve(y_test_u, y_scores)\n",
    "    f1 = (2 * precision * recall)/(precision + recall)\n",
    "    return 'f1_score', f1.max(), True\n",
    "\n",
    "train_data=lgb.Dataset(X_train_u,label=y_train_u)\n",
    "test_data = lgb.Dataset(X_test_u, label=y_test_u)\n",
    "param = {'objective':'binary', 'learning_rate':0.01}\n",
    "lgbm=lgb.train(param, train_data, valid_sets=[test_data], feval=fscore_up)\n",
    "y_scores = lgbm.predict(X_test_u)\n",
    "precision, recall, thresholds = precision_recall_curve(y_test_u, y_scores)\n",
    "f1 = (2 * precision * recall)/(precision + recall)\n",
    "print_values(f1.argmax())"
   ]
  },
  {
   "cell_type": "code",
   "execution_count": 99,
   "id": "27816dd4",
   "metadata": {},
   "outputs": [
    {
     "data": {
      "text/html": [
       "<div>\n",
       "<style scoped>\n",
       "    .dataframe tbody tr th:only-of-type {\n",
       "        vertical-align: middle;\n",
       "    }\n",
       "\n",
       "    .dataframe tbody tr th {\n",
       "        vertical-align: top;\n",
       "    }\n",
       "\n",
       "    .dataframe thead th {\n",
       "        text-align: right;\n",
       "    }\n",
       "</style>\n",
       "<table border=\"1\" class=\"dataframe\">\n",
       "  <thead>\n",
       "    <tr style=\"text-align: right;\">\n",
       "      <th></th>\n",
       "      <th>F1-score</th>\n",
       "      <th>Threshold</th>\n",
       "    </tr>\n",
       "  </thead>\n",
       "  <tbody>\n",
       "    <tr>\n",
       "      <th>Naive Bayes</th>\n",
       "      <td>0.803653</td>\n",
       "      <td>9.341822e-02</td>\n",
       "    </tr>\n",
       "    <tr>\n",
       "      <th>Naive Bayes down</th>\n",
       "      <td>0.820944</td>\n",
       "      <td>1.103615e-01</td>\n",
       "    </tr>\n",
       "    <tr>\n",
       "      <th>Naive Bayes up</th>\n",
       "      <td>0.831440</td>\n",
       "      <td>1.309410e-01</td>\n",
       "    </tr>\n",
       "    <tr>\n",
       "      <th>Random Forest</th>\n",
       "      <td>0.975309</td>\n",
       "      <td>5.946319e-01</td>\n",
       "    </tr>\n",
       "    <tr>\n",
       "      <th>Random Forest up</th>\n",
       "      <td>0.980286</td>\n",
       "      <td>6.152356e-01</td>\n",
       "    </tr>\n",
       "    <tr>\n",
       "      <th>LightGBM</th>\n",
       "      <td>0.964071</td>\n",
       "      <td>3.761017e-01</td>\n",
       "    </tr>\n",
       "    <tr>\n",
       "      <th>LightGBM up</th>\n",
       "      <td>0.967665</td>\n",
       "      <td>3.405136e-01</td>\n",
       "    </tr>\n",
       "    <tr>\n",
       "      <th>TFIDF - NB</th>\n",
       "      <td>0.847096</td>\n",
       "      <td>4.628623e-151</td>\n",
       "    </tr>\n",
       "    <tr>\n",
       "      <th>TFIDF - NB up</th>\n",
       "      <td>0.900315</td>\n",
       "      <td>1.532390e-156</td>\n",
       "    </tr>\n",
       "    <tr>\n",
       "      <th>TFIDF - RF</th>\n",
       "      <td>0.981337</td>\n",
       "      <td>6.034762e-01</td>\n",
       "    </tr>\n",
       "    <tr>\n",
       "      <th>TFIDF - RF up</th>\n",
       "      <td>0.984117</td>\n",
       "      <td>5.510397e-01</td>\n",
       "    </tr>\n",
       "    <tr>\n",
       "      <th>TFIDF - LightGBM</th>\n",
       "      <td>0.968544</td>\n",
       "      <td>4.632464e-01</td>\n",
       "    </tr>\n",
       "    <tr>\n",
       "      <th>TFIDF - LightGBM up</th>\n",
       "      <td>0.970743</td>\n",
       "      <td>3.321992e-01</td>\n",
       "    </tr>\n",
       "    <tr>\n",
       "      <th>Glove - NB</th>\n",
       "      <td>0.832375</td>\n",
       "      <td>6.730616e-02</td>\n",
       "    </tr>\n",
       "    <tr>\n",
       "      <th>Glove - RF</th>\n",
       "      <td>0.993715</td>\n",
       "      <td>4.050000e-01</td>\n",
       "    </tr>\n",
       "    <tr>\n",
       "      <th>Glove - LightGBM</th>\n",
       "      <td>0.981646</td>\n",
       "      <td>4.772162e-01</td>\n",
       "    </tr>\n",
       "    <tr>\n",
       "      <th>Glove - LightGBM up</th>\n",
       "      <td>0.967665</td>\n",
       "      <td>3.405136e-01</td>\n",
       "    </tr>\n",
       "  </tbody>\n",
       "</table>\n",
       "</div>"
      ],
      "text/plain": [
       "                     F1-score      Threshold\n",
       "Naive Bayes          0.803653   9.341822e-02\n",
       "Naive Bayes down     0.820944   1.103615e-01\n",
       "Naive Bayes up       0.831440   1.309410e-01\n",
       "Random Forest        0.975309   5.946319e-01\n",
       "Random Forest up     0.980286   6.152356e-01\n",
       "LightGBM             0.964071   3.761017e-01\n",
       "LightGBM up          0.967665   3.405136e-01\n",
       "TFIDF - NB           0.847096  4.628623e-151\n",
       "TFIDF - NB up        0.900315  1.532390e-156\n",
       "TFIDF - RF           0.981337   6.034762e-01\n",
       "TFIDF - RF up        0.984117   5.510397e-01\n",
       "TFIDF - LightGBM     0.968544   4.632464e-01\n",
       "TFIDF - LightGBM up  0.970743   3.321992e-01\n",
       "Glove - NB           0.832375   6.730616e-02\n",
       "Glove - RF           0.993715   4.050000e-01\n",
       "Glove - LightGBM     0.981646   4.772162e-01\n",
       "Glove - LightGBM up  0.967665   3.405136e-01"
      ]
     },
     "execution_count": 99,
     "metadata": {},
     "output_type": "execute_result"
    }
   ],
   "source": [
    "addResult('Glove - LightGBM up', f1.max(), thresholds[f1.argmax()])\n",
    "result"
   ]
  },
  {
   "cell_type": "markdown",
   "id": "874986e4",
   "metadata": {
    "id": "874986e4"
   },
   "source": [
    "#### Word2vec"
   ]
  },
  {
   "cell_type": "code",
   "execution_count": 100,
   "id": "e8d1acb8",
   "metadata": {
    "id": "e8d1acb8"
   },
   "outputs": [],
   "source": [
    "vec_len = 300\n",
    "def get_doc_vec(q):\n",
    "    \n",
    "    '''\n",
    "    This function returns a query's embedding by summing up the vectors for each word.\n",
    "    Parameter q: (str) Query string whose vector embedding is required\n",
    "    Returns doc_vec: (numpy array) Vector embedding of given query\n",
    "    '''\n",
    "    doc_vec = np.zeros(vec_len)\n",
    "    for w in q.split():\n",
    "        if w2v_vectors.has_index_for(w):\n",
    "            doc_vec += w2v_vectors.get_vector(w)\n",
    "    return doc_vec"
   ]
  },
  {
   "cell_type": "code",
   "execution_count": 101,
   "id": "be7e3269",
   "metadata": {
    "id": "be7e3269"
   },
   "outputs": [],
   "source": [
    "if os.path.isfile('Modeling_query_vectors_w2v.csv'):\n",
    "    doc_vecs = pd.read_csv('Modeling_query_vectors_w2v.csv', index_col=0)\n",
    "else:\n",
    "    w2v_vectors = api.load('word2vec-google-news-300') # loading the w2v vectors\n",
    "    doc_vecs = np.zeros((mod_data.shape[0], vec_len))\n",
    "    for i in range(mod_data.shape[0]):\n",
    "        q = mod_data.iloc[i]['small']\n",
    "        doc_vec = get_doc_vec(q)\n",
    "        doc_vecs[i] = doc_vec\n",
    "    doc_vecs = pd.DataFrame(doc_vecs)\n",
    "    doc_vecs.to_csv('Modeling_query_vectors_w2v.csv')"
   ]
  },
  {
   "cell_type": "code",
   "execution_count": 102,
   "id": "df74f1a7",
   "metadata": {
    "id": "df74f1a7",
    "outputId": "ed711e43-b4da-4769-f42d-5bea8c8d7221"
   },
   "outputs": [
    {
     "data": {
      "text/html": [
       "<div>\n",
       "<style scoped>\n",
       "    .dataframe tbody tr th:only-of-type {\n",
       "        vertical-align: middle;\n",
       "    }\n",
       "\n",
       "    .dataframe tbody tr th {\n",
       "        vertical-align: top;\n",
       "    }\n",
       "\n",
       "    .dataframe thead th {\n",
       "        text-align: right;\n",
       "    }\n",
       "</style>\n",
       "<table border=\"1\" class=\"dataframe\">\n",
       "  <thead>\n",
       "    <tr style=\"text-align: right;\">\n",
       "      <th></th>\n",
       "      <th>0</th>\n",
       "      <th>1</th>\n",
       "      <th>2</th>\n",
       "      <th>3</th>\n",
       "      <th>4</th>\n",
       "      <th>5</th>\n",
       "      <th>6</th>\n",
       "      <th>7</th>\n",
       "      <th>8</th>\n",
       "      <th>9</th>\n",
       "      <th>...</th>\n",
       "      <th>290</th>\n",
       "      <th>291</th>\n",
       "      <th>292</th>\n",
       "      <th>293</th>\n",
       "      <th>294</th>\n",
       "      <th>295</th>\n",
       "      <th>296</th>\n",
       "      <th>297</th>\n",
       "      <th>298</th>\n",
       "      <th>299</th>\n",
       "    </tr>\n",
       "  </thead>\n",
       "  <tbody>\n",
       "    <tr>\n",
       "      <th>0</th>\n",
       "      <td>0.023438</td>\n",
       "      <td>-0.140625</td>\n",
       "      <td>0.161133</td>\n",
       "      <td>0.217773</td>\n",
       "      <td>-0.100586</td>\n",
       "      <td>0.082031</td>\n",
       "      <td>0.129883</td>\n",
       "      <td>0.045898</td>\n",
       "      <td>0.043457</td>\n",
       "      <td>0.033691</td>\n",
       "      <td>...</td>\n",
       "      <td>-0.074707</td>\n",
       "      <td>0.244141</td>\n",
       "      <td>0.044678</td>\n",
       "      <td>0.057617</td>\n",
       "      <td>0.052002</td>\n",
       "      <td>0.027954</td>\n",
       "      <td>0.003647</td>\n",
       "      <td>-0.156250</td>\n",
       "      <td>-0.002090</td>\n",
       "      <td>0.079590</td>\n",
       "    </tr>\n",
       "    <tr>\n",
       "      <th>1</th>\n",
       "      <td>-0.064453</td>\n",
       "      <td>-0.186676</td>\n",
       "      <td>-0.021484</td>\n",
       "      <td>0.799072</td>\n",
       "      <td>-1.237732</td>\n",
       "      <td>-0.032593</td>\n",
       "      <td>-0.016602</td>\n",
       "      <td>-0.147430</td>\n",
       "      <td>1.131836</td>\n",
       "      <td>0.054749</td>\n",
       "      <td>...</td>\n",
       "      <td>-0.355469</td>\n",
       "      <td>1.240723</td>\n",
       "      <td>-0.578491</td>\n",
       "      <td>0.314331</td>\n",
       "      <td>-0.098450</td>\n",
       "      <td>0.784180</td>\n",
       "      <td>0.260254</td>\n",
       "      <td>-0.192719</td>\n",
       "      <td>-0.648315</td>\n",
       "      <td>-0.666897</td>\n",
       "    </tr>\n",
       "    <tr>\n",
       "      <th>2</th>\n",
       "      <td>-1.062195</td>\n",
       "      <td>0.678606</td>\n",
       "      <td>-0.282471</td>\n",
       "      <td>2.051453</td>\n",
       "      <td>-1.019592</td>\n",
       "      <td>0.383118</td>\n",
       "      <td>-0.235107</td>\n",
       "      <td>-1.989136</td>\n",
       "      <td>1.239990</td>\n",
       "      <td>0.404785</td>\n",
       "      <td>...</td>\n",
       "      <td>0.020386</td>\n",
       "      <td>0.979614</td>\n",
       "      <td>-0.202723</td>\n",
       "      <td>0.738525</td>\n",
       "      <td>-0.355835</td>\n",
       "      <td>-0.558472</td>\n",
       "      <td>0.252266</td>\n",
       "      <td>-1.541260</td>\n",
       "      <td>-0.885254</td>\n",
       "      <td>0.516724</td>\n",
       "    </tr>\n",
       "    <tr>\n",
       "      <th>3</th>\n",
       "      <td>-0.640411</td>\n",
       "      <td>-0.056693</td>\n",
       "      <td>-0.018116</td>\n",
       "      <td>2.024963</td>\n",
       "      <td>-0.615417</td>\n",
       "      <td>0.741943</td>\n",
       "      <td>-0.597885</td>\n",
       "      <td>-1.658569</td>\n",
       "      <td>0.667664</td>\n",
       "      <td>0.082458</td>\n",
       "      <td>...</td>\n",
       "      <td>0.273804</td>\n",
       "      <td>1.689545</td>\n",
       "      <td>-0.019533</td>\n",
       "      <td>0.846680</td>\n",
       "      <td>0.291870</td>\n",
       "      <td>-0.869873</td>\n",
       "      <td>-0.124588</td>\n",
       "      <td>-1.480591</td>\n",
       "      <td>-1.098038</td>\n",
       "      <td>0.852005</td>\n",
       "    </tr>\n",
       "    <tr>\n",
       "      <th>4</th>\n",
       "      <td>-0.114044</td>\n",
       "      <td>-0.174491</td>\n",
       "      <td>-0.078419</td>\n",
       "      <td>1.751038</td>\n",
       "      <td>-0.888123</td>\n",
       "      <td>0.367554</td>\n",
       "      <td>-0.392563</td>\n",
       "      <td>-1.219604</td>\n",
       "      <td>0.780029</td>\n",
       "      <td>0.170593</td>\n",
       "      <td>...</td>\n",
       "      <td>0.288696</td>\n",
       "      <td>1.249847</td>\n",
       "      <td>-0.243654</td>\n",
       "      <td>0.549805</td>\n",
       "      <td>0.290405</td>\n",
       "      <td>-0.211914</td>\n",
       "      <td>-0.036758</td>\n",
       "      <td>-1.123657</td>\n",
       "      <td>-0.711563</td>\n",
       "      <td>0.426933</td>\n",
       "    </tr>\n",
       "  </tbody>\n",
       "</table>\n",
       "<p>5 rows × 300 columns</p>\n",
       "</div>"
      ],
      "text/plain": [
       "          0         1         2         3         4         5         6  \\\n",
       "0  0.023438 -0.140625  0.161133  0.217773 -0.100586  0.082031  0.129883   \n",
       "1 -0.064453 -0.186676 -0.021484  0.799072 -1.237732 -0.032593 -0.016602   \n",
       "2 -1.062195  0.678606 -0.282471  2.051453 -1.019592  0.383118 -0.235107   \n",
       "3 -0.640411 -0.056693 -0.018116  2.024963 -0.615417  0.741943 -0.597885   \n",
       "4 -0.114044 -0.174491 -0.078419  1.751038 -0.888123  0.367554 -0.392563   \n",
       "\n",
       "          7         8         9  ...       290       291       292       293  \\\n",
       "0  0.045898  0.043457  0.033691  ... -0.074707  0.244141  0.044678  0.057617   \n",
       "1 -0.147430  1.131836  0.054749  ... -0.355469  1.240723 -0.578491  0.314331   \n",
       "2 -1.989136  1.239990  0.404785  ...  0.020386  0.979614 -0.202723  0.738525   \n",
       "3 -1.658569  0.667664  0.082458  ...  0.273804  1.689545 -0.019533  0.846680   \n",
       "4 -1.219604  0.780029  0.170593  ...  0.288696  1.249847 -0.243654  0.549805   \n",
       "\n",
       "        294       295       296       297       298       299  \n",
       "0  0.052002  0.027954  0.003647 -0.156250 -0.002090  0.079590  \n",
       "1 -0.098450  0.784180  0.260254 -0.192719 -0.648315 -0.666897  \n",
       "2 -0.355835 -0.558472  0.252266 -1.541260 -0.885254  0.516724  \n",
       "3  0.291870 -0.869873 -0.124588 -1.480591 -1.098038  0.852005  \n",
       "4  0.290405 -0.211914 -0.036758 -1.123657 -0.711563  0.426933  \n",
       "\n",
       "[5 rows x 300 columns]"
      ]
     },
     "execution_count": 102,
     "metadata": {},
     "output_type": "execute_result"
    }
   ],
   "source": [
    "doc_vecs.head()"
   ]
  },
  {
   "cell_type": "code",
   "execution_count": 103,
   "id": "e566d2f1",
   "metadata": {
    "id": "e566d2f1"
   },
   "outputs": [],
   "source": [
    "doc_vecs.index = mod_data.index"
   ]
  },
  {
   "cell_type": "code",
   "execution_count": 105,
   "id": "b8d5711f",
   "metadata": {
    "id": "b8d5711f",
    "outputId": "fe71081c-bdd3-4808-8f90-f83910f16d1b"
   },
   "outputs": [],
   "source": [
    "X_train, X_test, y_train, y_test = prepare_data(mod_data)\n",
    "X_train = pd.concat((X_train, doc_vecs.loc[X_train.index]), axis=1)\n",
    "X_test = pd.concat((X_test, doc_vecs.loc[X_test.index]), axis=1)"
   ]
  },
  {
   "cell_type": "markdown",
   "id": "58d2c9f4",
   "metadata": {},
   "source": [
    "##### Naive Bayes"
   ]
  },
  {
   "cell_type": "code",
   "execution_count": 106,
   "id": "e79867da",
   "metadata": {
    "id": "e79867da",
    "outputId": "8038e67f-d5bf-43eb-816c-2e4d2e5a4f69"
   },
   "outputs": [
    {
     "data": {
      "text/plain": [
       "0.7444933920704846"
      ]
     },
     "execution_count": 106,
     "metadata": {},
     "output_type": "execute_result"
    }
   ],
   "source": [
    "gnb = GaussianNB()\n",
    "gnb.fit(X_train, y_train)\n",
    "y_scores = gnb.predict_proba(X_test)\n",
    "\n",
    "y_pred = gnb.predict(X_test)\n",
    "f1_score(y_test, y_pred)"
   ]
  },
  {
   "cell_type": "code",
   "execution_count": 107,
   "id": "cb098c08",
   "metadata": {
    "id": "cb098c08",
    "outputId": "f71c5eb5-fb3d-457c-cde7-dc8a60dcd05e"
   },
   "outputs": [
    {
     "data": {
      "image/png": "[encoded data removed]",
      "text/plain": [
       "<Figure size 432x288 with 1 Axes>"
      ]
     },
     "metadata": {
      "needs_background": "light"
     },
     "output_type": "display_data"
    }
   ],
   "source": [
    "precision, recall, thresholds = precision_recall_curve(y_test, y_scores[:, 1])\n",
    "plt.plot([0, 1], [1, 0])\n",
    "plt.plot(precision, recall)\n",
    "plt.title(\"Naive Bayes: Precision-Recall Curve\")\n",
    "plt.xlabel(\"Precision\")\n",
    "plt.ylabel(\"Recall\")\n",
    "plt.show()"
   ]
  },
  {
   "cell_type": "code",
   "execution_count": 108,
   "id": "b3cfdcab",
   "metadata": {
    "id": "b3cfdcab",
    "outputId": "8dd6b4f1-154b-486a-bbe0-e084e32b7153"
   },
   "outputs": [
    {
     "data": {
      "text/plain": [
       "3389"
      ]
     },
     "execution_count": 108,
     "metadata": {},
     "output_type": "execute_result"
    }
   ],
   "source": [
    "f1 = (2 * precision * recall)/(precision + recall)\n",
    "argmax_w2v = f1.argmax()\n",
    "argmax_w2v"
   ]
  },
  {
   "cell_type": "code",
   "execution_count": 109,
   "id": "04f654f4",
   "metadata": {
    "id": "04f654f4",
    "outputId": "d06192df-f06b-43e1-a00b-4ae62d4e235c"
   },
   "outputs": [
    {
     "name": "stdout",
     "output_type": "stream",
     "text": [
      "Threshold: 0.9999999999985576\n",
      "Precision: 0.8049586776859504\n",
      "Recall: 0.6982078853046595\n",
      "F1-score: 0.7477927063339732\n"
     ]
    }
   ],
   "source": [
    "print_values(argmax_w2v)"
   ]
  },
  {
   "cell_type": "code",
   "execution_count": 110,
   "id": "b426cc25",
   "metadata": {
    "id": "b426cc25",
    "outputId": "909849e3-c2dc-4886-879f-f43e00e1233b"
   },
   "outputs": [
    {
     "data": {
      "image/png": "[encoded data removed]",
      "text/plain": [
       "<Figure size 432x288 with 1 Axes>"
      ]
     },
     "metadata": {
      "needs_background": "light"
     },
     "output_type": "display_data"
    }
   ],
   "source": [
    "plt.plot(precision, label='precision')\n",
    "plt.plot(recall, label='recall')\n",
    "plt.plot(f1, label='f1-score')\n",
    "plt.xlabel(\"index\")\n",
    "plt.ylabel(\"value\")\n",
    "plt.legend()\n",
    "plt.title(\"Precision, Recall and F1-score values\")\n",
    "plt.show()"
   ]
  },
  {
   "cell_type": "code",
   "execution_count": 111,
   "id": "2195efaf",
   "metadata": {
    "id": "2195efaf",
    "outputId": "e0ecc9ef-697f-47cf-93bd-b91deda8785c"
   },
   "outputs": [
    {
     "data": {
      "text/html": [
       "<div>\n",
       "<style scoped>\n",
       "    .dataframe tbody tr th:only-of-type {\n",
       "        vertical-align: middle;\n",
       "    }\n",
       "\n",
       "    .dataframe tbody tr th {\n",
       "        vertical-align: top;\n",
       "    }\n",
       "\n",
       "    .dataframe thead th {\n",
       "        text-align: right;\n",
       "    }\n",
       "</style>\n",
       "<table border=\"1\" class=\"dataframe\">\n",
       "  <thead>\n",
       "    <tr style=\"text-align: right;\">\n",
       "      <th></th>\n",
       "      <th>F1-score</th>\n",
       "      <th>Threshold</th>\n",
       "    </tr>\n",
       "  </thead>\n",
       "  <tbody>\n",
       "    <tr>\n",
       "      <th>Naive Bayes</th>\n",
       "      <td>0.803653</td>\n",
       "      <td>9.341822e-02</td>\n",
       "    </tr>\n",
       "    <tr>\n",
       "      <th>Naive Bayes down</th>\n",
       "      <td>0.820944</td>\n",
       "      <td>1.103615e-01</td>\n",
       "    </tr>\n",
       "    <tr>\n",
       "      <th>Naive Bayes up</th>\n",
       "      <td>0.831440</td>\n",
       "      <td>1.309410e-01</td>\n",
       "    </tr>\n",
       "    <tr>\n",
       "      <th>Random Forest</th>\n",
       "      <td>0.975309</td>\n",
       "      <td>5.946319e-01</td>\n",
       "    </tr>\n",
       "    <tr>\n",
       "      <th>Random Forest up</th>\n",
       "      <td>0.980286</td>\n",
       "      <td>6.152356e-01</td>\n",
       "    </tr>\n",
       "    <tr>\n",
       "      <th>LightGBM</th>\n",
       "      <td>0.964071</td>\n",
       "      <td>3.761017e-01</td>\n",
       "    </tr>\n",
       "    <tr>\n",
       "      <th>LightGBM up</th>\n",
       "      <td>0.967665</td>\n",
       "      <td>3.405136e-01</td>\n",
       "    </tr>\n",
       "    <tr>\n",
       "      <th>TFIDF - NB</th>\n",
       "      <td>0.847096</td>\n",
       "      <td>4.628623e-151</td>\n",
       "    </tr>\n",
       "    <tr>\n",
       "      <th>TFIDF - NB up</th>\n",
       "      <td>0.900315</td>\n",
       "      <td>1.532390e-156</td>\n",
       "    </tr>\n",
       "    <tr>\n",
       "      <th>TFIDF - RF</th>\n",
       "      <td>0.981337</td>\n",
       "      <td>6.034762e-01</td>\n",
       "    </tr>\n",
       "    <tr>\n",
       "      <th>TFIDF - RF up</th>\n",
       "      <td>0.984117</td>\n",
       "      <td>5.510397e-01</td>\n",
       "    </tr>\n",
       "    <tr>\n",
       "      <th>TFIDF - LightGBM</th>\n",
       "      <td>0.968544</td>\n",
       "      <td>4.632464e-01</td>\n",
       "    </tr>\n",
       "    <tr>\n",
       "      <th>TFIDF - LightGBM up</th>\n",
       "      <td>0.970743</td>\n",
       "      <td>3.321992e-01</td>\n",
       "    </tr>\n",
       "    <tr>\n",
       "      <th>Glove - NB</th>\n",
       "      <td>0.832375</td>\n",
       "      <td>6.730616e-02</td>\n",
       "    </tr>\n",
       "    <tr>\n",
       "      <th>Glove - RF</th>\n",
       "      <td>0.993715</td>\n",
       "      <td>4.050000e-01</td>\n",
       "    </tr>\n",
       "    <tr>\n",
       "      <th>Glove - LightGBM</th>\n",
       "      <td>0.981646</td>\n",
       "      <td>4.772162e-01</td>\n",
       "    </tr>\n",
       "    <tr>\n",
       "      <th>Glove - LightGBM up</th>\n",
       "      <td>0.967665</td>\n",
       "      <td>3.405136e-01</td>\n",
       "    </tr>\n",
       "    <tr>\n",
       "      <th>W2V - NB</th>\n",
       "      <td>0.747793</td>\n",
       "      <td>1.000000e+00</td>\n",
       "    </tr>\n",
       "  </tbody>\n",
       "</table>\n",
       "</div>"
      ],
      "text/plain": [
       "                     F1-score      Threshold\n",
       "Naive Bayes          0.803653   9.341822e-02\n",
       "Naive Bayes down     0.820944   1.103615e-01\n",
       "Naive Bayes up       0.831440   1.309410e-01\n",
       "Random Forest        0.975309   5.946319e-01\n",
       "Random Forest up     0.980286   6.152356e-01\n",
       "LightGBM             0.964071   3.761017e-01\n",
       "LightGBM up          0.967665   3.405136e-01\n",
       "TFIDF - NB           0.847096  4.628623e-151\n",
       "TFIDF - NB up        0.900315  1.532390e-156\n",
       "TFIDF - RF           0.981337   6.034762e-01\n",
       "TFIDF - RF up        0.984117   5.510397e-01\n",
       "TFIDF - LightGBM     0.968544   4.632464e-01\n",
       "TFIDF - LightGBM up  0.970743   3.321992e-01\n",
       "Glove - NB           0.832375   6.730616e-02\n",
       "Glove - RF           0.993715   4.050000e-01\n",
       "Glove - LightGBM     0.981646   4.772162e-01\n",
       "Glove - LightGBM up  0.967665   3.405136e-01\n",
       "W2V - NB             0.747793   1.000000e+00"
      ]
     },
     "execution_count": 111,
     "metadata": {},
     "output_type": "execute_result"
    }
   ],
   "source": [
    "addResult('W2V - NB', f1[argmax_w2v], thresholds[argmax_w2v])\n",
    "result"
   ]
  },
  {
   "cell_type": "markdown",
   "id": "d6d1d8ec",
   "metadata": {},
   "source": [
    "##### Random Forest"
   ]
  },
  {
   "cell_type": "code",
   "execution_count": 112,
   "id": "58528f82",
   "metadata": {},
   "outputs": [
    {
     "name": "stdout",
     "output_type": "stream",
     "text": [
      "Threshold: 0.4023044733044735\n",
      "Precision: 0.9974610083424011\n",
      "Recall: 0.985663082437276\n",
      "F1-score: 0.9915269515053181\n"
     ]
    }
   ],
   "source": [
    "rdf = RandomForestClassifier(min_samples_split=5, random_state=0)\n",
    "rdf.fit(X_train, y_train)\n",
    "y_scores = rdf.predict_proba(X_test)\n",
    "precision, recall, thresholds = precision_recall_curve(y_test, y_scores[:, 1])\n",
    "f1 = (2 * precision * recall)/(precision + recall)\n",
    "print_values(f1.argmax())"
   ]
  },
  {
   "cell_type": "code",
   "execution_count": 113,
   "id": "117b2f16",
   "metadata": {},
   "outputs": [
    {
     "data": {
      "text/html": [
       "<div>\n",
       "<style scoped>\n",
       "    .dataframe tbody tr th:only-of-type {\n",
       "        vertical-align: middle;\n",
       "    }\n",
       "\n",
       "    .dataframe tbody tr th {\n",
       "        vertical-align: top;\n",
       "    }\n",
       "\n",
       "    .dataframe thead th {\n",
       "        text-align: right;\n",
       "    }\n",
       "</style>\n",
       "<table border=\"1\" class=\"dataframe\">\n",
       "  <thead>\n",
       "    <tr style=\"text-align: right;\">\n",
       "      <th></th>\n",
       "      <th>F1-score</th>\n",
       "      <th>Threshold</th>\n",
       "    </tr>\n",
       "  </thead>\n",
       "  <tbody>\n",
       "    <tr>\n",
       "      <th>Naive Bayes</th>\n",
       "      <td>0.803653</td>\n",
       "      <td>9.341822e-02</td>\n",
       "    </tr>\n",
       "    <tr>\n",
       "      <th>Naive Bayes down</th>\n",
       "      <td>0.820944</td>\n",
       "      <td>1.103615e-01</td>\n",
       "    </tr>\n",
       "    <tr>\n",
       "      <th>Naive Bayes up</th>\n",
       "      <td>0.831440</td>\n",
       "      <td>1.309410e-01</td>\n",
       "    </tr>\n",
       "    <tr>\n",
       "      <th>Random Forest</th>\n",
       "      <td>0.975309</td>\n",
       "      <td>5.946319e-01</td>\n",
       "    </tr>\n",
       "    <tr>\n",
       "      <th>Random Forest up</th>\n",
       "      <td>0.980286</td>\n",
       "      <td>6.152356e-01</td>\n",
       "    </tr>\n",
       "    <tr>\n",
       "      <th>LightGBM</th>\n",
       "      <td>0.964071</td>\n",
       "      <td>3.761017e-01</td>\n",
       "    </tr>\n",
       "    <tr>\n",
       "      <th>LightGBM up</th>\n",
       "      <td>0.967665</td>\n",
       "      <td>3.405136e-01</td>\n",
       "    </tr>\n",
       "    <tr>\n",
       "      <th>TFIDF - NB</th>\n",
       "      <td>0.847096</td>\n",
       "      <td>4.628623e-151</td>\n",
       "    </tr>\n",
       "    <tr>\n",
       "      <th>TFIDF - NB up</th>\n",
       "      <td>0.900315</td>\n",
       "      <td>1.532390e-156</td>\n",
       "    </tr>\n",
       "    <tr>\n",
       "      <th>TFIDF - RF</th>\n",
       "      <td>0.981337</td>\n",
       "      <td>6.034762e-01</td>\n",
       "    </tr>\n",
       "    <tr>\n",
       "      <th>TFIDF - RF up</th>\n",
       "      <td>0.984117</td>\n",
       "      <td>5.510397e-01</td>\n",
       "    </tr>\n",
       "    <tr>\n",
       "      <th>TFIDF - LightGBM</th>\n",
       "      <td>0.968544</td>\n",
       "      <td>4.632464e-01</td>\n",
       "    </tr>\n",
       "    <tr>\n",
       "      <th>TFIDF - LightGBM up</th>\n",
       "      <td>0.970743</td>\n",
       "      <td>3.321992e-01</td>\n",
       "    </tr>\n",
       "    <tr>\n",
       "      <th>Glove - NB</th>\n",
       "      <td>0.832375</td>\n",
       "      <td>6.730616e-02</td>\n",
       "    </tr>\n",
       "    <tr>\n",
       "      <th>Glove - RF</th>\n",
       "      <td>0.993715</td>\n",
       "      <td>4.050000e-01</td>\n",
       "    </tr>\n",
       "    <tr>\n",
       "      <th>Glove - LightGBM</th>\n",
       "      <td>0.981646</td>\n",
       "      <td>4.772162e-01</td>\n",
       "    </tr>\n",
       "    <tr>\n",
       "      <th>Glove - LightGBM up</th>\n",
       "      <td>0.967665</td>\n",
       "      <td>3.405136e-01</td>\n",
       "    </tr>\n",
       "    <tr>\n",
       "      <th>W2V - NB</th>\n",
       "      <td>0.747793</td>\n",
       "      <td>1.000000e+00</td>\n",
       "    </tr>\n",
       "    <tr>\n",
       "      <th>W2V - RF</th>\n",
       "      <td>0.991527</td>\n",
       "      <td>4.023045e-01</td>\n",
       "    </tr>\n",
       "  </tbody>\n",
       "</table>\n",
       "</div>"
      ],
      "text/plain": [
       "                     F1-score      Threshold\n",
       "Naive Bayes          0.803653   9.341822e-02\n",
       "Naive Bayes down     0.820944   1.103615e-01\n",
       "Naive Bayes up       0.831440   1.309410e-01\n",
       "Random Forest        0.975309   5.946319e-01\n",
       "Random Forest up     0.980286   6.152356e-01\n",
       "LightGBM             0.964071   3.761017e-01\n",
       "LightGBM up          0.967665   3.405136e-01\n",
       "TFIDF - NB           0.847096  4.628623e-151\n",
       "TFIDF - NB up        0.900315  1.532390e-156\n",
       "TFIDF - RF           0.981337   6.034762e-01\n",
       "TFIDF - RF up        0.984117   5.510397e-01\n",
       "TFIDF - LightGBM     0.968544   4.632464e-01\n",
       "TFIDF - LightGBM up  0.970743   3.321992e-01\n",
       "Glove - NB           0.832375   6.730616e-02\n",
       "Glove - RF           0.993715   4.050000e-01\n",
       "Glove - LightGBM     0.981646   4.772162e-01\n",
       "Glove - LightGBM up  0.967665   3.405136e-01\n",
       "W2V - NB             0.747793   1.000000e+00\n",
       "W2V - RF             0.991527   4.023045e-01"
      ]
     },
     "execution_count": 113,
     "metadata": {},
     "output_type": "execute_result"
    }
   ],
   "source": [
    "addResult('W2V - RF', f1.max(), thresholds[f1.argmax()])\n",
    "result"
   ]
  },
  {
   "cell_type": "markdown",
   "id": "f32d4cad",
   "metadata": {},
   "source": [
    "#### LightGBM"
   ]
  },
  {
   "cell_type": "code",
   "execution_count": 114,
   "id": "2138dce2",
   "metadata": {},
   "outputs": [
    {
     "name": "stdout",
     "output_type": "stream",
     "text": [
      "[LightGBM] [Info] Number of positive: 8587, number of negative: 14591\n",
      "[LightGBM] [Warning] Auto-choosing col-wise multi-threading, the overhead of testing was 0.196190 seconds.\n",
      "You can set `force_col_wise=true` to remove the overhead.\n",
      "[LightGBM] [Info] Total Bins 77328\n",
      "[LightGBM] [Info] Number of data points in the train set: 23178, number of used features: 308\n",
      "[LightGBM] [Info] [binary:BoostFromScore]: pavg=0.370481 -> initscore=-0.530155\n",
      "[LightGBM] [Info] Start training from score -0.530155\n",
      "[1]\tvalid_0's binary_logloss: 0.645125\tvalid_0's f1_score: 0.971956\n",
      "[2]\tvalid_0's binary_logloss: 0.636252\tvalid_0's f1_score: 0.971325\n",
      "[3]\tvalid_0's binary_logloss: 0.627562\tvalid_0's f1_score: 0.971532\n",
      "[4]\tvalid_0's binary_logloss: 0.619053\tvalid_0's f1_score: 0.972037\n",
      "[5]\tvalid_0's binary_logloss: 0.610731\tvalid_0's f1_score: 0.97201\n",
      "[6]\tvalid_0's binary_logloss: 0.602569\tvalid_0's f1_score: 0.972101\n",
      "[7]\tvalid_0's binary_logloss: 0.594577\tvalid_0's f1_score: 0.972212\n",
      "[8]\tvalid_0's binary_logloss: 0.586746\tvalid_0's f1_score: 0.972798\n",
      "[9]\tvalid_0's binary_logloss: 0.57908\tvalid_0's f1_score: 0.973256\n",
      "[10]\tvalid_0's binary_logloss: 0.571564\tvalid_0's f1_score: 0.974359\n",
      "[11]\tvalid_0's binary_logloss: 0.564215\tvalid_0's f1_score: 0.973684\n",
      "[12]\tvalid_0's binary_logloss: 0.556999\tvalid_0's f1_score: 0.97385\n",
      "[13]\tvalid_0's binary_logloss: 0.549917\tvalid_0's f1_score: 0.973822\n",
      "[14]\tvalid_0's binary_logloss: 0.542979\tvalid_0's f1_score: 0.973813\n",
      "[15]\tvalid_0's binary_logloss: 0.536171\tvalid_0's f1_score: 0.974146\n",
      "[16]\tvalid_0's binary_logloss: 0.529479\tvalid_0's f1_score: 0.973998\n",
      "[17]\tvalid_0's binary_logloss: 0.522919\tvalid_0's f1_score: 0.974174\n",
      "[18]\tvalid_0's binary_logloss: 0.516487\tvalid_0's f1_score: 0.973822\n",
      "[19]\tvalid_0's binary_logloss: 0.510172\tvalid_0's f1_score: 0.973998\n",
      "[20]\tvalid_0's binary_logloss: 0.503992\tvalid_0's f1_score: 0.974489\n",
      "[21]\tvalid_0's binary_logloss: 0.497927\tvalid_0's f1_score: 0.974674\n",
      "[22]\tvalid_0's binary_logloss: 0.491974\tvalid_0's f1_score: 0.975027\n",
      "[23]\tvalid_0's binary_logloss: 0.486125\tvalid_0's f1_score: 0.975027\n",
      "[24]\tvalid_0's binary_logloss: 0.480381\tvalid_0's f1_score: 0.974684\n",
      "[25]\tvalid_0's binary_logloss: 0.474686\tvalid_0's f1_score: 0.975027\n",
      "[26]\tvalid_0's binary_logloss: 0.469064\tvalid_0's f1_score: 0.975204\n",
      "[27]\tvalid_0's binary_logloss: 0.463614\tvalid_0's f1_score: 0.975036\n",
      "[28]\tvalid_0's binary_logloss: 0.458196\tvalid_0's f1_score: 0.975213\n",
      "[29]\tvalid_0's binary_logloss: 0.452853\tvalid_0's f1_score: 0.975213\n",
      "[30]\tvalid_0's binary_logloss: 0.447605\tvalid_0's f1_score: 0.975213\n",
      "[31]\tvalid_0's binary_logloss: 0.442462\tvalid_0's f1_score: 0.975213\n",
      "[32]\tvalid_0's binary_logloss: 0.437379\tvalid_0's f1_score: 0.97553\n",
      "[33]\tvalid_0's binary_logloss: 0.432385\tvalid_0's f1_score: 0.975707\n",
      "[34]\tvalid_0's binary_logloss: 0.427496\tvalid_0's f1_score: 0.97583\n",
      "[35]\tvalid_0's binary_logloss: 0.422659\tvalid_0's f1_score: 0.975847\n",
      "[36]\tvalid_0's binary_logloss: 0.417903\tvalid_0's f1_score: 0.976023\n",
      "[37]\tvalid_0's binary_logloss: 0.413291\tvalid_0's f1_score: 0.976534\n",
      "[38]\tvalid_0's binary_logloss: 0.408682\tvalid_0's f1_score: 0.976199\n",
      "[39]\tvalid_0's binary_logloss: 0.404158\tvalid_0's f1_score: 0.976517\n",
      "[40]\tvalid_0's binary_logloss: 0.399696\tvalid_0's f1_score: 0.976727\n",
      "[41]\tvalid_0's binary_logloss: 0.395311\tvalid_0's f1_score: 0.976904\n",
      "[42]\tvalid_0's binary_logloss: 0.39098\tvalid_0's f1_score: 0.97708\n",
      "[43]\tvalid_0's binary_logloss: 0.386747\tvalid_0's f1_score: 0.977256\n",
      "[44]\tvalid_0's binary_logloss: 0.382547\tvalid_0's f1_score: 0.977256\n",
      "[45]\tvalid_0's binary_logloss: 0.378417\tvalid_0's f1_score: 0.977609\n",
      "[46]\tvalid_0's binary_logloss: 0.374352\tvalid_0's f1_score: 0.977609\n",
      "[47]\tvalid_0's binary_logloss: 0.370409\tvalid_0's f1_score: 0.977433\n",
      "[48]\tvalid_0's binary_logloss: 0.366468\tvalid_0's f1_score: 0.977609\n",
      "[49]\tvalid_0's binary_logloss: 0.362573\tvalid_0's f1_score: 0.977609\n",
      "[50]\tvalid_0's binary_logloss: 0.358734\tvalid_0's f1_score: 0.97764\n",
      "[51]\tvalid_0's binary_logloss: 0.355012\tvalid_0's f1_score: 0.977609\n",
      "[52]\tvalid_0's binary_logloss: 0.351294\tvalid_0's f1_score: 0.97764\n",
      "[53]\tvalid_0's binary_logloss: 0.347637\tvalid_0's f1_score: 0.97764\n",
      "[54]\tvalid_0's binary_logloss: 0.344013\tvalid_0's f1_score: 0.97764\n",
      "[55]\tvalid_0's binary_logloss: 0.340403\tvalid_0's f1_score: 0.977649\n",
      "[56]\tvalid_0's binary_logloss: 0.336846\tvalid_0's f1_score: 0.977818\n",
      "[57]\tvalid_0's binary_logloss: 0.333345\tvalid_0's f1_score: 0.977826\n",
      "[58]\tvalid_0's binary_logloss: 0.329887\tvalid_0's f1_score: 0.977834\n",
      "[59]\tvalid_0's binary_logloss: 0.32648\tvalid_0's f1_score: 0.97802\n",
      "[60]\tvalid_0's binary_logloss: 0.323117\tvalid_0's f1_score: 0.97802\n",
      "[61]\tvalid_0's binary_logloss: 0.319815\tvalid_0's f1_score: 0.978407\n",
      "[62]\tvalid_0's binary_logloss: 0.316548\tvalid_0's f1_score: 0.978584\n",
      "[63]\tvalid_0's binary_logloss: 0.31332\tvalid_0's f1_score: 0.978584\n",
      "[64]\tvalid_0's binary_logloss: 0.310128\tvalid_0's f1_score: 0.978584\n",
      "[65]\tvalid_0's binary_logloss: 0.307001\tvalid_0's f1_score: 0.978584\n",
      "[66]\tvalid_0's binary_logloss: 0.303929\tvalid_0's f1_score: 0.9786\n",
      "[67]\tvalid_0's binary_logloss: 0.300889\tvalid_0's f1_score: 0.9786\n",
      "[68]\tvalid_0's binary_logloss: 0.297885\tvalid_0's f1_score: 0.9786\n",
      "[69]\tvalid_0's binary_logloss: 0.294889\tvalid_0's f1_score: 0.978762\n",
      "[70]\tvalid_0's binary_logloss: 0.291942\tvalid_0's f1_score: 0.97894\n",
      "[71]\tvalid_0's binary_logloss: 0.289012\tvalid_0's f1_score: 0.978762\n",
      "[72]\tvalid_0's binary_logloss: 0.286131\tvalid_0's f1_score: 0.978762\n",
      "[73]\tvalid_0's binary_logloss: 0.283283\tvalid_0's f1_score: 0.978831\n",
      "[74]\tvalid_0's binary_logloss: 0.280488\tvalid_0's f1_score: 0.978831\n",
      "[75]\tvalid_0's binary_logloss: 0.277695\tvalid_0's f1_score: 0.978831\n",
      "[76]\tvalid_0's binary_logloss: 0.27496\tvalid_0's f1_score: 0.979363\n",
      "[77]\tvalid_0's binary_logloss: 0.272256\tvalid_0's f1_score: 0.979363\n",
      "[78]\tvalid_0's binary_logloss: 0.269585\tvalid_0's f1_score: 0.979363\n",
      "[79]\tvalid_0's binary_logloss: 0.26698\tvalid_0's f1_score: 0.979363\n",
      "[80]\tvalid_0's binary_logloss: 0.264385\tvalid_0's f1_score: 0.979363\n",
      "[81]\tvalid_0's binary_logloss: 0.261851\tvalid_0's f1_score: 0.979717\n",
      "[82]\tvalid_0's binary_logloss: 0.259348\tvalid_0's f1_score: 0.979717\n",
      "[83]\tvalid_0's binary_logloss: 0.25687\tvalid_0's f1_score: 0.979717\n",
      "[84]\tvalid_0's binary_logloss: 0.254426\tvalid_0's f1_score: 0.979717\n",
      "[85]\tvalid_0's binary_logloss: 0.252008\tvalid_0's f1_score: 0.979717\n",
      "[86]\tvalid_0's binary_logloss: 0.249619\tvalid_0's f1_score: 0.979895\n",
      "[87]\tvalid_0's binary_logloss: 0.247266\tvalid_0's f1_score: 0.979895\n",
      "[88]\tvalid_0's binary_logloss: 0.244953\tvalid_0's f1_score: 0.97971\n",
      "[89]\tvalid_0's binary_logloss: 0.24266\tvalid_0's f1_score: 0.97971\n",
      "[90]\tvalid_0's binary_logloss: 0.240407\tvalid_0's f1_score: 0.97971\n",
      "[91]\tvalid_0's binary_logloss: 0.238165\tvalid_0's f1_score: 0.97971\n",
      "[92]\tvalid_0's binary_logloss: 0.235966\tvalid_0's f1_score: 0.979533\n",
      "[93]\tvalid_0's binary_logloss: 0.233778\tvalid_0's f1_score: 0.979533\n",
      "[94]\tvalid_0's binary_logloss: 0.231626\tvalid_0's f1_score: 0.97954\n",
      "[95]\tvalid_0's binary_logloss: 0.229508\tvalid_0's f1_score: 0.97954\n",
      "[96]\tvalid_0's binary_logloss: 0.227399\tvalid_0's f1_score: 0.97954\n",
      "[97]\tvalid_0's binary_logloss: 0.225339\tvalid_0's f1_score: 0.97957\n",
      "[98]\tvalid_0's binary_logloss: 0.223217\tvalid_0's f1_score: 0.979747\n",
      "[99]\tvalid_0's binary_logloss: 0.221131\tvalid_0's f1_score: 0.979747\n",
      "[100]\tvalid_0's binary_logloss: 0.21906\tvalid_0's f1_score: 0.979917\n",
      "Threshold: 0.4116342509480615\n",
      "Precision: 0.9894044574351479\n",
      "Recall: 0.9706093189964158\n",
      "F1-score: 0.979916772209155\n"
     ]
    }
   ],
   "source": [
    "def fscore(y_scores, dtrain):\n",
    "    \n",
    "    precision, recall, thresholds = precision_recall_curve(y_test, y_scores)\n",
    "    f1 = (2 * precision * recall)/(precision + recall)\n",
    "    return 'f1_score', f1.max(), True\n",
    "\n",
    "train_data=lgb.Dataset(X_train,label=y_train)\n",
    "test_data = lgb.Dataset(X_test, label=y_test)\n",
    "param = {'objective':'binary', 'learning_rate':0.01}\n",
    "lgbm=lgb.train(param, train_data, valid_sets=[test_data], feval=fscore)\n",
    "\n",
    "y_scores = lgbm.predict(X_test)\n",
    "precision, recall, thresholds = precision_recall_curve(y_test, y_scores)\n",
    "f1 = (2 * precision * recall)/(precision + recall)\n",
    "print_values(f1.argmax())"
   ]
  },
  {
   "cell_type": "code",
   "execution_count": 115,
   "id": "611a54a3",
   "metadata": {},
   "outputs": [
    {
     "data": {
      "text/html": [
       "<div>\n",
       "<style scoped>\n",
       "    .dataframe tbody tr th:only-of-type {\n",
       "        vertical-align: middle;\n",
       "    }\n",
       "\n",
       "    .dataframe tbody tr th {\n",
       "        vertical-align: top;\n",
       "    }\n",
       "\n",
       "    .dataframe thead th {\n",
       "        text-align: right;\n",
       "    }\n",
       "</style>\n",
       "<table border=\"1\" class=\"dataframe\">\n",
       "  <thead>\n",
       "    <tr style=\"text-align: right;\">\n",
       "      <th></th>\n",
       "      <th>F1-score</th>\n",
       "      <th>Threshold</th>\n",
       "    </tr>\n",
       "  </thead>\n",
       "  <tbody>\n",
       "    <tr>\n",
       "      <th>Naive Bayes</th>\n",
       "      <td>0.803653</td>\n",
       "      <td>9.341822e-02</td>\n",
       "    </tr>\n",
       "    <tr>\n",
       "      <th>Naive Bayes down</th>\n",
       "      <td>0.820944</td>\n",
       "      <td>1.103615e-01</td>\n",
       "    </tr>\n",
       "    <tr>\n",
       "      <th>Naive Bayes up</th>\n",
       "      <td>0.831440</td>\n",
       "      <td>1.309410e-01</td>\n",
       "    </tr>\n",
       "    <tr>\n",
       "      <th>Random Forest</th>\n",
       "      <td>0.975309</td>\n",
       "      <td>5.946319e-01</td>\n",
       "    </tr>\n",
       "    <tr>\n",
       "      <th>Random Forest up</th>\n",
       "      <td>0.980286</td>\n",
       "      <td>6.152356e-01</td>\n",
       "    </tr>\n",
       "    <tr>\n",
       "      <th>LightGBM</th>\n",
       "      <td>0.964071</td>\n",
       "      <td>3.761017e-01</td>\n",
       "    </tr>\n",
       "    <tr>\n",
       "      <th>LightGBM up</th>\n",
       "      <td>0.967665</td>\n",
       "      <td>3.405136e-01</td>\n",
       "    </tr>\n",
       "    <tr>\n",
       "      <th>TFIDF - NB</th>\n",
       "      <td>0.847096</td>\n",
       "      <td>4.628623e-151</td>\n",
       "    </tr>\n",
       "    <tr>\n",
       "      <th>TFIDF - NB up</th>\n",
       "      <td>0.900315</td>\n",
       "      <td>1.532390e-156</td>\n",
       "    </tr>\n",
       "    <tr>\n",
       "      <th>TFIDF - RF</th>\n",
       "      <td>0.981337</td>\n",
       "      <td>6.034762e-01</td>\n",
       "    </tr>\n",
       "    <tr>\n",
       "      <th>TFIDF - RF up</th>\n",
       "      <td>0.984117</td>\n",
       "      <td>5.510397e-01</td>\n",
       "    </tr>\n",
       "    <tr>\n",
       "      <th>TFIDF - LightGBM</th>\n",
       "      <td>0.968544</td>\n",
       "      <td>4.632464e-01</td>\n",
       "    </tr>\n",
       "    <tr>\n",
       "      <th>TFIDF - LightGBM up</th>\n",
       "      <td>0.970743</td>\n",
       "      <td>3.321992e-01</td>\n",
       "    </tr>\n",
       "    <tr>\n",
       "      <th>Glove - NB</th>\n",
       "      <td>0.832375</td>\n",
       "      <td>6.730616e-02</td>\n",
       "    </tr>\n",
       "    <tr>\n",
       "      <th>Glove - RF</th>\n",
       "      <td>0.993715</td>\n",
       "      <td>4.050000e-01</td>\n",
       "    </tr>\n",
       "    <tr>\n",
       "      <th>Glove - LightGBM</th>\n",
       "      <td>0.981646</td>\n",
       "      <td>4.772162e-01</td>\n",
       "    </tr>\n",
       "    <tr>\n",
       "      <th>Glove - LightGBM up</th>\n",
       "      <td>0.967665</td>\n",
       "      <td>3.405136e-01</td>\n",
       "    </tr>\n",
       "    <tr>\n",
       "      <th>W2V - NB</th>\n",
       "      <td>0.747793</td>\n",
       "      <td>1.000000e+00</td>\n",
       "    </tr>\n",
       "    <tr>\n",
       "      <th>W2V - RF</th>\n",
       "      <td>0.991527</td>\n",
       "      <td>4.023045e-01</td>\n",
       "    </tr>\n",
       "    <tr>\n",
       "      <th>W2V - LightGBM</th>\n",
       "      <td>0.979917</td>\n",
       "      <td>4.116343e-01</td>\n",
       "    </tr>\n",
       "  </tbody>\n",
       "</table>\n",
       "</div>"
      ],
      "text/plain": [
       "                     F1-score      Threshold\n",
       "Naive Bayes          0.803653   9.341822e-02\n",
       "Naive Bayes down     0.820944   1.103615e-01\n",
       "Naive Bayes up       0.831440   1.309410e-01\n",
       "Random Forest        0.975309   5.946319e-01\n",
       "Random Forest up     0.980286   6.152356e-01\n",
       "LightGBM             0.964071   3.761017e-01\n",
       "LightGBM up          0.967665   3.405136e-01\n",
       "TFIDF - NB           0.847096  4.628623e-151\n",
       "TFIDF - NB up        0.900315  1.532390e-156\n",
       "TFIDF - RF           0.981337   6.034762e-01\n",
       "TFIDF - RF up        0.984117   5.510397e-01\n",
       "TFIDF - LightGBM     0.968544   4.632464e-01\n",
       "TFIDF - LightGBM up  0.970743   3.321992e-01\n",
       "Glove - NB           0.832375   6.730616e-02\n",
       "Glove - RF           0.993715   4.050000e-01\n",
       "Glove - LightGBM     0.981646   4.772162e-01\n",
       "Glove - LightGBM up  0.967665   3.405136e-01\n",
       "W2V - NB             0.747793   1.000000e+00\n",
       "W2V - RF             0.991527   4.023045e-01\n",
       "W2V - LightGBM       0.979917   4.116343e-01"
      ]
     },
     "execution_count": 115,
     "metadata": {},
     "output_type": "execute_result"
    }
   ],
   "source": [
    "addResult('W2V - LightGBM', f1.max(), thresholds[f1.argmax()])\n",
    "result"
   ]
  },
  {
   "cell_type": "markdown",
   "id": "71c8d5b5",
   "metadata": {},
   "source": [
    "###### Upsampled"
   ]
  },
  {
   "cell_type": "code",
   "execution_count": 116,
   "id": "51fd364f",
   "metadata": {},
   "outputs": [
    {
     "name": "stdout",
     "output_type": "stream",
     "text": [
      "[LightGBM] [Info] Number of positive: 10021, number of negative: 14657\n",
      "[LightGBM] [Warning] Auto-choosing col-wise multi-threading, the overhead of testing was 0.007711 seconds.\n",
      "You can set `force_col_wise=true` to remove the overhead.\n",
      "[LightGBM] [Info] Total Bins 824\n",
      "[LightGBM] [Info] Number of data points in the train set: 24678, number of used features: 8\n",
      "[LightGBM] [Info] [binary:BoostFromScore]: pavg=0.406070 -> initscore=-0.380235\n",
      "[LightGBM] [Info] Start training from score -0.380235\n",
      "[1]\tvalid_0's binary_logloss: 0.667247\tvalid_0's f1_score: 0.962408\n",
      "[2]\tvalid_0's binary_logloss: 0.658581\tvalid_0's f1_score: 0.962408\n",
      "[3]\tvalid_0's binary_logloss: 0.650098\tvalid_0's f1_score: 0.962408\n",
      "[4]\tvalid_0's binary_logloss: 0.641793\tvalid_0's f1_score: 0.962408\n",
      "[5]\tvalid_0's binary_logloss: 0.633658\tvalid_0's f1_score: 0.962408\n",
      "[6]\tvalid_0's binary_logloss: 0.625694\tvalid_0's f1_score: 0.962408\n",
      "[7]\tvalid_0's binary_logloss: 0.617886\tvalid_0's f1_score: 0.962408\n",
      "[8]\tvalid_0's binary_logloss: 0.610238\tvalid_0's f1_score: 0.962408\n",
      "[9]\tvalid_0's binary_logloss: 0.602742\tvalid_0's f1_score: 0.962408\n",
      "[10]\tvalid_0's binary_logloss: 0.595383\tvalid_0's f1_score: 0.964351\n",
      "[11]\tvalid_0's binary_logloss: 0.588163\tvalid_0's f1_score: 0.965538\n",
      "[12]\tvalid_0's binary_logloss: 0.581127\tvalid_0's f1_score: 0.964351\n",
      "[13]\tvalid_0's binary_logloss: 0.57419\tvalid_0's f1_score: 0.965538\n",
      "[14]\tvalid_0's binary_logloss: 0.567409\tvalid_0's f1_score: 0.965538\n",
      "[15]\tvalid_0's binary_logloss: 0.560759\tvalid_0's f1_score: 0.964351\n",
      "[16]\tvalid_0's binary_logloss: 0.554205\tvalid_0's f1_score: 0.965538\n",
      "[17]\tvalid_0's binary_logloss: 0.547805\tvalid_0's f1_score: 0.964645\n",
      "[18]\tvalid_0's binary_logloss: 0.541523\tvalid_0's f1_score: 0.964645\n",
      "[19]\tvalid_0's binary_logloss: 0.53532\tvalid_0's f1_score: 0.964645\n",
      "[20]\tvalid_0's binary_logloss: 0.529261\tvalid_0's f1_score: 0.964792\n",
      "[21]\tvalid_0's binary_logloss: 0.52328\tvalid_0's f1_score: 0.964792\n",
      "[22]\tvalid_0's binary_logloss: 0.517384\tvalid_0's f1_score: 0.964792\n",
      "[23]\tvalid_0's binary_logloss: 0.511646\tvalid_0's f1_score: 0.964792\n",
      "[24]\tvalid_0's binary_logloss: 0.505955\tvalid_0's f1_score: 0.964792\n",
      "[25]\tvalid_0's binary_logloss: 0.500373\tvalid_0's f1_score: 0.964803\n",
      "[26]\tvalid_0's binary_logloss: 0.494874\tvalid_0's f1_score: 0.964803\n",
      "[27]\tvalid_0's binary_logloss: 0.489492\tvalid_0's f1_score: 0.964803\n",
      "[28]\tvalid_0's binary_logloss: 0.484138\tvalid_0's f1_score: 0.96496\n",
      "[29]\tvalid_0's binary_logloss: 0.478944\tvalid_0's f1_score: 0.96496\n",
      "[30]\tvalid_0's binary_logloss: 0.47382\tvalid_0's f1_score: 0.96496\n",
      "[31]\tvalid_0's binary_logloss: 0.468743\tvalid_0's f1_score: 0.96496\n",
      "[32]\tvalid_0's binary_logloss: 0.463743\tvalid_0's f1_score: 0.96496\n",
      "[33]\tvalid_0's binary_logloss: 0.458807\tvalid_0's f1_score: 0.96496\n",
      "[34]\tvalid_0's binary_logloss: 0.45397\tvalid_0's f1_score: 0.96496\n",
      "[35]\tvalid_0's binary_logloss: 0.449215\tvalid_0's f1_score: 0.96495\n",
      "[36]\tvalid_0's binary_logloss: 0.44453\tvalid_0's f1_score: 0.96495\n",
      "[37]\tvalid_0's binary_logloss: 0.439928\tvalid_0's f1_score: 0.96495\n",
      "[38]\tvalid_0's binary_logloss: 0.435407\tvalid_0's f1_score: 0.96495\n",
      "[39]\tvalid_0's binary_logloss: 0.430923\tvalid_0's f1_score: 0.96495\n",
      "[40]\tvalid_0's binary_logloss: 0.426528\tvalid_0's f1_score: 0.965107\n",
      "[41]\tvalid_0's binary_logloss: 0.422202\tvalid_0's f1_score: 0.965107\n",
      "[42]\tvalid_0's binary_logloss: 0.417918\tvalid_0's f1_score: 0.965107\n",
      "[43]\tvalid_0's binary_logloss: 0.41371\tvalid_0's f1_score: 0.965107\n",
      "[44]\tvalid_0's binary_logloss: 0.409595\tvalid_0's f1_score: 0.965107\n",
      "[45]\tvalid_0's binary_logloss: 0.405511\tvalid_0's f1_score: 0.965107\n",
      "[46]\tvalid_0's binary_logloss: 0.40151\tvalid_0's f1_score: 0.965107\n",
      "[47]\tvalid_0's binary_logloss: 0.397571\tvalid_0's f1_score: 0.966592\n",
      "[48]\tvalid_0's binary_logloss: 0.393671\tvalid_0's f1_score: 0.966592\n",
      "[49]\tvalid_0's binary_logloss: 0.389828\tvalid_0's f1_score: 0.966592\n",
      "[50]\tvalid_0's binary_logloss: 0.386058\tvalid_0's f1_score: 0.966592\n",
      "[51]\tvalid_0's binary_logloss: 0.382316\tvalid_0's f1_score: 0.966592\n",
      "[52]\tvalid_0's binary_logloss: 0.378674\tvalid_0's f1_score: 0.966592\n",
      "[53]\tvalid_0's binary_logloss: 0.375052\tvalid_0's f1_score: 0.966592\n",
      "[54]\tvalid_0's binary_logloss: 0.371486\tvalid_0's f1_score: 0.966592\n",
      "[55]\tvalid_0's binary_logloss: 0.367969\tvalid_0's f1_score: 0.966592\n",
      "[56]\tvalid_0's binary_logloss: 0.364529\tvalid_0's f1_score: 0.966592\n",
      "[57]\tvalid_0's binary_logloss: 0.361105\tvalid_0's f1_score: 0.966592\n",
      "[58]\tvalid_0's binary_logloss: 0.357719\tvalid_0's f1_score: 0.966592\n",
      "[59]\tvalid_0's binary_logloss: 0.35441\tvalid_0's f1_score: 0.966158\n",
      "[60]\tvalid_0's binary_logloss: 0.351135\tvalid_0's f1_score: 0.966592\n",
      "[61]\tvalid_0's binary_logloss: 0.347908\tvalid_0's f1_score: 0.966592\n",
      "[62]\tvalid_0's binary_logloss: 0.344729\tvalid_0's f1_score: 0.966592\n",
      "[63]\tvalid_0's binary_logloss: 0.341592\tvalid_0's f1_score: 0.966592\n",
      "[64]\tvalid_0's binary_logloss: 0.338503\tvalid_0's f1_score: 0.966592\n",
      "[65]\tvalid_0's binary_logloss: 0.335402\tvalid_0's f1_score: 0.966592\n",
      "[66]\tvalid_0's binary_logloss: 0.332352\tvalid_0's f1_score: 0.966592\n",
      "[67]\tvalid_0's binary_logloss: 0.329339\tvalid_0's f1_score: 0.966592\n",
      "[68]\tvalid_0's binary_logloss: 0.326375\tvalid_0's f1_score: 0.9662\n",
      "[69]\tvalid_0's binary_logloss: 0.323447\tvalid_0's f1_score: 0.9662\n",
      "[70]\tvalid_0's binary_logloss: 0.320583\tvalid_0's f1_score: 0.9662\n",
      "[71]\tvalid_0's binary_logloss: 0.317759\tvalid_0's f1_score: 0.9662\n",
      "[72]\tvalid_0's binary_logloss: 0.31496\tvalid_0's f1_score: 0.9662\n",
      "[73]\tvalid_0's binary_logloss: 0.312213\tvalid_0's f1_score: 0.9662\n",
      "[74]\tvalid_0's binary_logloss: 0.309491\tvalid_0's f1_score: 0.966951\n",
      "[75]\tvalid_0's binary_logloss: 0.306845\tvalid_0's f1_score: 0.966951\n",
      "[76]\tvalid_0's binary_logloss: 0.304223\tvalid_0's f1_score: 0.966951\n",
      "[77]\tvalid_0's binary_logloss: 0.30161\tvalid_0's f1_score: 0.966951\n",
      "[78]\tvalid_0's binary_logloss: 0.299067\tvalid_0's f1_score: 0.966951\n",
      "[79]\tvalid_0's binary_logloss: 0.29656\tvalid_0's f1_score: 0.966951\n",
      "[80]\tvalid_0's binary_logloss: 0.294086\tvalid_0's f1_score: 0.967385\n",
      "[81]\tvalid_0's binary_logloss: 0.291611\tvalid_0's f1_score: 0.967191\n",
      "[82]\tvalid_0's binary_logloss: 0.289188\tvalid_0's f1_score: 0.96781\n",
      "[83]\tvalid_0's binary_logloss: 0.286799\tvalid_0's f1_score: 0.96781\n",
      "[84]\tvalid_0's binary_logloss: 0.28445\tvalid_0's f1_score: 0.96781\n",
      "[85]\tvalid_0's binary_logloss: 0.282133\tvalid_0's f1_score: 0.96781\n",
      "[86]\tvalid_0's binary_logloss: 0.279847\tvalid_0's f1_score: 0.96781\n",
      "[87]\tvalid_0's binary_logloss: 0.277592\tvalid_0's f1_score: 0.96781\n",
      "[88]\tvalid_0's binary_logloss: 0.275368\tvalid_0's f1_score: 0.96781\n",
      "[89]\tvalid_0's binary_logloss: 0.273176\tvalid_0's f1_score: 0.96781\n",
      "[90]\tvalid_0's binary_logloss: 0.271006\tvalid_0's f1_score: 0.96781\n",
      "[91]\tvalid_0's binary_logloss: 0.268873\tvalid_0's f1_score: 0.967665\n",
      "[92]\tvalid_0's binary_logloss: 0.26673\tvalid_0's f1_score: 0.96839\n",
      "[93]\tvalid_0's binary_logloss: 0.264611\tvalid_0's f1_score: 0.968099\n",
      "[94]\tvalid_0's binary_logloss: 0.262519\tvalid_0's f1_score: 0.967954\n",
      "[95]\tvalid_0's binary_logloss: 0.260461\tvalid_0's f1_score: 0.968099\n",
      "[96]\tvalid_0's binary_logloss: 0.258451\tvalid_0's f1_score: 0.968099\n",
      "[97]\tvalid_0's binary_logloss: 0.256451\tvalid_0's f1_score: 0.967771\n",
      "[98]\tvalid_0's binary_logloss: 0.254487\tvalid_0's f1_score: 0.967771\n",
      "[99]\tvalid_0's binary_logloss: 0.252529\tvalid_0's f1_score: 0.967665\n",
      "[100]\tvalid_0's binary_logloss: 0.250611\tvalid_0's f1_score: 0.967665\n",
      "Threshold: 0.34051361561890975\n",
      "Precision: 0.9723225030084236\n",
      "Recall: 0.9630512514898689\n",
      "F1-score: 0.9676646706586827\n"
     ]
    }
   ],
   "source": [
    "def fscore_up(y_scores, dtrain):\n",
    "    precision, recall, thresholds = precision_recall_curve(y_test_u, y_scores)\n",
    "    f1 = (2 * precision * recall)/(precision + recall)\n",
    "    return 'f1_score', f1.max(), True\n",
    "\n",
    "train_data=lgb.Dataset(X_train_u,label=y_train_u)\n",
    "test_data = lgb.Dataset(X_test_u, label=y_test_u)\n",
    "param = {'objective':'binary', 'learning_rate':0.01}\n",
    "lgbm=lgb.train(param, train_data, valid_sets=[test_data], feval=fscore_up)\n",
    "y_scores = lgbm.predict(X_test_u)\n",
    "precision, recall, thresholds = precision_recall_curve(y_test_u, y_scores)\n",
    "f1 = (2 * precision * recall)/(precision + recall)\n",
    "print_values(f1.argmax())"
   ]
  },
  {
   "cell_type": "code",
   "execution_count": 117,
   "id": "989cc902",
   "metadata": {},
   "outputs": [
    {
     "data": {
      "text/html": [
       "<div>\n",
       "<style scoped>\n",
       "    .dataframe tbody tr th:only-of-type {\n",
       "        vertical-align: middle;\n",
       "    }\n",
       "\n",
       "    .dataframe tbody tr th {\n",
       "        vertical-align: top;\n",
       "    }\n",
       "\n",
       "    .dataframe thead th {\n",
       "        text-align: right;\n",
       "    }\n",
       "</style>\n",
       "<table border=\"1\" class=\"dataframe\">\n",
       "  <thead>\n",
       "    <tr style=\"text-align: right;\">\n",
       "      <th></th>\n",
       "      <th>F1-score</th>\n",
       "      <th>Threshold</th>\n",
       "    </tr>\n",
       "  </thead>\n",
       "  <tbody>\n",
       "    <tr>\n",
       "      <th>Naive Bayes</th>\n",
       "      <td>0.803653</td>\n",
       "      <td>9.341822e-02</td>\n",
       "    </tr>\n",
       "    <tr>\n",
       "      <th>Naive Bayes down</th>\n",
       "      <td>0.820944</td>\n",
       "      <td>1.103615e-01</td>\n",
       "    </tr>\n",
       "    <tr>\n",
       "      <th>Naive Bayes up</th>\n",
       "      <td>0.831440</td>\n",
       "      <td>1.309410e-01</td>\n",
       "    </tr>\n",
       "    <tr>\n",
       "      <th>Random Forest</th>\n",
       "      <td>0.975309</td>\n",
       "      <td>5.946319e-01</td>\n",
       "    </tr>\n",
       "    <tr>\n",
       "      <th>Random Forest up</th>\n",
       "      <td>0.980286</td>\n",
       "      <td>6.152356e-01</td>\n",
       "    </tr>\n",
       "    <tr>\n",
       "      <th>LightGBM</th>\n",
       "      <td>0.964071</td>\n",
       "      <td>3.761017e-01</td>\n",
       "    </tr>\n",
       "    <tr>\n",
       "      <th>LightGBM up</th>\n",
       "      <td>0.967665</td>\n",
       "      <td>3.405136e-01</td>\n",
       "    </tr>\n",
       "    <tr>\n",
       "      <th>TFIDF - NB</th>\n",
       "      <td>0.847096</td>\n",
       "      <td>4.628623e-151</td>\n",
       "    </tr>\n",
       "    <tr>\n",
       "      <th>TFIDF - NB up</th>\n",
       "      <td>0.900315</td>\n",
       "      <td>1.532390e-156</td>\n",
       "    </tr>\n",
       "    <tr>\n",
       "      <th>TFIDF - RF</th>\n",
       "      <td>0.981337</td>\n",
       "      <td>6.034762e-01</td>\n",
       "    </tr>\n",
       "    <tr>\n",
       "      <th>TFIDF - RF up</th>\n",
       "      <td>0.984117</td>\n",
       "      <td>5.510397e-01</td>\n",
       "    </tr>\n",
       "    <tr>\n",
       "      <th>TFIDF - LightGBM</th>\n",
       "      <td>0.968544</td>\n",
       "      <td>4.632464e-01</td>\n",
       "    </tr>\n",
       "    <tr>\n",
       "      <th>TFIDF - LightGBM up</th>\n",
       "      <td>0.970743</td>\n",
       "      <td>3.321992e-01</td>\n",
       "    </tr>\n",
       "    <tr>\n",
       "      <th>Glove - NB</th>\n",
       "      <td>0.832375</td>\n",
       "      <td>6.730616e-02</td>\n",
       "    </tr>\n",
       "    <tr>\n",
       "      <th>Glove - RF</th>\n",
       "      <td>0.993715</td>\n",
       "      <td>4.050000e-01</td>\n",
       "    </tr>\n",
       "    <tr>\n",
       "      <th>Glove - LightGBM</th>\n",
       "      <td>0.981646</td>\n",
       "      <td>4.772162e-01</td>\n",
       "    </tr>\n",
       "    <tr>\n",
       "      <th>Glove - LightGBM up</th>\n",
       "      <td>0.967665</td>\n",
       "      <td>3.405136e-01</td>\n",
       "    </tr>\n",
       "    <tr>\n",
       "      <th>W2V - NB</th>\n",
       "      <td>0.747793</td>\n",
       "      <td>1.000000e+00</td>\n",
       "    </tr>\n",
       "    <tr>\n",
       "      <th>W2V - RF</th>\n",
       "      <td>0.991527</td>\n",
       "      <td>4.023045e-01</td>\n",
       "    </tr>\n",
       "    <tr>\n",
       "      <th>W2V - LightGBM</th>\n",
       "      <td>0.979917</td>\n",
       "      <td>4.116343e-01</td>\n",
       "    </tr>\n",
       "    <tr>\n",
       "      <th>W2V - LightGBM up</th>\n",
       "      <td>0.967665</td>\n",
       "      <td>3.405136e-01</td>\n",
       "    </tr>\n",
       "  </tbody>\n",
       "</table>\n",
       "</div>"
      ],
      "text/plain": [
       "                     F1-score      Threshold\n",
       "Naive Bayes          0.803653   9.341822e-02\n",
       "Naive Bayes down     0.820944   1.103615e-01\n",
       "Naive Bayes up       0.831440   1.309410e-01\n",
       "Random Forest        0.975309   5.946319e-01\n",
       "Random Forest up     0.980286   6.152356e-01\n",
       "LightGBM             0.964071   3.761017e-01\n",
       "LightGBM up          0.967665   3.405136e-01\n",
       "TFIDF - NB           0.847096  4.628623e-151\n",
       "TFIDF - NB up        0.900315  1.532390e-156\n",
       "TFIDF - RF           0.981337   6.034762e-01\n",
       "TFIDF - RF up        0.984117   5.510397e-01\n",
       "TFIDF - LightGBM     0.968544   4.632464e-01\n",
       "TFIDF - LightGBM up  0.970743   3.321992e-01\n",
       "Glove - NB           0.832375   6.730616e-02\n",
       "Glove - RF           0.993715   4.050000e-01\n",
       "Glove - LightGBM     0.981646   4.772162e-01\n",
       "Glove - LightGBM up  0.967665   3.405136e-01\n",
       "W2V - NB             0.747793   1.000000e+00\n",
       "W2V - RF             0.991527   4.023045e-01\n",
       "W2V - LightGBM       0.979917   4.116343e-01\n",
       "W2V - LightGBM up    0.967665   3.405136e-01"
      ]
     },
     "execution_count": 117,
     "metadata": {},
     "output_type": "execute_result"
    }
   ],
   "source": [
    "addResult('W2V - LightGBM up', f1.max(), thresholds[f1.argmax()])\n",
    "result"
   ]
  },
  {
   "cell_type": "markdown",
   "id": "e499090a",
   "metadata": {
    "id": "e499090a"
   },
   "source": [
    "### BERT\n",
    "\n",
    "We are going to train a BERT model from scratch on our processed text data. \n",
    "\n",
    "The model we are using:\n",
    "- is a small BERT model\n",
    "- has 2 residual blocks\n",
    "- has a hidden size of 512\n",
    "- has 8 attention heads"
   ]
  },
  {
   "cell_type": "code",
   "execution_count": 10,
   "id": "264a0bee",
   "metadata": {
    "id": "264a0bee"
   },
   "outputs": [],
   "source": [
    "# Source: https://www.tensorflow.org/text/tutorials/classify_text_with_bert\n",
    "\n",
    "# creating tensor dataset\n",
    "train_index = y_train.index\n",
    "test_index = y_test.index\n",
    "train_ds = tf.data.Dataset.from_tensor_slices((pd.DataFrame(mod_data['query_proc'][train_index]), pd.DataFrame(y_train)))\n",
    "test_ds = tf.data.Dataset.from_tensor_slices((pd.DataFrame(mod_data['query_proc'][test_index]), pd.DataFrame(y_test)))\n",
    "\n",
    "# we get the preprocessing and encoder models from these URLs\n",
    "tfhub_handle_encoder = 'https://tfhub.dev/tensorflow/small_bert/bert_en_uncased_L-2_H-512_A-8/2'\n",
    "tfhub_handle_preprocess = 'https://tfhub.dev/tensorflow/bert_en_uncased_preprocess/3'"
   ]
  },
  {
   "cell_type": "code",
   "execution_count": 12,
   "id": "0c2fe049",
   "metadata": {
    "id": "0c2fe049"
   },
   "outputs": [],
   "source": [
    "def build_classifier_model():\n",
    "    '''\n",
    "    Builds classifier model using BERT as a KerasLayer.\n",
    "    We use the pooled_output from BERT layer for classification.\n",
    "    pooled_output represents each query as a single decimal value.\n",
    "    Returns: (tf.keras.Model) model to be used for classifying\n",
    "    '''\n",
    "    text_input = layers.Input(shape=(), dtype=tf.string, name='inputs')\n",
    "    preprocessing_layer = hub.KerasLayer(tfhub_handle_preprocess, name='preprocessing')\n",
    "    encoder_inputs = preprocessing_layer(text_input)\n",
    "    encoder = hub.KerasLayer(tfhub_handle_encoder, trainable=True, name='BERT_encoder')\n",
    "    outputs = encoder(encoder_inputs)\n",
    "    net = outputs['pooled_output']\n",
    "    net = tf.keras.layers.Dropout(0.1)(net)\n",
    "    net = tf.keras.layers.Dense(1, activation=None, name='classifier')(net)\n",
    "    return tf.keras.Model(text_input, net)"
   ]
  },
  {
   "cell_type": "code",
   "execution_count": 14,
   "id": "5abf3b78",
   "metadata": {
    "id": "5abf3b78"
   },
   "outputs": [],
   "source": [
    "# instantiating classifier model and defining hyperparameters\n",
    "\n",
    "classifier_model = build_classifier_model()\n",
    "loss = tf.keras.losses.BinaryCrossentropy(from_logits=True)\n",
    "metrics = tf.metrics.BinaryAccuracy()\n",
    "epochs = 5\n",
    "steps_per_epoch = tf.data.experimental.cardinality(train_ds).numpy()\n",
    "num_train_steps = steps_per_epoch * epochs\n",
    "num_warmup_steps = int(0.1*num_train_steps)\n",
    "\n",
    "init_lr = 3e-5\n",
    "optimizer = optimization.create_optimizer(init_lr=init_lr,\n",
    "                                          num_train_steps=num_train_steps,\n",
    "                                          num_warmup_steps=num_warmup_steps,\n",
    "                                          optimizer_type='adamw')"
   ]
  },
  {
   "cell_type": "code",
   "execution_count": 15,
   "id": "c91bc1c7",
   "metadata": {
    "id": "c91bc1c7"
   },
   "outputs": [],
   "source": [
    "# compiling model\n",
    "\n",
    "classifier_model.compile(optimizer=optimizer,\n",
    "                         loss=loss,\n",
    "                         metrics=metrics)"
   ]
  },
  {
   "cell_type": "code",
   "execution_count": 16,
   "id": "f4e3919d",
   "metadata": {
    "colab": {
     "base_uri": "https://localhost:8080/"
    },
    "id": "f4e3919d",
    "outputId": "71120701-643b-4c88-922a-57fe56962df7"
   },
   "outputs": [
    {
     "name": "stdout",
     "output_type": "stream",
     "text": [
      "23178/23178 [==============================] - 1030s 44ms/step - loss: 0.0612 - binary_accuracy: 0.9862 - val_loss: 0.0209 - val_binary_accuracy: 0.9973\n",
      "Model saved\n"
     ]
    }
   ],
   "source": [
    "# training classifier\n",
    "# epoch=1\n",
    "classifier_model.fit(x=train_ds,\n",
    "                      validation_data=test_ds,\n",
    "                      epochs=1)\n",
    "\n",
    "classifier_model.save_weights('BERT_epoch_1.h5')\n",
    "print('Model saved')"
   ]
  },
  {
   "cell_type": "code",
   "execution_count": 17,
   "id": "ZEOnCk4uLpnY",
   "metadata": {
    "colab": {
     "base_uri": "https://localhost:8080/"
    },
    "id": "ZEOnCk4uLpnY",
    "outputId": "e628c9c8-3a0f-42cd-8b7d-07da82bdcb82"
   },
   "outputs": [
    {
     "name": "stdout",
     "output_type": "stream",
     "text": [
      "23178/23178 [==============================] - 1006s 43ms/step - loss: 0.0116 - binary_accuracy: 0.9984 - val_loss: 0.0163 - val_binary_accuracy: 0.9983\n",
      "Model saved\n"
     ]
    }
   ],
   "source": [
    "# epoch=2\n",
    "classifier_model.fit(x=train_ds,\n",
    "                       validation_data=test_ds,\n",
    "                       epochs=1)\n",
    "\n",
    "classifier_model.save_weights('BERT_epoch_2.h5')\n",
    "print('Model saved')"
   ]
  },
  {
   "cell_type": "code",
   "execution_count": 18,
   "id": "sW-owD6e4dtk",
   "metadata": {
    "colab": {
     "base_uri": "https://localhost:8080/"
    },
    "id": "sW-owD6e4dtk",
    "outputId": "f8f49246-499c-43a5-b331-6807955e3f43"
   },
   "outputs": [
    {
     "name": "stdout",
     "output_type": "stream",
     "text": [
      "23178/23178 [==============================] - 998s 43ms/step - loss: 0.0050 - binary_accuracy: 0.9993 - val_loss: 0.0163 - val_binary_accuracy: 0.9983\n",
      "Model saved\n"
     ]
    }
   ],
   "source": [
    "# epoch=3\n",
    "classifier_model.fit(x=train_ds,\n",
    "                       validation_data=test_ds,\n",
    "                       epochs=1)\n",
    "\n",
    "classifier_model.save_weights('BERT_epoch_3.h5')\n",
    "print('Model saved')"
   ]
  },
  {
   "cell_type": "code",
   "execution_count": 19,
   "id": "TdUDLdFNAMV3",
   "metadata": {
    "colab": {
     "base_uri": "https://localhost:8080/"
    },
    "id": "TdUDLdFNAMV3",
    "outputId": "258b849f-567f-428a-d4e3-3e32a0a62fcc"
   },
   "outputs": [
    {
     "name": "stdout",
     "output_type": "stream",
     "text": [
      "23178/23178 [==============================] - 998s 43ms/step - loss: 0.0050 - binary_accuracy: 0.9992 - val_loss: 0.0163 - val_binary_accuracy: 0.9983\n",
      "Model saved\n"
     ]
    }
   ],
   "source": [
    "# epoch=4\n",
    "classifier_model.fit(x=train_ds,\n",
    "                       validation_data=test_ds,\n",
    "                       epochs=1)\n",
    "\n",
    "classifier_model.save_weights('BERT_epoch_4.h5')\n",
    "print('Model saved')"
   ]
  },
  {
   "cell_type": "code",
   "execution_count": 20,
   "id": "1RcDKjyZEgjG",
   "metadata": {
    "colab": {
     "base_uri": "https://localhost:8080/"
    },
    "id": "1RcDKjyZEgjG",
    "outputId": "9af5572d-0543-4dfd-ee23-f364a56353b2"
   },
   "outputs": [
    {
     "name": "stdout",
     "output_type": "stream",
     "text": [
      "23178/23178 [==============================] - 1006s 43ms/step - loss: 0.0046 - binary_accuracy: 0.9992 - val_loss: 0.0163 - val_binary_accuracy: 0.9983\n",
      "Model saved\n"
     ]
    }
   ],
   "source": [
    "# epoch=5\n",
    "classifier_model.fit(x=train_ds,\n",
    "                       validation_data=test_ds,\n",
    "                       epochs=1)\n",
    "\n",
    "classifier_model.save_weights('BERT_epoch_5.h5')\n",
    "print('Model saved')"
   ]
  },
  {
   "cell_type": "markdown",
   "id": "3186453d",
   "metadata": {},
   "source": [
    "As we can see, the validation accuracy is not increasing anymore. Hence we will stop training.\n",
    "\n",
    "#### Predictions using BERT"
   ]
  },
  {
   "cell_type": "code",
   "execution_count": 29,
   "id": "t_rHUYr4Lq-s",
   "metadata": {
    "id": "t_rHUYr4Lq-s"
   },
   "outputs": [],
   "source": [
    "# getting probability values for test dataset predictions\n",
    "\n",
    "y_scores = classifier_model.predict(pd.DataFrame(mod_data['query_proc'][test_index]))"
   ]
  },
  {
   "cell_type": "code",
   "execution_count": 55,
   "id": "EN5Dil9oSecn",
   "metadata": {
    "id": "EN5Dil9oSecn"
   },
   "outputs": [],
   "source": [
    "# storing f1-score, precision and recall for different threshold values\n",
    "\n",
    "with open('BERT_metrics.csv', 'w') as f:\n",
    "    f.write(\"Threshold, F1-Score, Precision, Recall\\n\")\n",
    "    for th in np.arange(0, 1, 0.1):\n",
    "        y_pred = (y_scores > th).astype(int)\n",
    "        precision, recall, fscore, _ = precision_recall_fscore_support(y_test, y_pred, average='binary')\n",
    "        f.write(\"{0:.1f},{1:.4f},{2:.4f},{3:.4f}\\n\".format(th, fscore, precision, recall))"
   ]
  },
  {
   "cell_type": "code",
   "execution_count": 118,
   "id": "veaMFLZPVBKG",
   "metadata": {
    "id": "veaMFLZPVBKG"
   },
   "outputs": [
    {
     "data": {
      "text/html": [
       "<div>\n",
       "<style scoped>\n",
       "    .dataframe tbody tr th:only-of-type {\n",
       "        vertical-align: middle;\n",
       "    }\n",
       "\n",
       "    .dataframe tbody tr th {\n",
       "        vertical-align: top;\n",
       "    }\n",
       "\n",
       "    .dataframe thead th {\n",
       "        text-align: right;\n",
       "    }\n",
       "</style>\n",
       "<table border=\"1\" class=\"dataframe\">\n",
       "  <thead>\n",
       "    <tr style=\"text-align: right;\">\n",
       "      <th></th>\n",
       "      <th>Threshold</th>\n",
       "      <th>F1-Score</th>\n",
       "      <th>Precision</th>\n",
       "      <th>Recall</th>\n",
       "    </tr>\n",
       "  </thead>\n",
       "  <tbody>\n",
       "    <tr>\n",
       "      <th>0</th>\n",
       "      <td>0.0</td>\n",
       "      <td>0.9975</td>\n",
       "      <td>0.9971</td>\n",
       "      <td>0.9978</td>\n",
       "    </tr>\n",
       "    <tr>\n",
       "      <th>1</th>\n",
       "      <td>0.1</td>\n",
       "      <td>0.9975</td>\n",
       "      <td>0.9971</td>\n",
       "      <td>0.9978</td>\n",
       "    </tr>\n",
       "    <tr>\n",
       "      <th>2</th>\n",
       "      <td>0.2</td>\n",
       "      <td>0.9975</td>\n",
       "      <td>0.9971</td>\n",
       "      <td>0.9978</td>\n",
       "    </tr>\n",
       "    <tr>\n",
       "      <th>3</th>\n",
       "      <td>0.3</td>\n",
       "      <td>0.9977</td>\n",
       "      <td>0.9975</td>\n",
       "      <td>0.9978</td>\n",
       "    </tr>\n",
       "    <tr>\n",
       "      <th>4</th>\n",
       "      <td>0.4</td>\n",
       "      <td>0.9977</td>\n",
       "      <td>0.9975</td>\n",
       "      <td>0.9978</td>\n",
       "    </tr>\n",
       "    <tr>\n",
       "      <th>5</th>\n",
       "      <td>0.5</td>\n",
       "      <td>0.9977</td>\n",
       "      <td>0.9975</td>\n",
       "      <td>0.9978</td>\n",
       "    </tr>\n",
       "    <tr>\n",
       "      <th>6</th>\n",
       "      <td>0.6</td>\n",
       "      <td>0.9977</td>\n",
       "      <td>0.9975</td>\n",
       "      <td>0.9978</td>\n",
       "    </tr>\n",
       "    <tr>\n",
       "      <th>7</th>\n",
       "      <td>0.7</td>\n",
       "      <td>0.9977</td>\n",
       "      <td>0.9975</td>\n",
       "      <td>0.9978</td>\n",
       "    </tr>\n",
       "    <tr>\n",
       "      <th>8</th>\n",
       "      <td>0.8</td>\n",
       "      <td>0.9977</td>\n",
       "      <td>0.9975</td>\n",
       "      <td>0.9978</td>\n",
       "    </tr>\n",
       "    <tr>\n",
       "      <th>9</th>\n",
       "      <td>0.9</td>\n",
       "      <td>0.9977</td>\n",
       "      <td>0.9975</td>\n",
       "      <td>0.9978</td>\n",
       "    </tr>\n",
       "  </tbody>\n",
       "</table>\n",
       "</div>"
      ],
      "text/plain": [
       "   Threshold   F1-Score   Precision   Recall\n",
       "0        0.0     0.9975      0.9971   0.9978\n",
       "1        0.1     0.9975      0.9971   0.9978\n",
       "2        0.2     0.9975      0.9971   0.9978\n",
       "3        0.3     0.9977      0.9975   0.9978\n",
       "4        0.4     0.9977      0.9975   0.9978\n",
       "5        0.5     0.9977      0.9975   0.9978\n",
       "6        0.6     0.9977      0.9975   0.9978\n",
       "7        0.7     0.9977      0.9975   0.9978\n",
       "8        0.8     0.9977      0.9975   0.9978\n",
       "9        0.9     0.9977      0.9975   0.9978"
      ]
     },
     "execution_count": 118,
     "metadata": {},
     "output_type": "execute_result"
    }
   ],
   "source": [
    "BERT_metrics_df = pd.read_csv('BERT_metrics.csv')\n",
    "BERT_metrics_df"
   ]
  },
  {
   "cell_type": "code",
   "execution_count": 157,
   "id": "94c18be7",
   "metadata": {},
   "outputs": [
    {
     "data": {
      "image/png": "[encoded data removed]",
      "text/plain": [
       "<Figure size 432x288 with 1 Axes>"
      ]
     },
     "metadata": {
      "needs_background": "light"
     },
     "output_type": "display_data"
    }
   ],
   "source": [
    "plt.plot(BERT_metrics_df[' Precision'], label='precision')\n",
    "plt.plot(BERT_metrics_df[' Recall'], label='recall')\n",
    "plt.plot(BERT_metrics_df[' F1-Score'], label='f1-score')\n",
    "plt.xlabel(\"index\")\n",
    "plt.ylabel(\"value\")\n",
    "plt.legend()\n",
    "plt.title(\"Precision, Recall and F1-score values\")\n",
    "plt.show()"
   ]
  },
  {
   "cell_type": "code",
   "execution_count": 119,
   "id": "460b6e63",
   "metadata": {},
   "outputs": [
    {
     "data": {
      "text/html": [
       "<div>\n",
       "<style scoped>\n",
       "    .dataframe tbody tr th:only-of-type {\n",
       "        vertical-align: middle;\n",
       "    }\n",
       "\n",
       "    .dataframe tbody tr th {\n",
       "        vertical-align: top;\n",
       "    }\n",
       "\n",
       "    .dataframe thead th {\n",
       "        text-align: right;\n",
       "    }\n",
       "</style>\n",
       "<table border=\"1\" class=\"dataframe\">\n",
       "  <thead>\n",
       "    <tr style=\"text-align: right;\">\n",
       "      <th></th>\n",
       "      <th>F1-score</th>\n",
       "      <th>Threshold</th>\n",
       "    </tr>\n",
       "  </thead>\n",
       "  <tbody>\n",
       "    <tr>\n",
       "      <th>Naive Bayes</th>\n",
       "      <td>0.803653</td>\n",
       "      <td>9.341822e-02</td>\n",
       "    </tr>\n",
       "    <tr>\n",
       "      <th>Naive Bayes down</th>\n",
       "      <td>0.820944</td>\n",
       "      <td>1.103615e-01</td>\n",
       "    </tr>\n",
       "    <tr>\n",
       "      <th>Naive Bayes up</th>\n",
       "      <td>0.831440</td>\n",
       "      <td>1.309410e-01</td>\n",
       "    </tr>\n",
       "    <tr>\n",
       "      <th>Random Forest</th>\n",
       "      <td>0.975309</td>\n",
       "      <td>5.946319e-01</td>\n",
       "    </tr>\n",
       "    <tr>\n",
       "      <th>Random Forest up</th>\n",
       "      <td>0.980286</td>\n",
       "      <td>6.152356e-01</td>\n",
       "    </tr>\n",
       "    <tr>\n",
       "      <th>LightGBM</th>\n",
       "      <td>0.964071</td>\n",
       "      <td>3.761017e-01</td>\n",
       "    </tr>\n",
       "    <tr>\n",
       "      <th>LightGBM up</th>\n",
       "      <td>0.967665</td>\n",
       "      <td>3.405136e-01</td>\n",
       "    </tr>\n",
       "    <tr>\n",
       "      <th>TFIDF - NB</th>\n",
       "      <td>0.847096</td>\n",
       "      <td>4.628623e-151</td>\n",
       "    </tr>\n",
       "    <tr>\n",
       "      <th>TFIDF - NB up</th>\n",
       "      <td>0.900315</td>\n",
       "      <td>1.532390e-156</td>\n",
       "    </tr>\n",
       "    <tr>\n",
       "      <th>TFIDF - RF</th>\n",
       "      <td>0.981337</td>\n",
       "      <td>6.034762e-01</td>\n",
       "    </tr>\n",
       "    <tr>\n",
       "      <th>TFIDF - RF up</th>\n",
       "      <td>0.984117</td>\n",
       "      <td>5.510397e-01</td>\n",
       "    </tr>\n",
       "    <tr>\n",
       "      <th>TFIDF - LightGBM</th>\n",
       "      <td>0.968544</td>\n",
       "      <td>4.632464e-01</td>\n",
       "    </tr>\n",
       "    <tr>\n",
       "      <th>TFIDF - LightGBM up</th>\n",
       "      <td>0.970743</td>\n",
       "      <td>3.321992e-01</td>\n",
       "    </tr>\n",
       "    <tr>\n",
       "      <th>Glove - NB</th>\n",
       "      <td>0.832375</td>\n",
       "      <td>6.730616e-02</td>\n",
       "    </tr>\n",
       "    <tr>\n",
       "      <th>Glove - RF</th>\n",
       "      <td>0.993715</td>\n",
       "      <td>4.050000e-01</td>\n",
       "    </tr>\n",
       "    <tr>\n",
       "      <th>Glove - LightGBM</th>\n",
       "      <td>0.981646</td>\n",
       "      <td>4.772162e-01</td>\n",
       "    </tr>\n",
       "    <tr>\n",
       "      <th>Glove - LightGBM up</th>\n",
       "      <td>0.967665</td>\n",
       "      <td>3.405136e-01</td>\n",
       "    </tr>\n",
       "    <tr>\n",
       "      <th>W2V - NB</th>\n",
       "      <td>0.747793</td>\n",
       "      <td>1.000000e+00</td>\n",
       "    </tr>\n",
       "    <tr>\n",
       "      <th>W2V - RF</th>\n",
       "      <td>0.991527</td>\n",
       "      <td>4.023045e-01</td>\n",
       "    </tr>\n",
       "    <tr>\n",
       "      <th>W2V - LightGBM</th>\n",
       "      <td>0.979917</td>\n",
       "      <td>4.116343e-01</td>\n",
       "    </tr>\n",
       "    <tr>\n",
       "      <th>W2V - LightGBM up</th>\n",
       "      <td>0.967665</td>\n",
       "      <td>3.405136e-01</td>\n",
       "    </tr>\n",
       "    <tr>\n",
       "      <th>Small BERT</th>\n",
       "      <td>0.997700</td>\n",
       "      <td>3.000000e-01</td>\n",
       "    </tr>\n",
       "  </tbody>\n",
       "</table>\n",
       "</div>"
      ],
      "text/plain": [
       "                     F1-score      Threshold\n",
       "Naive Bayes          0.803653   9.341822e-02\n",
       "Naive Bayes down     0.820944   1.103615e-01\n",
       "Naive Bayes up       0.831440   1.309410e-01\n",
       "Random Forest        0.975309   5.946319e-01\n",
       "Random Forest up     0.980286   6.152356e-01\n",
       "LightGBM             0.964071   3.761017e-01\n",
       "LightGBM up          0.967665   3.405136e-01\n",
       "TFIDF - NB           0.847096  4.628623e-151\n",
       "TFIDF - NB up        0.900315  1.532390e-156\n",
       "TFIDF - RF           0.981337   6.034762e-01\n",
       "TFIDF - RF up        0.984117   5.510397e-01\n",
       "TFIDF - LightGBM     0.968544   4.632464e-01\n",
       "TFIDF - LightGBM up  0.970743   3.321992e-01\n",
       "Glove - NB           0.832375   6.730616e-02\n",
       "Glove - RF           0.993715   4.050000e-01\n",
       "Glove - LightGBM     0.981646   4.772162e-01\n",
       "Glove - LightGBM up  0.967665   3.405136e-01\n",
       "W2V - NB             0.747793   1.000000e+00\n",
       "W2V - RF             0.991527   4.023045e-01\n",
       "W2V - LightGBM       0.979917   4.116343e-01\n",
       "W2V - LightGBM up    0.967665   3.405136e-01\n",
       "Small BERT           0.997700   3.000000e-01"
      ]
     },
     "execution_count": 119,
     "metadata": {},
     "output_type": "execute_result"
    }
   ],
   "source": [
    "addResult('Small BERT', BERT_metrics_df[' F1-Score'].max(), BERT_metrics_df['Threshold'][BERT_metrics_df[' F1-Score'].argmax()])\n",
    "result"
   ]
  },
  {
   "cell_type": "markdown",
   "id": "929189f4",
   "metadata": {},
   "source": [
    "###### Highest F1-score by model"
   ]
  },
  {
   "cell_type": "code",
   "execution_count": 125,
   "id": "9ad12874",
   "metadata": {},
   "outputs": [
    {
     "data": {
      "text/html": [
       "<div>\n",
       "<style scoped>\n",
       "    .dataframe tbody tr th:only-of-type {\n",
       "        vertical-align: middle;\n",
       "    }\n",
       "\n",
       "    .dataframe tbody tr th {\n",
       "        vertical-align: top;\n",
       "    }\n",
       "\n",
       "    .dataframe thead th {\n",
       "        text-align: right;\n",
       "    }\n",
       "</style>\n",
       "<table border=\"1\" class=\"dataframe\">\n",
       "  <thead>\n",
       "    <tr style=\"text-align: right;\">\n",
       "      <th></th>\n",
       "      <th>F1-score</th>\n",
       "      <th>Threshold</th>\n",
       "    </tr>\n",
       "  </thead>\n",
       "  <tbody>\n",
       "    <tr>\n",
       "      <th>Small BERT</th>\n",
       "      <td>0.997700</td>\n",
       "      <td>0.300000</td>\n",
       "    </tr>\n",
       "    <tr>\n",
       "      <th>Glove - RF</th>\n",
       "      <td>0.993715</td>\n",
       "      <td>0.405000</td>\n",
       "    </tr>\n",
       "    <tr>\n",
       "      <th>W2V - RF</th>\n",
       "      <td>0.991527</td>\n",
       "      <td>0.402304</td>\n",
       "    </tr>\n",
       "    <tr>\n",
       "      <th>TFIDF - RF up</th>\n",
       "      <td>0.984117</td>\n",
       "      <td>0.551040</td>\n",
       "    </tr>\n",
       "    <tr>\n",
       "      <th>Glove - LightGBM</th>\n",
       "      <td>0.981646</td>\n",
       "      <td>0.477216</td>\n",
       "    </tr>\n",
       "  </tbody>\n",
       "</table>\n",
       "</div>"
      ],
      "text/plain": [
       "                  F1-score  Threshold\n",
       "Small BERT        0.997700   0.300000\n",
       "Glove - RF        0.993715   0.405000\n",
       "W2V - RF          0.991527   0.402304\n",
       "TFIDF - RF up     0.984117   0.551040\n",
       "Glove - LightGBM  0.981646   0.477216"
      ]
     },
     "execution_count": 125,
     "metadata": {},
     "output_type": "execute_result"
    }
   ],
   "source": [
    "result.sort_values(by='F1-score', ascending=False).head()"
   ]
  },
  {
   "cell_type": "code",
   "execution_count": 21,
   "id": "5b17c323",
   "metadata": {},
   "outputs": [
    {
     "name": "stdout",
     "output_type": "stream",
     "text": [
      "model.pkl saved\n"
     ]
    }
   ],
   "source": [
    "joblib.dump(classifier_model, 'model.pkl')\n",
    "print('model.pkl saved')"
   ]
  },
  {
   "cell_type": "markdown",
   "id": "dbc654af",
   "metadata": {},
   "source": [
    "## Conclusion"
   ]
  },
  {
   "cell_type": "markdown",
   "id": "1e1bb0cd",
   "metadata": {},
   "source": [
    "- The BERT model has the highest F1-score of 99.77 with a threshold of 0.3\n",
    "- Random Forest, LightGBM work better for this dataset than Naive Bayes\n",
    "- Upsampling led to some improvement in results for TFIDF\n",
    "- Glove word vectors performed better than the rest"
   ]
  }
 ],
 "metadata": {
  "accelerator": "GPU",
  "colab": {
   "collapsed_sections": [
    "92046dab",
    "74942046",
    "c501aa83",
    "874986e4"
   ],
   "name": "Modeling1.ipynb",
   "provenance": []
  },
  "kernelspec": {
   "display_name": "Python 3 (ipykernel)",
   "language": "python",
   "name": "python3"
  },
  "language_info": {
   "codemirror_mode": {
    "name": "ipython",
    "version": 3
   },
   "file_extension": ".py",
   "mimetype": "text/x-python",
   "name": "python",
   "nbconvert_exporter": "python",
   "pygments_lexer": "ipython3",
   "version": "3.8.8"
  }
 },
 "nbformat": 4,
 "nbformat_minor": 5
}
